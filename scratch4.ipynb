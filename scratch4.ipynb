{
 "cells": [
  {
   "cell_type": "code",
   "execution_count": 17,
   "id": "649adc81",
   "metadata": {},
   "outputs": [],
   "source": [
    "import seaborn as sns\n",
    "import matplotlib.pyplot as plt\n",
    "import pandas as pd\n",
    "import wrangle as w\n",
    "import explore as e\n",
    "import preprocess as p\n",
    "import modeling as m\n",
    "from scipy import stats\n",
    "\n",
    "\n",
    "\n",
    "pd.set_option('display.max_columns', None)\n",
    "pd.set_option('display.width', None)\n",
    "pd.set_option('display.expand_frame_repr', False)"
   ]
  },
  {
   "cell_type": "code",
   "execution_count": 2,
   "id": "ac8b7fd4",
   "metadata": {},
   "outputs": [
    {
     "name": "stdout",
     "output_type": "stream",
     "text": [
      "Found Data\n"
     ]
    },
    {
     "data": {
      "text/html": [
       "<div>\n",
       "<style scoped>\n",
       "    .dataframe tbody tr th:only-of-type {\n",
       "        vertical-align: middle;\n",
       "    }\n",
       "\n",
       "    .dataframe tbody tr th {\n",
       "        vertical-align: top;\n",
       "    }\n",
       "\n",
       "    .dataframe thead th {\n",
       "        text-align: right;\n",
       "    }\n",
       "</style>\n",
       "<table border=\"1\" class=\"dataframe\">\n",
       "  <thead>\n",
       "    <tr style=\"text-align: right;\">\n",
       "      <th></th>\n",
       "      <th>age</th>\n",
       "      <th>income</th>\n",
       "      <th>loan_amount</th>\n",
       "      <th>credit_score</th>\n",
       "      <th>months_employed</th>\n",
       "      <th>num_credit_lines</th>\n",
       "      <th>interest_rate</th>\n",
       "      <th>loan_term</th>\n",
       "      <th>dti_ratio</th>\n",
       "      <th>education</th>\n",
       "      <th>employment_type</th>\n",
       "      <th>marital_status</th>\n",
       "      <th>mortgage</th>\n",
       "      <th>dependents</th>\n",
       "      <th>loan_purpose</th>\n",
       "      <th>cosigned</th>\n",
       "      <th>default</th>\n",
       "    </tr>\n",
       "  </thead>\n",
       "  <tbody>\n",
       "    <tr>\n",
       "      <th>0</th>\n",
       "      <td>56</td>\n",
       "      <td>85994</td>\n",
       "      <td>50587</td>\n",
       "      <td>520</td>\n",
       "      <td>80</td>\n",
       "      <td>4</td>\n",
       "      <td>15.23</td>\n",
       "      <td>36</td>\n",
       "      <td>0.44</td>\n",
       "      <td>Bachelor's</td>\n",
       "      <td>Full-time</td>\n",
       "      <td>Divorced</td>\n",
       "      <td>Yes</td>\n",
       "      <td>Yes</td>\n",
       "      <td>Other</td>\n",
       "      <td>Yes</td>\n",
       "      <td>0</td>\n",
       "    </tr>\n",
       "    <tr>\n",
       "      <th>1</th>\n",
       "      <td>69</td>\n",
       "      <td>50432</td>\n",
       "      <td>124440</td>\n",
       "      <td>458</td>\n",
       "      <td>15</td>\n",
       "      <td>1</td>\n",
       "      <td>4.81</td>\n",
       "      <td>60</td>\n",
       "      <td>0.68</td>\n",
       "      <td>Master's</td>\n",
       "      <td>Full-time</td>\n",
       "      <td>Married</td>\n",
       "      <td>No</td>\n",
       "      <td>No</td>\n",
       "      <td>Other</td>\n",
       "      <td>Yes</td>\n",
       "      <td>0</td>\n",
       "    </tr>\n",
       "    <tr>\n",
       "      <th>2</th>\n",
       "      <td>46</td>\n",
       "      <td>84208</td>\n",
       "      <td>129188</td>\n",
       "      <td>451</td>\n",
       "      <td>26</td>\n",
       "      <td>3</td>\n",
       "      <td>21.17</td>\n",
       "      <td>24</td>\n",
       "      <td>0.31</td>\n",
       "      <td>Master's</td>\n",
       "      <td>Unemployed</td>\n",
       "      <td>Divorced</td>\n",
       "      <td>Yes</td>\n",
       "      <td>Yes</td>\n",
       "      <td>Auto</td>\n",
       "      <td>No</td>\n",
       "      <td>1</td>\n",
       "    </tr>\n",
       "    <tr>\n",
       "      <th>3</th>\n",
       "      <td>32</td>\n",
       "      <td>31713</td>\n",
       "      <td>44799</td>\n",
       "      <td>743</td>\n",
       "      <td>0</td>\n",
       "      <td>3</td>\n",
       "      <td>7.07</td>\n",
       "      <td>24</td>\n",
       "      <td>0.23</td>\n",
       "      <td>High School</td>\n",
       "      <td>Full-time</td>\n",
       "      <td>Married</td>\n",
       "      <td>No</td>\n",
       "      <td>No</td>\n",
       "      <td>Business</td>\n",
       "      <td>No</td>\n",
       "      <td>0</td>\n",
       "    </tr>\n",
       "    <tr>\n",
       "      <th>4</th>\n",
       "      <td>60</td>\n",
       "      <td>20437</td>\n",
       "      <td>9139</td>\n",
       "      <td>633</td>\n",
       "      <td>8</td>\n",
       "      <td>4</td>\n",
       "      <td>6.51</td>\n",
       "      <td>48</td>\n",
       "      <td>0.73</td>\n",
       "      <td>Bachelor's</td>\n",
       "      <td>Unemployed</td>\n",
       "      <td>Divorced</td>\n",
       "      <td>No</td>\n",
       "      <td>Yes</td>\n",
       "      <td>Auto</td>\n",
       "      <td>No</td>\n",
       "      <td>0</td>\n",
       "    </tr>\n",
       "  </tbody>\n",
       "</table>\n",
       "</div>"
      ],
      "text/plain": [
       "   age  income  loan_amount  credit_score  months_employed  num_credit_lines  interest_rate  loan_term  dti_ratio    education employment_type marital_status mortgage dependents loan_purpose cosigned  default\n",
       "0   56   85994        50587           520               80                 4          15.23         36       0.44   Bachelor's       Full-time       Divorced      Yes        Yes        Other      Yes        0\n",
       "1   69   50432       124440           458               15                 1           4.81         60       0.68     Master's       Full-time        Married       No         No        Other      Yes        0\n",
       "2   46   84208       129188           451               26                 3          21.17         24       0.31     Master's      Unemployed       Divorced      Yes        Yes         Auto       No        1\n",
       "3   32   31713        44799           743                0                 3           7.07         24       0.23  High School       Full-time        Married       No         No     Business       No        0\n",
       "4   60   20437         9139           633                8                 4           6.51         48       0.73   Bachelor's      Unemployed       Divorced       No        Yes         Auto       No        0"
      ]
     },
     "execution_count": 2,
     "metadata": {},
     "output_type": "execute_result"
    }
   ],
   "source": [
    "train = w.wrangle_data()\n",
    "train.head()"
   ]
  },
  {
   "cell_type": "code",
   "execution_count": 3,
   "id": "54b27b1a",
   "metadata": {},
   "outputs": [],
   "source": [
    "train = e.bin_data(train)"
   ]
  },
  {
   "cell_type": "code",
   "execution_count": 4,
   "id": "3180d4ad",
   "metadata": {},
   "outputs": [],
   "source": [
    "X_train, y_train = p.xy_split(train)"
   ]
  },
  {
   "cell_type": "code",
   "execution_count": 5,
   "id": "8a966438",
   "metadata": {},
   "outputs": [],
   "source": [
    "X_train = X_train.drop(columns=['months_employed', 'years_employed', 'loan_amount', 'credit_score', 'age_bin', 'income', 'interest_bin', 'loan_term', 'dti_ratio', 'num_credit_lines', 'education', 'employment_type', 'marital_status', 'mortgage', 'dependents', 'loan_purpose', 'cosigned'])"
   ]
  },
  {
   "cell_type": "code",
   "execution_count": 6,
   "id": "e3203ef3",
   "metadata": {},
   "outputs": [
    {
     "data": {
      "text/plain": [
       "(255347, 6)"
      ]
     },
     "execution_count": 6,
     "metadata": {},
     "output_type": "execute_result"
    }
   ],
   "source": [
    "X_train.shape"
   ]
  },
  {
   "cell_type": "code",
   "execution_count": 7,
   "id": "7562af45",
   "metadata": {
    "scrolled": true
   },
   "outputs": [
    {
     "data": {
      "text/plain": [
       "0         0\n",
       "1         0\n",
       "2         1\n",
       "3         0\n",
       "4         0\n",
       "         ..\n",
       "255342    0\n",
       "255343    1\n",
       "255344    0\n",
       "255345    0\n",
       "255346    0\n",
       "Name: default, Length: 255347, dtype: int64"
      ]
     },
     "execution_count": 7,
     "metadata": {},
     "output_type": "execute_result"
    }
   ],
   "source": [
    "y_train"
   ]
  },
  {
   "cell_type": "code",
   "execution_count": 8,
   "id": "7c890a8d",
   "metadata": {
    "scrolled": false
   },
   "outputs": [],
   "source": [
    "\n",
    "X_train = pd.get_dummies(X_train)\n"
   ]
  },
  {
   "cell_type": "code",
   "execution_count": 9,
   "id": "006cc535",
   "metadata": {},
   "outputs": [
    {
     "data": {
      "text/html": [
       "<div>\n",
       "<style scoped>\n",
       "    .dataframe tbody tr th:only-of-type {\n",
       "        vertical-align: middle;\n",
       "    }\n",
       "\n",
       "    .dataframe tbody tr th {\n",
       "        vertical-align: top;\n",
       "    }\n",
       "\n",
       "    .dataframe thead th {\n",
       "        text-align: right;\n",
       "    }\n",
       "</style>\n",
       "<table border=\"1\" class=\"dataframe\">\n",
       "  <thead>\n",
       "    <tr style=\"text-align: right;\">\n",
       "      <th></th>\n",
       "      <th>age</th>\n",
       "      <th>interest_rate</th>\n",
       "      <th>credit_bin_300s</th>\n",
       "      <th>credit_bin_400s</th>\n",
       "      <th>credit_bin_500s</th>\n",
       "      <th>credit_bin_600s</th>\n",
       "      <th>credit_bin_700s</th>\n",
       "      <th>credit_bin_800s</th>\n",
       "      <th>loan_amount_bin_5k-50k</th>\n",
       "      <th>loan_amount_bin_50k-100k</th>\n",
       "      <th>loan_amount_bin_100k-150k</th>\n",
       "      <th>loan_amount_bin_150k-200k</th>\n",
       "      <th>loan_amount_bin_200k-250k</th>\n",
       "      <th>income_bin_15k-30k</th>\n",
       "      <th>income_bin_30k-60k</th>\n",
       "      <th>income_bin_60k-90k</th>\n",
       "      <th>income_bin_90k-120k</th>\n",
       "      <th>income_bin_120k-150k</th>\n",
       "      <th>years_employed_bin_0-2</th>\n",
       "      <th>years_employed_bin_3-4</th>\n",
       "      <th>years_employed_bin_5-6</th>\n",
       "      <th>years_employed_bin_7-8</th>\n",
       "      <th>years_employed_bin_9-10</th>\n",
       "    </tr>\n",
       "  </thead>\n",
       "  <tbody>\n",
       "    <tr>\n",
       "      <th>0</th>\n",
       "      <td>56</td>\n",
       "      <td>15.23</td>\n",
       "      <td>0</td>\n",
       "      <td>0</td>\n",
       "      <td>1</td>\n",
       "      <td>0</td>\n",
       "      <td>0</td>\n",
       "      <td>0</td>\n",
       "      <td>0</td>\n",
       "      <td>1</td>\n",
       "      <td>0</td>\n",
       "      <td>0</td>\n",
       "      <td>0</td>\n",
       "      <td>0</td>\n",
       "      <td>0</td>\n",
       "      <td>1</td>\n",
       "      <td>0</td>\n",
       "      <td>0</td>\n",
       "      <td>0</td>\n",
       "      <td>0</td>\n",
       "      <td>1</td>\n",
       "      <td>0</td>\n",
       "      <td>0</td>\n",
       "    </tr>\n",
       "    <tr>\n",
       "      <th>1</th>\n",
       "      <td>69</td>\n",
       "      <td>4.81</td>\n",
       "      <td>0</td>\n",
       "      <td>1</td>\n",
       "      <td>0</td>\n",
       "      <td>0</td>\n",
       "      <td>0</td>\n",
       "      <td>0</td>\n",
       "      <td>0</td>\n",
       "      <td>0</td>\n",
       "      <td>1</td>\n",
       "      <td>0</td>\n",
       "      <td>0</td>\n",
       "      <td>0</td>\n",
       "      <td>1</td>\n",
       "      <td>0</td>\n",
       "      <td>0</td>\n",
       "      <td>0</td>\n",
       "      <td>1</td>\n",
       "      <td>0</td>\n",
       "      <td>0</td>\n",
       "      <td>0</td>\n",
       "      <td>0</td>\n",
       "    </tr>\n",
       "    <tr>\n",
       "      <th>2</th>\n",
       "      <td>46</td>\n",
       "      <td>21.17</td>\n",
       "      <td>0</td>\n",
       "      <td>1</td>\n",
       "      <td>0</td>\n",
       "      <td>0</td>\n",
       "      <td>0</td>\n",
       "      <td>0</td>\n",
       "      <td>0</td>\n",
       "      <td>0</td>\n",
       "      <td>1</td>\n",
       "      <td>0</td>\n",
       "      <td>0</td>\n",
       "      <td>0</td>\n",
       "      <td>0</td>\n",
       "      <td>1</td>\n",
       "      <td>0</td>\n",
       "      <td>0</td>\n",
       "      <td>1</td>\n",
       "      <td>0</td>\n",
       "      <td>0</td>\n",
       "      <td>0</td>\n",
       "      <td>0</td>\n",
       "    </tr>\n",
       "    <tr>\n",
       "      <th>3</th>\n",
       "      <td>32</td>\n",
       "      <td>7.07</td>\n",
       "      <td>0</td>\n",
       "      <td>0</td>\n",
       "      <td>0</td>\n",
       "      <td>0</td>\n",
       "      <td>1</td>\n",
       "      <td>0</td>\n",
       "      <td>1</td>\n",
       "      <td>0</td>\n",
       "      <td>0</td>\n",
       "      <td>0</td>\n",
       "      <td>0</td>\n",
       "      <td>0</td>\n",
       "      <td>1</td>\n",
       "      <td>0</td>\n",
       "      <td>0</td>\n",
       "      <td>0</td>\n",
       "      <td>1</td>\n",
       "      <td>0</td>\n",
       "      <td>0</td>\n",
       "      <td>0</td>\n",
       "      <td>0</td>\n",
       "    </tr>\n",
       "    <tr>\n",
       "      <th>4</th>\n",
       "      <td>60</td>\n",
       "      <td>6.51</td>\n",
       "      <td>0</td>\n",
       "      <td>0</td>\n",
       "      <td>0</td>\n",
       "      <td>1</td>\n",
       "      <td>0</td>\n",
       "      <td>0</td>\n",
       "      <td>1</td>\n",
       "      <td>0</td>\n",
       "      <td>0</td>\n",
       "      <td>0</td>\n",
       "      <td>0</td>\n",
       "      <td>1</td>\n",
       "      <td>0</td>\n",
       "      <td>0</td>\n",
       "      <td>0</td>\n",
       "      <td>0</td>\n",
       "      <td>1</td>\n",
       "      <td>0</td>\n",
       "      <td>0</td>\n",
       "      <td>0</td>\n",
       "      <td>0</td>\n",
       "    </tr>\n",
       "  </tbody>\n",
       "</table>\n",
       "</div>"
      ],
      "text/plain": [
       "   age  interest_rate  credit_bin_300s  credit_bin_400s  credit_bin_500s  credit_bin_600s  credit_bin_700s  credit_bin_800s  loan_amount_bin_5k-50k  loan_amount_bin_50k-100k  loan_amount_bin_100k-150k  loan_amount_bin_150k-200k  loan_amount_bin_200k-250k  income_bin_15k-30k  income_bin_30k-60k  income_bin_60k-90k  income_bin_90k-120k  income_bin_120k-150k  years_employed_bin_0-2  years_employed_bin_3-4  years_employed_bin_5-6  years_employed_bin_7-8  years_employed_bin_9-10\n",
       "0   56          15.23                0                0                1                0                0                0                       0                         1                          0                          0                          0                   0                   0                   1                    0                     0                       0                       0                       1                       0                        0\n",
       "1   69           4.81                0                1                0                0                0                0                       0                         0                          1                          0                          0                   0                   1                   0                    0                     0                       1                       0                       0                       0                        0\n",
       "2   46          21.17                0                1                0                0                0                0                       0                         0                          1                          0                          0                   0                   0                   1                    0                     0                       1                       0                       0                       0                        0\n",
       "3   32           7.07                0                0                0                0                1                0                       1                         0                          0                          0                          0                   0                   1                   0                    0                     0                       1                       0                       0                       0                        0\n",
       "4   60           6.51                0                0                0                1                0                0                       1                         0                          0                          0                          0                   1                   0                   0                    0                     0                       1                       0                       0                       0                        0"
      ]
     },
     "execution_count": 9,
     "metadata": {},
     "output_type": "execute_result"
    }
   ],
   "source": [
    "X_train.head()"
   ]
  },
  {
   "cell_type": "code",
   "execution_count": 10,
   "id": "054f4f78",
   "metadata": {},
   "outputs": [
    {
     "data": {
      "text/html": [
       "<div>\n",
       "<style scoped>\n",
       "    .dataframe tbody tr th:only-of-type {\n",
       "        vertical-align: middle;\n",
       "    }\n",
       "\n",
       "    .dataframe tbody tr th {\n",
       "        vertical-align: top;\n",
       "    }\n",
       "\n",
       "    .dataframe thead th {\n",
       "        text-align: right;\n",
       "    }\n",
       "</style>\n",
       "<table border=\"1\" class=\"dataframe\">\n",
       "  <thead>\n",
       "    <tr style=\"text-align: right;\">\n",
       "      <th></th>\n",
       "      <th>age</th>\n",
       "      <th>interest_rate</th>\n",
       "      <th>credit_bin_300s</th>\n",
       "      <th>credit_bin_400s</th>\n",
       "      <th>credit_bin_500s</th>\n",
       "      <th>credit_bin_600s</th>\n",
       "      <th>credit_bin_700s</th>\n",
       "      <th>credit_bin_800s</th>\n",
       "      <th>loan_amount_bin_5k-50k</th>\n",
       "      <th>loan_amount_bin_50k-100k</th>\n",
       "      <th>loan_amount_bin_100k-150k</th>\n",
       "      <th>loan_amount_bin_150k-200k</th>\n",
       "      <th>loan_amount_bin_200k-250k</th>\n",
       "      <th>income_bin_15k-30k</th>\n",
       "      <th>income_bin_30k-60k</th>\n",
       "      <th>income_bin_60k-90k</th>\n",
       "      <th>income_bin_90k-120k</th>\n",
       "      <th>income_bin_120k-150k</th>\n",
       "      <th>years_employed_bin_0-2</th>\n",
       "      <th>years_employed_bin_3-4</th>\n",
       "      <th>years_employed_bin_5-6</th>\n",
       "      <th>years_employed_bin_7-8</th>\n",
       "      <th>years_employed_bin_9-10</th>\n",
       "    </tr>\n",
       "  </thead>\n",
       "  <tbody>\n",
       "    <tr>\n",
       "      <th>0</th>\n",
       "      <td>0.745098</td>\n",
       "      <td>0.575217</td>\n",
       "      <td>0</td>\n",
       "      <td>0</td>\n",
       "      <td>1</td>\n",
       "      <td>0</td>\n",
       "      <td>0</td>\n",
       "      <td>0</td>\n",
       "      <td>0</td>\n",
       "      <td>1</td>\n",
       "      <td>0</td>\n",
       "      <td>0</td>\n",
       "      <td>0</td>\n",
       "      <td>0</td>\n",
       "      <td>0</td>\n",
       "      <td>1</td>\n",
       "      <td>0</td>\n",
       "      <td>0</td>\n",
       "      <td>0</td>\n",
       "      <td>0</td>\n",
       "      <td>1</td>\n",
       "      <td>0</td>\n",
       "      <td>0</td>\n",
       "    </tr>\n",
       "    <tr>\n",
       "      <th>1</th>\n",
       "      <td>1.000000</td>\n",
       "      <td>0.122174</td>\n",
       "      <td>0</td>\n",
       "      <td>1</td>\n",
       "      <td>0</td>\n",
       "      <td>0</td>\n",
       "      <td>0</td>\n",
       "      <td>0</td>\n",
       "      <td>0</td>\n",
       "      <td>0</td>\n",
       "      <td>1</td>\n",
       "      <td>0</td>\n",
       "      <td>0</td>\n",
       "      <td>0</td>\n",
       "      <td>1</td>\n",
       "      <td>0</td>\n",
       "      <td>0</td>\n",
       "      <td>0</td>\n",
       "      <td>1</td>\n",
       "      <td>0</td>\n",
       "      <td>0</td>\n",
       "      <td>0</td>\n",
       "      <td>0</td>\n",
       "    </tr>\n",
       "    <tr>\n",
       "      <th>2</th>\n",
       "      <td>0.549020</td>\n",
       "      <td>0.833478</td>\n",
       "      <td>0</td>\n",
       "      <td>1</td>\n",
       "      <td>0</td>\n",
       "      <td>0</td>\n",
       "      <td>0</td>\n",
       "      <td>0</td>\n",
       "      <td>0</td>\n",
       "      <td>0</td>\n",
       "      <td>1</td>\n",
       "      <td>0</td>\n",
       "      <td>0</td>\n",
       "      <td>0</td>\n",
       "      <td>0</td>\n",
       "      <td>1</td>\n",
       "      <td>0</td>\n",
       "      <td>0</td>\n",
       "      <td>1</td>\n",
       "      <td>0</td>\n",
       "      <td>0</td>\n",
       "      <td>0</td>\n",
       "      <td>0</td>\n",
       "    </tr>\n",
       "    <tr>\n",
       "      <th>3</th>\n",
       "      <td>0.274510</td>\n",
       "      <td>0.220435</td>\n",
       "      <td>0</td>\n",
       "      <td>0</td>\n",
       "      <td>0</td>\n",
       "      <td>0</td>\n",
       "      <td>1</td>\n",
       "      <td>0</td>\n",
       "      <td>1</td>\n",
       "      <td>0</td>\n",
       "      <td>0</td>\n",
       "      <td>0</td>\n",
       "      <td>0</td>\n",
       "      <td>0</td>\n",
       "      <td>1</td>\n",
       "      <td>0</td>\n",
       "      <td>0</td>\n",
       "      <td>0</td>\n",
       "      <td>1</td>\n",
       "      <td>0</td>\n",
       "      <td>0</td>\n",
       "      <td>0</td>\n",
       "      <td>0</td>\n",
       "    </tr>\n",
       "    <tr>\n",
       "      <th>4</th>\n",
       "      <td>0.823529</td>\n",
       "      <td>0.196087</td>\n",
       "      <td>0</td>\n",
       "      <td>0</td>\n",
       "      <td>0</td>\n",
       "      <td>1</td>\n",
       "      <td>0</td>\n",
       "      <td>0</td>\n",
       "      <td>1</td>\n",
       "      <td>0</td>\n",
       "      <td>0</td>\n",
       "      <td>0</td>\n",
       "      <td>0</td>\n",
       "      <td>1</td>\n",
       "      <td>0</td>\n",
       "      <td>0</td>\n",
       "      <td>0</td>\n",
       "      <td>0</td>\n",
       "      <td>1</td>\n",
       "      <td>0</td>\n",
       "      <td>0</td>\n",
       "      <td>0</td>\n",
       "      <td>0</td>\n",
       "    </tr>\n",
       "  </tbody>\n",
       "</table>\n",
       "</div>"
      ],
      "text/plain": [
       "        age  interest_rate  credit_bin_300s  credit_bin_400s  credit_bin_500s  credit_bin_600s  credit_bin_700s  credit_bin_800s  loan_amount_bin_5k-50k  loan_amount_bin_50k-100k  loan_amount_bin_100k-150k  loan_amount_bin_150k-200k  loan_amount_bin_200k-250k  income_bin_15k-30k  income_bin_30k-60k  income_bin_60k-90k  income_bin_90k-120k  income_bin_120k-150k  years_employed_bin_0-2  years_employed_bin_3-4  years_employed_bin_5-6  years_employed_bin_7-8  years_employed_bin_9-10\n",
       "0  0.745098       0.575217                0                0                1                0                0                0                       0                         1                          0                          0                          0                   0                   0                   1                    0                     0                       0                       0                       1                       0                        0\n",
       "1  1.000000       0.122174                0                1                0                0                0                0                       0                         0                          1                          0                          0                   0                   1                   0                    0                     0                       1                       0                       0                       0                        0\n",
       "2  0.549020       0.833478                0                1                0                0                0                0                       0                         0                          1                          0                          0                   0                   0                   1                    0                     0                       1                       0                       0                       0                        0\n",
       "3  0.274510       0.220435                0                0                0                0                1                0                       1                         0                          0                          0                          0                   0                   1                   0                    0                     0                       1                       0                       0                       0                        0\n",
       "4  0.823529       0.196087                0                0                0                1                0                0                       1                         0                          0                          0                          0                   1                   0                   0                    0                     0                       1                       0                       0                       0                        0"
      ]
     },
     "execution_count": 10,
     "metadata": {},
     "output_type": "execute_result"
    }
   ],
   "source": [
    "X_train = p.scale(X_train)\n",
    "X_train.head()"
   ]
  },
  {
   "cell_type": "code",
   "execution_count": 11,
   "id": "b826f081",
   "metadata": {},
   "outputs": [
    {
     "data": {
      "text/plain": [
       "0    0\n",
       "Name: default, dtype: int64"
      ]
     },
     "execution_count": 11,
     "metadata": {},
     "output_type": "execute_result"
    }
   ],
   "source": [
    "y_train.mode()"
   ]
  },
  {
   "cell_type": "code",
   "execution_count": 12,
   "id": "d37bc9e6",
   "metadata": {},
   "outputs": [
    {
     "data": {
      "text/plain": [
       "0.8838717509898295"
      ]
     },
     "execution_count": 12,
     "metadata": {},
     "output_type": "execute_result"
    }
   ],
   "source": [
    "baseline = (y_train == 0).mean()\n",
    "baseline"
   ]
  },
  {
   "cell_type": "code",
   "execution_count": 13,
   "id": "2c61953d",
   "metadata": {
    "scrolled": true
   },
   "outputs": [
    {
     "name": "stdout",
     "output_type": "stream",
     "text": [
      "Train Accuracy = 0.6751361872275766\n"
     ]
    }
   ],
   "source": [
    "m.r_forest(X_train, y_train)"
   ]
  },
  {
   "cell_type": "code",
   "execution_count": 14,
   "id": "1859ec83",
   "metadata": {
    "scrolled": true
   },
   "outputs": [
    {
     "name": "stdout",
     "output_type": "stream",
     "text": [
      "Train Accuracy = 0.6640179833716472\n"
     ]
    }
   ],
   "source": [
    "m.d_tree(X_train, y_train)"
   ]
  },
  {
   "cell_type": "code",
   "execution_count": 15,
   "id": "1532fa5b",
   "metadata": {},
   "outputs": [],
   "source": [
    "#m.knn_m(X_train, y_train)"
   ]
  },
  {
   "cell_type": "code",
   "execution_count": 36,
   "id": "ddf10276",
   "metadata": {},
   "outputs": [
    {
     "data": {
      "text/plain": [
       "36.55953866387887"
      ]
     },
     "execution_count": 36,
     "metadata": {},
     "output_type": "execute_result"
    }
   ],
   "source": [
    "train[train.default == 1].age.mean()"
   ]
  },
  {
   "cell_type": "code",
   "execution_count": 37,
   "id": "32bf23ec",
   "metadata": {},
   "outputs": [
    {
     "data": {
      "text/plain": [
       "43.498306226429136"
      ]
     },
     "execution_count": 37,
     "metadata": {},
     "output_type": "execute_result"
    }
   ],
   "source": [
    "train.age.mean()"
   ]
  },
  {
   "cell_type": "code",
   "execution_count": 33,
   "id": "5a23f0e6",
   "metadata": {},
   "outputs": [
    {
     "name": "stdout",
     "output_type": "stream",
     "text": [
      "a = 0.5\n",
      "t = -85.97673872931917\n",
      "p = 0.0\n",
      "\n",
      "We fail to reject null hypothesis.\n"
     ]
    }
   ],
   "source": [
    "\n",
    "\n",
    "a = .5\n",
    "\n",
    "# an array of all observed values of the subgroup\n",
    "default_sample = train[train.default == 1].age\n",
    "\n",
    "# the population mean\n",
    "overall_mean = train['age'].mean()\n",
    "\n",
    "t, p = stats.ttest_1samp(default_sample, overall_mean)\n",
    "\n",
    "print(f'a = {a}')\n",
    "print(f't = {t}')\n",
    "print(f'p = {p}')\n",
    "print('')\n",
    "\n",
    "if p/2 > a:\n",
    "    print(\"We fail to reject the null hypothesis.\")\n",
    "elif t < 0:\n",
    "    print(\"We fail to reject null hypothesis.\")\n",
    "else:\n",
    "    print(\"We reject the null hypothesis.\")\n"
   ]
  },
  {
   "cell_type": "code",
   "execution_count": 31,
   "id": "aa460c69",
   "metadata": {},
   "outputs": [],
   "source": [
    "def t_test(df, feature):\n",
    "\n",
    "    a = .5\n",
    "\n",
    "    # an array of all observed values of the subgroup\n",
    "    default_sample = df[df.default == 1][feature]\n",
    "\n",
    "    # the population mean\n",
    "    overall_mean = df[feature].mean()\n",
    "\n",
    "    t, p = stats.ttest_1samp(default_sample, overall_mean)\n",
    "\n",
    "    print(f'a = {a}')\n",
    "    print(f't = {t}')\n",
    "    print(f'p = {p}')\n",
    "    print('')\n",
    "\n",
    "    if p/2 > a:\n",
    "        print(\"We fail to reject the null hypothesis.\")\n",
    "    elif t < 0:\n",
    "        print(\"We fail to reject null hypothesis.\")\n",
    "    else:\n",
    "        print(\"We reject the null hypothesis.\")\n"
   ]
  },
  {
   "cell_type": "code",
   "execution_count": 34,
   "id": "5a3a710a",
   "metadata": {},
   "outputs": [
    {
     "name": "stdout",
     "output_type": "stream",
     "text": [
      "a = 0.5\n",
      "t = 65.48351892915397\n",
      "p = 0.0\n",
      "\n",
      "We reject the null hypothesis.\n"
     ]
    }
   ],
   "source": [
    "t_test(train, 'interest_rate')"
   ]
  },
  {
   "cell_type": "code",
   "execution_count": null,
   "id": "9276242c",
   "metadata": {},
   "outputs": [],
   "source": []
  }
 ],
 "metadata": {
  "kernelspec": {
   "display_name": "Python 3 (ipykernel)",
   "language": "python",
   "name": "python3"
  },
  "language_info": {
   "codemirror_mode": {
    "name": "ipython",
    "version": 3
   },
   "file_extension": ".py",
   "mimetype": "text/x-python",
   "name": "python",
   "nbconvert_exporter": "python",
   "pygments_lexer": "ipython3",
   "version": "3.11.3"
  }
 },
 "nbformat": 4,
 "nbformat_minor": 5
}
