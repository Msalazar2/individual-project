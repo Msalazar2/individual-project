{
 "cells": [
  {
   "cell_type": "markdown",
   "id": "7eda4eba",
   "metadata": {},
   "source": [
    "# Predicting Loan Defaults"
   ]
  },
  {
   "cell_type": "markdown",
   "id": "f5c945fe",
   "metadata": {},
   "source": [
    "## Goal:\n",
    "\n",
    "* Discover features driving borrowers to default.\n",
    "\n",
    "* Build a classififcation model to predict defaults."
   ]
  },
  {
   "cell_type": "markdown",
   "id": "399d12c5",
   "metadata": {},
   "source": [
    "___"
   ]
  },
  {
   "cell_type": "markdown",
   "id": "1bc4b3b2",
   "metadata": {},
   "source": [
    "# Imports"
   ]
  },
  {
   "cell_type": "code",
   "execution_count": 1,
   "id": "91a62a0e",
   "metadata": {},
   "outputs": [],
   "source": [
    "import wrangle as w\n",
    "import explore as e\n",
    "import preprocess as p\n",
    "import modeling as m\n",
    "\n",
    "import pandas as pd\n",
    "import seaborn as sns\n",
    "import matplotlib.pyplot as plt\n",
    "\n"
   ]
  },
  {
   "cell_type": "markdown",
   "id": "727cbd99",
   "metadata": {},
   "source": [
    "---"
   ]
  },
  {
   "cell_type": "markdown",
   "id": "451fd2f1",
   "metadata": {},
   "source": [
    "# Dictionary"
   ]
  },
  {
   "cell_type": "markdown",
   "id": "ecfd5038",
   "metadata": {},
   "source": [
    "| Column       | Column_type | Data_type| Description                                                                |\n",
    "|--------------|-------------|----------|----------------------------------------------------------------------------|\n",
    "|LoanID\t       |Identifier   |string    |A unique identifier for each loan.                                          |\n",
    "|Age\t       |Feature      |integer\t|Age of the borrower.                                                        |\n",
    "|Income        |Feature      |integer   |Annual income of the borrower.                                              |\n",
    "|LoanAmount    |Feature      |integer\t|Amount of money being borrowed.                                             |\n",
    "|CreditScore   |Feature      |integer\t|Credit score of the borrower, indicating their creditworthiness.            |\n",
    "|MonthsEmployed|Feature      |integer\t|Number of months the borrower has been employed.                            |\n",
    "|NumCreditLines|Feature      |integer\t|Number of credit lines the borrower has open.                               |\n",
    "|InterestRate  |Feature      |float\t    |Interest rate for the loan.                                                 |\n",
    "|LoanTerm      |Feature      |integer\t|Term length of the loan in months.                                          |\n",
    "|DTIRatio      |Feature      |float\t    |Debt-to-Income ratio, borrower's debt compared to their income.             |\n",
    "|Education     |Feature      |string\t|Highest level of education attained by the borrower.                        |\n",
    "|EmploymentType|Feature      |string\t|Type of employment status of the borrower.                                  |\n",
    "|MaritalStatus |Feature      |string\t|Marital status of the borrower (Single, Married, Divorced).                 |\n",
    "|HasMortgage   |Feature      |string\t|Whether the borrower has a mortgage (Yes or No).                            |\n",
    "|HasDependents |Feature      |string\t|Whether the borrower has dependents (Yes or No).                            |\n",
    "|LoanPurpose   |Feature      |string\t|Purpose of the loan (Home, Auto, Education, Business, Other).               |\n",
    "|HasCoSigner   |Feature      |string\t|Whether the loan has a co-signer (Yes or No).                               |\n",
    "|Default\t   |Target       |integer\t|Binary target variable indicating whether the loan defaulted (1) or not (0).|"
   ]
  },
  {
   "cell_type": "markdown",
   "id": "e8e01566",
   "metadata": {},
   "source": [
    "---"
   ]
  },
  {
   "cell_type": "markdown",
   "id": "e6745515",
   "metadata": {},
   "source": [
    "# Acquire & Wrangle\n",
    "\n"
   ]
  },
  {
   "cell_type": "markdown",
   "id": "0ac3490f",
   "metadata": {},
   "source": [
    "* Data acquired from Coursera into a csv file\n",
    "\n",
    "* Renamed columns\n",
    "\n",
    "* Lowercased column names\n",
    "\n",
    "* Dropped LoanID column\n",
    "\n",
    "* Split data 70%,15%,15%"
   ]
  },
  {
   "cell_type": "code",
   "execution_count": 2,
   "id": "dd492eab",
   "metadata": {},
   "outputs": [
    {
     "name": "stdout",
     "output_type": "stream",
     "text": [
      "Found Data\n"
     ]
    },
    {
     "data": {
      "text/plain": [
       "((178742, 17), (38302, 17), (38303, 17))"
      ]
     },
     "execution_count": 2,
     "metadata": {},
     "output_type": "execute_result"
    }
   ],
   "source": [
    "# read csv and apply all preparations to dataset.\n",
    "train, val, test = w.wrangle_data()\n",
    "\n",
    "train.shape, val.shape, test.shape"
   ]
  },
  {
   "cell_type": "markdown",
   "id": "66d813fc",
   "metadata": {},
   "source": [
    "---"
   ]
  },
  {
   "cell_type": "markdown",
   "id": "22ab07b7",
   "metadata": {},
   "source": [
    "# Exploration"
   ]
  },
  {
   "cell_type": "code",
   "execution_count": 3,
   "id": "ed5fe52b",
   "metadata": {},
   "outputs": [],
   "source": [
    "# Make copy of train and add new binned features.\n",
    "train.copy = e.bin_data(train)\n",
    "val.copy = e.bin_data(val)"
   ]
  },
  {
   "cell_type": "markdown",
   "id": "ac6d11fd",
   "metadata": {},
   "source": [
    "## 1. Is there a difference in interest rates for borrowers that default and those that did not ?\n",
    "\n",
    "### H0: Mean of interest rates of defaults = Mean of interest rates of all borrowers\n",
    "\n",
    "### Ha: Mean of interest rates of defaults != Mean of interest rates of all borrowers"
   ]
  },
  {
   "cell_type": "code",
   "execution_count": 4,
   "id": "ead41f08",
   "metadata": {
    "scrolled": false
   },
   "outputs": [
    {
     "data": {
      "image/png": "[encoded data removed]",
      "text/plain": [
       "<Figure size 640x480 with 1 Axes>"
      ]
     },
     "metadata": {},
     "output_type": "display_data"
    }
   ],
   "source": [
    "# Call function to visualize barplot.\n",
    "e.plt_1(train.copy)"
   ]
  },
  {
   "cell_type": "code",
   "execution_count": 5,
   "id": "a6368d4e",
   "metadata": {
    "scrolled": true
   },
   "outputs": [
    {
     "name": "stdout",
     "output_type": "stream",
     "text": [
      "a = 0.5\n",
      "t = 54.29330067531287\n",
      "p = 0.0\n",
      "\n",
      "We reject the null hypothesis.\n"
     ]
    }
   ],
   "source": [
    "# 1 sample, 2 tailed t-test\n",
    "e.t_test(train.copy, 'interest_rate')"
   ]
  },
  {
   "cell_type": "markdown",
   "id": "bae3d6ea",
   "metadata": {},
   "source": [
    "### Conclusion: \n",
    "### - Mean of interest rates of defaults != Mean of interest rates of all borrowers\n",
    "### - As interest rates increase, the mean of default increases"
   ]
  },
  {
   "cell_type": "markdown",
   "id": "e4a46b13",
   "metadata": {},
   "source": [
    "---"
   ]
  },
  {
   "cell_type": "markdown",
   "id": "e75583b6",
   "metadata": {},
   "source": [
    "## 2. Is there a difference in loan amounts for borrowers that default and those that did not ?\n",
    "\n",
    "### H0: Mean of loan amounts of defaults = Mean of loan amount of all borrowers\n",
    "\n",
    "### Ha: Mean of loan amounts of defaults != Mean of loan amount of all borrowers"
   ]
  },
  {
   "cell_type": "code",
   "execution_count": 6,
   "id": "73acd0c4",
   "metadata": {
    "scrolled": false
   },
   "outputs": [
    {
     "data": {
      "image/png": "[encoded data removed]",
      "text/plain": [
       "<Figure size 640x480 with 1 Axes>"
      ]
     },
     "metadata": {},
     "output_type": "display_data"
    }
   ],
   "source": [
    "# Call function to visualize barplot.\n",
    "e.plt_3(train.copy)"
   ]
  },
  {
   "cell_type": "code",
   "execution_count": 7,
   "id": "1dcd28da",
   "metadata": {},
   "outputs": [
    {
     "name": "stdout",
     "output_type": "stream",
     "text": [
      "a = 0.5\n",
      "t = 34.59541300967391\n",
      "p = 5.127603438140647e-255\n",
      "\n",
      "We reject the null hypothesis.\n"
     ]
    }
   ],
   "source": [
    "# 1 sample, 2 tailed t-test\n",
    "e.t_test(train.copy, 'loan_amount')"
   ]
  },
  {
   "cell_type": "markdown",
   "id": "748a74b8",
   "metadata": {},
   "source": [
    "### Conclusion: \n",
    "\n",
    "### - Mean of loan amounts of defaults != Mean of loan amount of all borrowers\n",
    "### - As loan amount increase, the mean of default increases"
   ]
  },
  {
   "cell_type": "markdown",
   "id": "abfe557b",
   "metadata": {},
   "source": [
    "---"
   ]
  },
  {
   "cell_type": "markdown",
   "id": "559cb3c0",
   "metadata": {},
   "source": [
    "## 3. Is there a difference age for borrowers that default and those that did not ?\n",
    "\n",
    "### H0:  Mean of age of defaults = Mean of age of all borrowers\n",
    "\n",
    "### Ha: Mean of age of defaults != Mean of age of all borrowers"
   ]
  },
  {
   "cell_type": "code",
   "execution_count": 8,
   "id": "606afeb3",
   "metadata": {
    "scrolled": false
   },
   "outputs": [
    {
     "data": {
      "image/png": "[encoded data removed]",
      "text/plain": [
       "<Figure size 640x480 with 1 Axes>"
      ]
     },
     "metadata": {},
     "output_type": "display_data"
    }
   ],
   "source": [
    "# Call function to visualize barplot.\n",
    "e.plt_2(train.copy)"
   ]
  },
  {
   "cell_type": "code",
   "execution_count": 9,
   "id": "a38f2624",
   "metadata": {
    "scrolled": true
   },
   "outputs": [
    {
     "name": "stdout",
     "output_type": "stream",
     "text": [
      "a = 0.5\n",
      "t = -71.84425179943742\n",
      "p = 0.0\n",
      "\n",
      "We reject the null hypothesis.\n"
     ]
    }
   ],
   "source": [
    "# 1 sample, 2 tailed t-test\n",
    "e.t_test(train.copy, 'age')"
   ]
  },
  {
   "cell_type": "markdown",
   "id": "5a821e7d",
   "metadata": {},
   "source": [
    "### Conclusion: \n",
    "### - Mean of age of defaults != Mean of age of all borrowers\n",
    "### - As age increases, mean of default decreases"
   ]
  },
  {
   "cell_type": "markdown",
   "id": "ce3496ca",
   "metadata": {},
   "source": [
    "## EDA Summary:\n",
    "## - Interest rates, loan amount, and age seem to drive borrrowers to default on loans"
   ]
  },
  {
   "cell_type": "markdown",
   "id": "e88cfaae",
   "metadata": {},
   "source": [
    "---"
   ]
  },
  {
   "cell_type": "markdown",
   "id": "df5ea8c3",
   "metadata": {},
   "source": [
    "# Pre-Process"
   ]
  },
  {
   "cell_type": "code",
   "execution_count": 10,
   "id": "ece23236",
   "metadata": {},
   "outputs": [],
   "source": [
    "# Split data\n",
    "X_train, y_train = p.xy_split(train.copy)\n",
    "X_val, y_val = p.xy_split(val.copy)"
   ]
  },
  {
   "cell_type": "code",
   "execution_count": 11,
   "id": "d804e711",
   "metadata": {},
   "outputs": [
    {
     "data": {
      "text/html": [
       "<div>\n",
       "<style scoped>\n",
       "    .dataframe tbody tr th:only-of-type {\n",
       "        vertical-align: middle;\n",
       "    }\n",
       "\n",
       "    .dataframe tbody tr th {\n",
       "        vertical-align: top;\n",
       "    }\n",
       "\n",
       "    .dataframe thead th {\n",
       "        text-align: right;\n",
       "    }\n",
       "</style>\n",
       "<table border=\"1\" class=\"dataframe\">\n",
       "  <thead>\n",
       "    <tr style=\"text-align: right;\">\n",
       "      <th></th>\n",
       "      <th>age</th>\n",
       "      <th>income</th>\n",
       "      <th>loan_amount</th>\n",
       "      <th>credit_score</th>\n",
       "      <th>months_employed</th>\n",
       "      <th>num_credit_lines</th>\n",
       "      <th>interest_rate</th>\n",
       "      <th>loan_term</th>\n",
       "      <th>dti_ratio</th>\n",
       "      <th>years_employed</th>\n",
       "      <th>...</th>\n",
       "      <th>income_bin_15k-30k</th>\n",
       "      <th>income_bin_30k-60k</th>\n",
       "      <th>income_bin_60k-90k</th>\n",
       "      <th>income_bin_90k-120k</th>\n",
       "      <th>income_bin_120k-150k</th>\n",
       "      <th>years_employed_bin_0-2</th>\n",
       "      <th>years_employed_bin_3-4</th>\n",
       "      <th>years_employed_bin_5-6</th>\n",
       "      <th>years_employed_bin_7-8</th>\n",
       "      <th>years_employed_bin_9-10</th>\n",
       "    </tr>\n",
       "  </thead>\n",
       "  <tbody>\n",
       "    <tr>\n",
       "      <th>73275</th>\n",
       "      <td>0.764706</td>\n",
       "      <td>0.649968</td>\n",
       "      <td>0.482708</td>\n",
       "      <td>0.023679</td>\n",
       "      <td>0.008403</td>\n",
       "      <td>3</td>\n",
       "      <td>0.999565</td>\n",
       "      <td>24</td>\n",
       "      <td>0.9750</td>\n",
       "      <td>0.008403</td>\n",
       "      <td>...</td>\n",
       "      <td>0</td>\n",
       "      <td>0</td>\n",
       "      <td>0</td>\n",
       "      <td>1</td>\n",
       "      <td>0</td>\n",
       "      <td>1</td>\n",
       "      <td>0</td>\n",
       "      <td>0</td>\n",
       "      <td>0</td>\n",
       "      <td>0</td>\n",
       "    </tr>\n",
       "    <tr>\n",
       "      <th>214906</th>\n",
       "      <td>0.450980</td>\n",
       "      <td>0.886481</td>\n",
       "      <td>0.059210</td>\n",
       "      <td>0.981785</td>\n",
       "      <td>0.521008</td>\n",
       "      <td>1</td>\n",
       "      <td>0.920435</td>\n",
       "      <td>60</td>\n",
       "      <td>0.9625</td>\n",
       "      <td>0.521008</td>\n",
       "      <td>...</td>\n",
       "      <td>0</td>\n",
       "      <td>0</td>\n",
       "      <td>0</td>\n",
       "      <td>0</td>\n",
       "      <td>1</td>\n",
       "      <td>0</td>\n",
       "      <td>0</td>\n",
       "      <td>1</td>\n",
       "      <td>0</td>\n",
       "      <td>0</td>\n",
       "    </tr>\n",
       "    <tr>\n",
       "      <th>172067</th>\n",
       "      <td>0.078431</td>\n",
       "      <td>0.446914</td>\n",
       "      <td>0.641157</td>\n",
       "      <td>0.921676</td>\n",
       "      <td>0.663866</td>\n",
       "      <td>4</td>\n",
       "      <td>0.131739</td>\n",
       "      <td>36</td>\n",
       "      <td>0.4250</td>\n",
       "      <td>0.663866</td>\n",
       "      <td>...</td>\n",
       "      <td>0</td>\n",
       "      <td>0</td>\n",
       "      <td>1</td>\n",
       "      <td>0</td>\n",
       "      <td>0</td>\n",
       "      <td>0</td>\n",
       "      <td>0</td>\n",
       "      <td>1</td>\n",
       "      <td>0</td>\n",
       "      <td>0</td>\n",
       "    </tr>\n",
       "    <tr>\n",
       "      <th>38482</th>\n",
       "      <td>0.078431</td>\n",
       "      <td>0.040400</td>\n",
       "      <td>0.505108</td>\n",
       "      <td>0.387978</td>\n",
       "      <td>0.176471</td>\n",
       "      <td>2</td>\n",
       "      <td>0.203478</td>\n",
       "      <td>36</td>\n",
       "      <td>0.7125</td>\n",
       "      <td>0.176471</td>\n",
       "      <td>...</td>\n",
       "      <td>1</td>\n",
       "      <td>0</td>\n",
       "      <td>0</td>\n",
       "      <td>0</td>\n",
       "      <td>0</td>\n",
       "      <td>1</td>\n",
       "      <td>0</td>\n",
       "      <td>0</td>\n",
       "      <td>0</td>\n",
       "      <td>0</td>\n",
       "    </tr>\n",
       "    <tr>\n",
       "      <th>230713</th>\n",
       "      <td>0.392157</td>\n",
       "      <td>0.289587</td>\n",
       "      <td>0.667231</td>\n",
       "      <td>0.690346</td>\n",
       "      <td>0.260504</td>\n",
       "      <td>4</td>\n",
       "      <td>0.438261</td>\n",
       "      <td>60</td>\n",
       "      <td>0.8250</td>\n",
       "      <td>0.260504</td>\n",
       "      <td>...</td>\n",
       "      <td>0</td>\n",
       "      <td>1</td>\n",
       "      <td>0</td>\n",
       "      <td>0</td>\n",
       "      <td>0</td>\n",
       "      <td>1</td>\n",
       "      <td>0</td>\n",
       "      <td>0</td>\n",
       "      <td>0</td>\n",
       "      <td>0</td>\n",
       "    </tr>\n",
       "  </tbody>\n",
       "</table>\n",
       "<p>5 rows × 67 columns</p>\n",
       "</div>"
      ],
      "text/plain": [
       "             age    income  loan_amount  credit_score  months_employed  \\\n",
       "73275   0.764706  0.649968     0.482708      0.023679         0.008403   \n",
       "214906  0.450980  0.886481     0.059210      0.981785         0.521008   \n",
       "172067  0.078431  0.446914     0.641157      0.921676         0.663866   \n",
       "38482   0.078431  0.040400     0.505108      0.387978         0.176471   \n",
       "230713  0.392157  0.289587     0.667231      0.690346         0.260504   \n",
       "\n",
       "        num_credit_lines  interest_rate  loan_term  dti_ratio  years_employed  \\\n",
       "73275                  3       0.999565         24     0.9750        0.008403   \n",
       "214906                 1       0.920435         60     0.9625        0.521008   \n",
       "172067                 4       0.131739         36     0.4250        0.663866   \n",
       "38482                  2       0.203478         36     0.7125        0.176471   \n",
       "230713                 4       0.438261         60     0.8250        0.260504   \n",
       "\n",
       "        ...  income_bin_15k-30k  income_bin_30k-60k  income_bin_60k-90k  \\\n",
       "73275   ...                   0                   0                   0   \n",
       "214906  ...                   0                   0                   0   \n",
       "172067  ...                   0                   0                   1   \n",
       "38482   ...                   1                   0                   0   \n",
       "230713  ...                   0                   1                   0   \n",
       "\n",
       "        income_bin_90k-120k  income_bin_120k-150k  years_employed_bin_0-2  \\\n",
       "73275                     1                     0                       1   \n",
       "214906                    0                     1                       0   \n",
       "172067                    0                     0                       0   \n",
       "38482                     0                     0                       1   \n",
       "230713                    0                     0                       1   \n",
       "\n",
       "        years_employed_bin_3-4  years_employed_bin_5-6  \\\n",
       "73275                        0                       0   \n",
       "214906                       0                       1   \n",
       "172067                       0                       1   \n",
       "38482                        0                       0   \n",
       "230713                       0                       0   \n",
       "\n",
       "        years_employed_bin_7-8  years_employed_bin_9-10  \n",
       "73275                        0                        0  \n",
       "214906                       0                        0  \n",
       "172067                       0                        0  \n",
       "38482                        0                        0  \n",
       "230713                       0                        0  \n",
       "\n",
       "[5 rows x 67 columns]"
      ]
     },
     "execution_count": 11,
     "metadata": {},
     "output_type": "execute_result"
    }
   ],
   "source": [
    "# Get dummies\n",
    "X_train = p.dummies(X_train)\n",
    "X_val = p.dummies(X_val)\n",
    "# Scale data\n",
    "X_train = p.scale(X_train)\n",
    "X_val = p.scale(X_val)\n",
    "\n",
    "X_train.head()"
   ]
  },
  {
   "cell_type": "markdown",
   "id": "ee1d09dc",
   "metadata": {},
   "source": [
    "---"
   ]
  },
  {
   "cell_type": "markdown",
   "id": "2f14c6c9",
   "metadata": {},
   "source": [
    "# Modeling"
   ]
  },
  {
   "cell_type": "markdown",
   "id": "fd53fed3",
   "metadata": {},
   "source": [
    "### * Baseline = .88"
   ]
  },
  {
   "cell_type": "markdown",
   "id": "07877a0e",
   "metadata": {},
   "source": [
    "## Random Forest"
   ]
  },
  {
   "cell_type": "code",
   "execution_count": 12,
   "id": "92fcb3a7",
   "metadata": {
    "scrolled": true
   },
   "outputs": [
    {
     "name": "stdout",
     "output_type": "stream",
     "text": [
      "Train Accuracy = 0.6757561177563192\n",
      "Validate Accuracy = 0.6734896350060049\n"
     ]
    }
   ],
   "source": [
    "m.r_forest(X_train, y_train, X_val, y_val)"
   ]
  },
  {
   "cell_type": "markdown",
   "id": "7bd39088",
   "metadata": {},
   "source": [
    "## Decision Tree"
   ]
  },
  {
   "cell_type": "code",
   "execution_count": 13,
   "id": "8d455ba7",
   "metadata": {
    "scrolled": true
   },
   "outputs": [
    {
     "name": "stdout",
     "output_type": "stream",
     "text": [
      "Train Accuracy = 0.6789730449474661\n",
      "Validate Accuracy = 0.6757349485666545\n"
     ]
    }
   ],
   "source": [
    "m.d_tree(X_train, y_train, X_val, y_val)"
   ]
  },
  {
   "cell_type": "markdown",
   "id": "6448dc80",
   "metadata": {},
   "source": [
    "## KNearest Neighbor"
   ]
  },
  {
   "cell_type": "code",
   "execution_count": 14,
   "id": "217373a5",
   "metadata": {},
   "outputs": [],
   "source": [
    "#m.knn_m(X_train, y_train, X_val, y_val)"
   ]
  },
  {
   "cell_type": "markdown",
   "id": "17ce5fca",
   "metadata": {},
   "source": [
    "---"
   ]
  },
  {
   "cell_type": "markdown",
   "id": "ae057bc9",
   "metadata": {},
   "source": [
    "# Conclusion"
   ]
  },
  {
   "cell_type": "code",
   "execution_count": null,
   "id": "05715580",
   "metadata": {},
   "outputs": [],
   "source": []
  }
 ],
 "metadata": {
  "kernelspec": {
   "display_name": "Python 3 (ipykernel)",
   "language": "python",
   "name": "python3"
  },
  "language_info": {
   "codemirror_mode": {
    "name": "ipython",
    "version": 3
   },
   "file_extension": ".py",
   "mimetype": "text/x-python",
   "name": "python",
   "nbconvert_exporter": "python",
   "pygments_lexer": "ipython3",
   "version": "3.11.3"
  }
 },
 "nbformat": 4,
 "nbformat_minor": 5
}
