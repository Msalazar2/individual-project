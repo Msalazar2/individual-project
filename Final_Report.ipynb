{
 "cells": [
  {
   "cell_type": "markdown",
   "id": "d328b67c",
   "metadata": {},
   "source": [
    "# Predicting Loan Defaults"
   ]
  },
  {
   "cell_type": "markdown",
   "id": "78ba1973",
   "metadata": {},
   "source": [
    "## Goal:\n",
    "\n",
    "### - Discover features driving borrowers to default.\n",
    "### - Build a classififcation model to predict defaults."
   ]
  },
  {
   "cell_type": "markdown",
   "id": "514b007c",
   "metadata": {},
   "source": [
    "___"
   ]
  },
  {
   "cell_type": "markdown",
   "id": "134bc94d",
   "metadata": {},
   "source": [
    "# Imports"
   ]
  },
  {
   "cell_type": "code",
   "execution_count": 1,
   "id": "0dfcce25",
   "metadata": {},
   "outputs": [],
   "source": [
    "import wrangle as w\n",
    "import explore as e\n",
    "import preprocess as p\n",
    "import modeling as m\n",
    "\n",
    "import pandas as pd\n",
    "import seaborn as sns\n",
    "import matplotlib.pyplot as plt\n",
    "\n"
   ]
  },
  {
   "cell_type": "markdown",
   "id": "8c9f9e06",
   "metadata": {},
   "source": [
    "---"
   ]
  },
  {
   "cell_type": "markdown",
   "id": "29a1852c",
   "metadata": {},
   "source": [
    "# Dictionary"
   ]
  },
  {
   "cell_type": "markdown",
   "id": "00bc668f",
   "metadata": {},
   "source": [
    "| Column       | Column_type | Data_type| Description                                                                |\n",
    "|--------------|-------------|----------|----------------------------------------------------------------------------|\n",
    "|LoanID\t       |Identifier   |string    |A unique identifier for each loan.                                          |\n",
    "|Age\t       |Feature      |integer\t|Age of the borrower.                                                        |\n",
    "|Income        |Feature      |integer   |Annual income of the borrower.                                              |\n",
    "|LoanAmount    |Feature      |integer\t|Amount of money being borrowed.                                             |\n",
    "|CreditScore   |Feature      |integer\t|Credit score of the borrower, indicating their creditworthiness.            |\n",
    "|MonthsEmployed|Feature      |integer\t|Number of months the borrower has been employed.                            |\n",
    "|NumCreditLines|Feature      |integer\t|Number of credit lines the borrower has open.                               |\n",
    "|InterestRate  |Feature      |float\t    |Interest rate for the loan.                                                 |\n",
    "|LoanTerm      |Feature      |integer\t|Term length of the loan in months.                                          |\n",
    "|DTIRatio      |Feature      |float\t    |Debt-to-Income ratio, borrower's debt compared to their income.             |\n",
    "|Education     |Feature      |string\t|Highest level of education attained by the borrower.                        |\n",
    "|EmploymentType|Feature      |string\t|Type of employment status of the borrower.                                  |\n",
    "|MaritalStatus |Feature      |string\t|Marital status of the borrower (Single, Married, Divorced).                 |\n",
    "|HasMortgage   |Feature      |string\t|Whether the borrower has a mortgage (Yes or No).                            |\n",
    "|HasDependents |Feature      |string\t|Whether the borrower has dependents (Yes or No).                            |\n",
    "|LoanPurpose   |Feature      |string\t|Purpose of the loan (Home, Auto, Education, Business, Other).               |\n",
    "|HasCoSigner   |Feature      |string\t|Whether the loan has a co-signer (Yes or No).                               |\n",
    "|Default\t   |Target       |integer\t|Binary target variable indicating whether the loan defaulted (1) or not (0).|"
   ]
  },
  {
   "cell_type": "markdown",
   "id": "cd0868c8",
   "metadata": {},
   "source": [
    "---"
   ]
  },
  {
   "cell_type": "markdown",
   "id": "4abb9693",
   "metadata": {},
   "source": [
    "# Acquire & Wrangle\n",
    "\n"
   ]
  },
  {
   "cell_type": "markdown",
   "id": "da0fd143",
   "metadata": {},
   "source": [
    "### - Data acquired from Coursera into a csv file\n",
    "\n",
    "### - Renamed columns & lowercased column names\n",
    "\n",
    "### - No missing values\n",
    "\n",
    "### - Dropped LoanID column\n",
    "\n",
    "### - Split data 70%,15%,15%"
   ]
  },
  {
   "cell_type": "code",
   "execution_count": 2,
   "id": "2ef84562",
   "metadata": {},
   "outputs": [
    {
     "name": "stdout",
     "output_type": "stream",
     "text": [
      "Found Data\n"
     ]
    },
    {
     "data": {
      "text/plain": [
       "((178742, 17), (38302, 17), (38303, 17))"
      ]
     },
     "execution_count": 2,
     "metadata": {},
     "output_type": "execute_result"
    }
   ],
   "source": [
    "# read csv and apply all preparations to dataset and split data.\n",
    "train, val, test = w.wrangle_data()\n",
    "\n",
    "train.shape, val.shape, test.shape"
   ]
  },
  {
   "cell_type": "code",
   "execution_count": 3,
   "id": "6e3d042b",
   "metadata": {},
   "outputs": [
    {
     "data": {
      "text/html": [
       "<div>\n",
       "<style scoped>\n",
       "    .dataframe tbody tr th:only-of-type {\n",
       "        vertical-align: middle;\n",
       "    }\n",
       "\n",
       "    .dataframe tbody tr th {\n",
       "        vertical-align: top;\n",
       "    }\n",
       "\n",
       "    .dataframe thead th {\n",
       "        text-align: right;\n",
       "    }\n",
       "</style>\n",
       "<table border=\"1\" class=\"dataframe\">\n",
       "  <thead>\n",
       "    <tr style=\"text-align: right;\">\n",
       "      <th></th>\n",
       "      <th>age</th>\n",
       "      <th>income</th>\n",
       "      <th>loan_amount</th>\n",
       "      <th>credit_score</th>\n",
       "      <th>months_employed</th>\n",
       "      <th>num_credit_lines</th>\n",
       "      <th>interest_rate</th>\n",
       "      <th>loan_term</th>\n",
       "      <th>dti_ratio</th>\n",
       "      <th>education</th>\n",
       "      <th>employment_type</th>\n",
       "      <th>marital_status</th>\n",
       "      <th>mortgage</th>\n",
       "      <th>dependents</th>\n",
       "      <th>loan_purpose</th>\n",
       "      <th>cosigned</th>\n",
       "      <th>default</th>\n",
       "    </tr>\n",
       "  </thead>\n",
       "  <tbody>\n",
       "    <tr>\n",
       "      <th>73275</th>\n",
       "      <td>57</td>\n",
       "      <td>102745</td>\n",
       "      <td>123266</td>\n",
       "      <td>313</td>\n",
       "      <td>1</td>\n",
       "      <td>3</td>\n",
       "      <td>24.99</td>\n",
       "      <td>24</td>\n",
       "      <td>0.88</td>\n",
       "      <td>Bachelor's</td>\n",
       "      <td>Self-employed</td>\n",
       "      <td>Married</td>\n",
       "      <td>Yes</td>\n",
       "      <td>Yes</td>\n",
       "      <td>Business</td>\n",
       "      <td>No</td>\n",
       "      <td>1</td>\n",
       "    </tr>\n",
       "    <tr>\n",
       "      <th>214906</th>\n",
       "      <td>41</td>\n",
       "      <td>134674</td>\n",
       "      <td>19512</td>\n",
       "      <td>839</td>\n",
       "      <td>62</td>\n",
       "      <td>1</td>\n",
       "      <td>23.17</td>\n",
       "      <td>60</td>\n",
       "      <td>0.87</td>\n",
       "      <td>High School</td>\n",
       "      <td>Unemployed</td>\n",
       "      <td>Divorced</td>\n",
       "      <td>No</td>\n",
       "      <td>Yes</td>\n",
       "      <td>Auto</td>\n",
       "      <td>Yes</td>\n",
       "      <td>0</td>\n",
       "    </tr>\n",
       "    <tr>\n",
       "      <th>172067</th>\n",
       "      <td>22</td>\n",
       "      <td>75333</td>\n",
       "      <td>162085</td>\n",
       "      <td>806</td>\n",
       "      <td>79</td>\n",
       "      <td>4</td>\n",
       "      <td>5.03</td>\n",
       "      <td>36</td>\n",
       "      <td>0.44</td>\n",
       "      <td>High School</td>\n",
       "      <td>Unemployed</td>\n",
       "      <td>Married</td>\n",
       "      <td>No</td>\n",
       "      <td>No</td>\n",
       "      <td>Education</td>\n",
       "      <td>No</td>\n",
       "      <td>0</td>\n",
       "    </tr>\n",
       "    <tr>\n",
       "      <th>38482</th>\n",
       "      <td>22</td>\n",
       "      <td>20454</td>\n",
       "      <td>128754</td>\n",
       "      <td>513</td>\n",
       "      <td>21</td>\n",
       "      <td>2</td>\n",
       "      <td>6.68</td>\n",
       "      <td>36</td>\n",
       "      <td>0.67</td>\n",
       "      <td>Bachelor's</td>\n",
       "      <td>Unemployed</td>\n",
       "      <td>Divorced</td>\n",
       "      <td>Yes</td>\n",
       "      <td>No</td>\n",
       "      <td>Other</td>\n",
       "      <td>Yes</td>\n",
       "      <td>1</td>\n",
       "    </tr>\n",
       "    <tr>\n",
       "      <th>230713</th>\n",
       "      <td>38</td>\n",
       "      <td>54094</td>\n",
       "      <td>168473</td>\n",
       "      <td>679</td>\n",
       "      <td>31</td>\n",
       "      <td>4</td>\n",
       "      <td>12.08</td>\n",
       "      <td>60</td>\n",
       "      <td>0.76</td>\n",
       "      <td>High School</td>\n",
       "      <td>Full-time</td>\n",
       "      <td>Married</td>\n",
       "      <td>No</td>\n",
       "      <td>No</td>\n",
       "      <td>Home</td>\n",
       "      <td>Yes</td>\n",
       "      <td>0</td>\n",
       "    </tr>\n",
       "  </tbody>\n",
       "</table>\n",
       "</div>"
      ],
      "text/plain": [
       "        age  income  loan_amount  credit_score  months_employed  \\\n",
       "73275    57  102745       123266           313                1   \n",
       "214906   41  134674        19512           839               62   \n",
       "172067   22   75333       162085           806               79   \n",
       "38482    22   20454       128754           513               21   \n",
       "230713   38   54094       168473           679               31   \n",
       "\n",
       "        num_credit_lines  interest_rate  loan_term  dti_ratio    education  \\\n",
       "73275                  3          24.99         24       0.88   Bachelor's   \n",
       "214906                 1          23.17         60       0.87  High School   \n",
       "172067                 4           5.03         36       0.44  High School   \n",
       "38482                  2           6.68         36       0.67   Bachelor's   \n",
       "230713                 4          12.08         60       0.76  High School   \n",
       "\n",
       "       employment_type marital_status mortgage dependents loan_purpose  \\\n",
       "73275    Self-employed        Married      Yes        Yes     Business   \n",
       "214906      Unemployed       Divorced       No        Yes         Auto   \n",
       "172067      Unemployed        Married       No         No    Education   \n",
       "38482       Unemployed       Divorced      Yes         No        Other   \n",
       "230713       Full-time        Married       No         No         Home   \n",
       "\n",
       "       cosigned  default  \n",
       "73275        No        1  \n",
       "214906      Yes        0  \n",
       "172067       No        0  \n",
       "38482       Yes        1  \n",
       "230713      Yes        0  "
      ]
     },
     "execution_count": 3,
     "metadata": {},
     "output_type": "execute_result"
    }
   ],
   "source": [
    "train.head()"
   ]
  },
  {
   "cell_type": "markdown",
   "id": "99078eec",
   "metadata": {},
   "source": [
    "---"
   ]
  },
  {
   "cell_type": "markdown",
   "id": "bb52014f",
   "metadata": {},
   "source": [
    "# Exploration\n",
    "\n",
    "### - Binned data for better visuals"
   ]
  },
  {
   "cell_type": "code",
   "execution_count": 4,
   "id": "1d50652c",
   "metadata": {},
   "outputs": [
    {
     "data": {
      "image/png": "[encoded data removed]",
      "text/plain": [
       "<Figure size 640x480 with 1 Axes>"
      ]
     },
     "metadata": {},
     "output_type": "display_data"
    }
   ],
   "source": [
    "# Plot distribution of default\n",
    "e.plt_dist(train, 'default')"
   ]
  },
  {
   "cell_type": "code",
   "execution_count": 5,
   "id": "3b962ba8",
   "metadata": {},
   "outputs": [],
   "source": [
    "# Make copy of train and add new binned features.\n",
    "train.copy = e.bin_data(train)\n",
    "val.copy = e.bin_data(val)"
   ]
  },
  {
   "cell_type": "markdown",
   "id": "8c2a222c",
   "metadata": {},
   "source": [
    "## 1. Is there a difference in interest rates for borrowers that default and those that did not ?\n",
    "\n",
    "### H0: Mean of interest rates of defaults = Mean of interest rates of all borrowers\n",
    "\n",
    "### Ha: Mean of interest rates of defaults != Mean of interest rates of all borrowers"
   ]
  },
  {
   "cell_type": "code",
   "execution_count": 6,
   "id": "28f50542",
   "metadata": {
    "scrolled": false
   },
   "outputs": [
    {
     "data": {
      "image/png": "[encoded data removed]",
      "text/plain": [
       "<Figure size 640x480 with 1 Axes>"
      ]
     },
     "metadata": {},
     "output_type": "display_data"
    }
   ],
   "source": [
    "# Call function to visualize barplot.\n",
    "e.plt_1(train.copy)"
   ]
  },
  {
   "cell_type": "code",
   "execution_count": 7,
   "id": "fbd62fbf",
   "metadata": {
    "scrolled": true
   },
   "outputs": [
    {
     "name": "stdout",
     "output_type": "stream",
     "text": [
      "a = 0.5\n",
      "t = 54.29330067531287\n",
      "p = 0.0\n",
      "\n",
      "We reject the null hypothesis.\n"
     ]
    }
   ],
   "source": [
    "# 1 sample, 2 tailed t-test\n",
    "e.t_test(train.copy, 'interest_rate')"
   ]
  },
  {
   "cell_type": "markdown",
   "id": "93b100fa",
   "metadata": {},
   "source": [
    "### Conclusion: \n",
    "### - Mean of interest rates of defaults != Mean of interest rates of all borrowers\n",
    "### - As interest rates increase, the mean of default increases"
   ]
  },
  {
   "cell_type": "markdown",
   "id": "085d8dcf",
   "metadata": {},
   "source": [
    "---"
   ]
  },
  {
   "cell_type": "markdown",
   "id": "eec0574a",
   "metadata": {},
   "source": [
    "## 2. Is there a difference in loan amounts for borrowers that default and those that did not ?\n",
    "\n",
    "### H0: Mean of loan amounts of defaults = Mean of loan amount of all borrowers\n",
    "\n",
    "### Ha: Mean of loan amounts of defaults != Mean of loan amount of all borrowers"
   ]
  },
  {
   "cell_type": "code",
   "execution_count": 8,
   "id": "78b15261",
   "metadata": {
    "scrolled": false
   },
   "outputs": [
    {
     "data": {
      "image/png": "[encoded data removed]",
      "text/plain": [
       "<Figure size 640x480 with 1 Axes>"
      ]
     },
     "metadata": {},
     "output_type": "display_data"
    }
   ],
   "source": [
    "# Call function to visualize barplot.\n",
    "e.plt_3(train.copy)"
   ]
  },
  {
   "cell_type": "code",
   "execution_count": 9,
   "id": "2ef35286",
   "metadata": {},
   "outputs": [
    {
     "name": "stdout",
     "output_type": "stream",
     "text": [
      "a = 0.5\n",
      "t = 34.59541300967391\n",
      "p = 5.127603438140647e-255\n",
      "\n",
      "We reject the null hypothesis.\n"
     ]
    }
   ],
   "source": [
    "# 1 sample, 2 tailed t-test\n",
    "e.t_test(train.copy, 'loan_amount')"
   ]
  },
  {
   "cell_type": "markdown",
   "id": "ae193683",
   "metadata": {},
   "source": [
    "### Conclusion: \n",
    "\n",
    "### - Mean of loan amounts of defaults != Mean of loan amount of all borrowers\n",
    "### - As loan amount increase, the mean of default increases"
   ]
  },
  {
   "cell_type": "markdown",
   "id": "9f363be4",
   "metadata": {},
   "source": [
    "---"
   ]
  },
  {
   "cell_type": "markdown",
   "id": "40737db0",
   "metadata": {},
   "source": [
    "## 3. Is there a difference in age for borrowers that default and those that did not ?\n",
    "\n",
    "### H0:  Mean of age of defaults = Mean of age of all borrowers\n",
    "\n",
    "### Ha: Mean of age of defaults != Mean of age of all borrowers"
   ]
  },
  {
   "cell_type": "code",
   "execution_count": 10,
   "id": "6fd788f9",
   "metadata": {
    "scrolled": false
   },
   "outputs": [
    {
     "data": {
      "image/png": "[encoded data removed]",
      "text/plain": [
       "<Figure size 640x480 with 1 Axes>"
      ]
     },
     "metadata": {},
     "output_type": "display_data"
    }
   ],
   "source": [
    "# Call function to visualize barplot.\n",
    "e.plt_2(train.copy)"
   ]
  },
  {
   "cell_type": "code",
   "execution_count": 11,
   "id": "cad9727a",
   "metadata": {
    "scrolled": true
   },
   "outputs": [
    {
     "name": "stdout",
     "output_type": "stream",
     "text": [
      "a = 0.5\n",
      "t = -71.84425179943742\n",
      "p = 0.0\n",
      "\n",
      "We reject the null hypothesis.\n"
     ]
    }
   ],
   "source": [
    "# 1 sample, 2 tailed t-test\n",
    "e.t_test(train.copy, 'age')"
   ]
  },
  {
   "cell_type": "markdown",
   "id": "e5bc4d95",
   "metadata": {},
   "source": [
    "### Conclusion: \n",
    "### - Mean of age of defaults != Mean of age of all borrowers\n",
    "### - As age increases, mean of default decreases"
   ]
  },
  {
   "cell_type": "markdown",
   "id": "f3fa8583",
   "metadata": {},
   "source": [
    "## EDA Summary:\n",
    "### - Distribution of defaults significantly concentrated on non defaults (0)\n",
    "### - Interest rates, loan amount, and age seem to drive borrrowers to default on loans"
   ]
  },
  {
   "cell_type": "code",
   "execution_count": 18,
   "id": "4042b6bb",
   "metadata": {
    "scrolled": false
   },
   "outputs": [
    {
     "data": {
      "text/html": [
       "<div>\n",
       "<style scoped>\n",
       "    .dataframe tbody tr th:only-of-type {\n",
       "        vertical-align: middle;\n",
       "    }\n",
       "\n",
       "    .dataframe tbody tr th {\n",
       "        vertical-align: top;\n",
       "    }\n",
       "\n",
       "    .dataframe thead th {\n",
       "        text-align: right;\n",
       "    }\n",
       "</style>\n",
       "<table border=\"1\" class=\"dataframe\">\n",
       "  <thead>\n",
       "    <tr style=\"text-align: right;\">\n",
       "      <th></th>\n",
       "      <th>age</th>\n",
       "      <th>income</th>\n",
       "      <th>loan_amount</th>\n",
       "      <th>credit_score</th>\n",
       "      <th>months_employed</th>\n",
       "      <th>num_credit_lines</th>\n",
       "      <th>interest_rate</th>\n",
       "      <th>loan_term</th>\n",
       "      <th>dti_ratio</th>\n",
       "      <th>education</th>\n",
       "      <th>...</th>\n",
       "      <th>loan_purpose</th>\n",
       "      <th>cosigned</th>\n",
       "      <th>default</th>\n",
       "      <th>credit_bin</th>\n",
       "      <th>age_bin</th>\n",
       "      <th>interest_bin</th>\n",
       "      <th>loan_amount_bin</th>\n",
       "      <th>income_bin</th>\n",
       "      <th>years_employed</th>\n",
       "      <th>years_employed_bin</th>\n",
       "    </tr>\n",
       "  </thead>\n",
       "  <tbody>\n",
       "    <tr>\n",
       "      <th>73275</th>\n",
       "      <td>57</td>\n",
       "      <td>102745</td>\n",
       "      <td>123266</td>\n",
       "      <td>313</td>\n",
       "      <td>1</td>\n",
       "      <td>3</td>\n",
       "      <td>24.99</td>\n",
       "      <td>24</td>\n",
       "      <td>0.88</td>\n",
       "      <td>Bachelor's</td>\n",
       "      <td>...</td>\n",
       "      <td>Business</td>\n",
       "      <td>No</td>\n",
       "      <td>1</td>\n",
       "      <td>300s</td>\n",
       "      <td>56-59</td>\n",
       "      <td>20-25</td>\n",
       "      <td>100k-150k</td>\n",
       "      <td>90k-120k</td>\n",
       "      <td>0.083333</td>\n",
       "      <td>0-2</td>\n",
       "    </tr>\n",
       "    <tr>\n",
       "      <th>214906</th>\n",
       "      <td>41</td>\n",
       "      <td>134674</td>\n",
       "      <td>19512</td>\n",
       "      <td>839</td>\n",
       "      <td>62</td>\n",
       "      <td>1</td>\n",
       "      <td>23.17</td>\n",
       "      <td>60</td>\n",
       "      <td>0.87</td>\n",
       "      <td>High School</td>\n",
       "      <td>...</td>\n",
       "      <td>Auto</td>\n",
       "      <td>Yes</td>\n",
       "      <td>0</td>\n",
       "      <td>800s</td>\n",
       "      <td>40-45</td>\n",
       "      <td>20-25</td>\n",
       "      <td>5k-50k</td>\n",
       "      <td>120k-150k</td>\n",
       "      <td>5.166667</td>\n",
       "      <td>5-6</td>\n",
       "    </tr>\n",
       "    <tr>\n",
       "      <th>172067</th>\n",
       "      <td>22</td>\n",
       "      <td>75333</td>\n",
       "      <td>162085</td>\n",
       "      <td>806</td>\n",
       "      <td>79</td>\n",
       "      <td>4</td>\n",
       "      <td>5.03</td>\n",
       "      <td>36</td>\n",
       "      <td>0.44</td>\n",
       "      <td>High School</td>\n",
       "      <td>...</td>\n",
       "      <td>Education</td>\n",
       "      <td>No</td>\n",
       "      <td>0</td>\n",
       "      <td>800s</td>\n",
       "      <td>18-25</td>\n",
       "      <td>2-6</td>\n",
       "      <td>150k-200k</td>\n",
       "      <td>60k-90k</td>\n",
       "      <td>6.583333</td>\n",
       "      <td>5-6</td>\n",
       "    </tr>\n",
       "    <tr>\n",
       "      <th>38482</th>\n",
       "      <td>22</td>\n",
       "      <td>20454</td>\n",
       "      <td>128754</td>\n",
       "      <td>513</td>\n",
       "      <td>21</td>\n",
       "      <td>2</td>\n",
       "      <td>6.68</td>\n",
       "      <td>36</td>\n",
       "      <td>0.67</td>\n",
       "      <td>Bachelor's</td>\n",
       "      <td>...</td>\n",
       "      <td>Other</td>\n",
       "      <td>Yes</td>\n",
       "      <td>1</td>\n",
       "      <td>500s</td>\n",
       "      <td>18-25</td>\n",
       "      <td>2-6</td>\n",
       "      <td>100k-150k</td>\n",
       "      <td>15k-30k</td>\n",
       "      <td>1.750000</td>\n",
       "      <td>0-2</td>\n",
       "    </tr>\n",
       "    <tr>\n",
       "      <th>230713</th>\n",
       "      <td>38</td>\n",
       "      <td>54094</td>\n",
       "      <td>168473</td>\n",
       "      <td>679</td>\n",
       "      <td>31</td>\n",
       "      <td>4</td>\n",
       "      <td>12.08</td>\n",
       "      <td>60</td>\n",
       "      <td>0.76</td>\n",
       "      <td>High School</td>\n",
       "      <td>...</td>\n",
       "      <td>Home</td>\n",
       "      <td>Yes</td>\n",
       "      <td>0</td>\n",
       "      <td>600s</td>\n",
       "      <td>36-39</td>\n",
       "      <td>11-15</td>\n",
       "      <td>150k-200k</td>\n",
       "      <td>30k-60k</td>\n",
       "      <td>2.583333</td>\n",
       "      <td>0-2</td>\n",
       "    </tr>\n",
       "  </tbody>\n",
       "</table>\n",
       "<p>5 rows × 24 columns</p>\n",
       "</div>"
      ],
      "text/plain": [
       "        age  income  loan_amount  credit_score  months_employed  \\\n",
       "73275    57  102745       123266           313                1   \n",
       "214906   41  134674        19512           839               62   \n",
       "172067   22   75333       162085           806               79   \n",
       "38482    22   20454       128754           513               21   \n",
       "230713   38   54094       168473           679               31   \n",
       "\n",
       "        num_credit_lines  interest_rate  loan_term  dti_ratio    education  \\\n",
       "73275                  3          24.99         24       0.88   Bachelor's   \n",
       "214906                 1          23.17         60       0.87  High School   \n",
       "172067                 4           5.03         36       0.44  High School   \n",
       "38482                  2           6.68         36       0.67   Bachelor's   \n",
       "230713                 4          12.08         60       0.76  High School   \n",
       "\n",
       "        ... loan_purpose cosigned default credit_bin age_bin interest_bin  \\\n",
       "73275   ...     Business       No       1       300s   56-59        20-25   \n",
       "214906  ...         Auto      Yes       0       800s   40-45        20-25   \n",
       "172067  ...    Education       No       0       800s   18-25          2-6   \n",
       "38482   ...        Other      Yes       1       500s   18-25          2-6   \n",
       "230713  ...         Home      Yes       0       600s   36-39        11-15   \n",
       "\n",
       "        loan_amount_bin income_bin years_employed years_employed_bin  \n",
       "73275         100k-150k   90k-120k       0.083333                0-2  \n",
       "214906           5k-50k  120k-150k       5.166667                5-6  \n",
       "172067        150k-200k    60k-90k       6.583333                5-6  \n",
       "38482         100k-150k    15k-30k       1.750000                0-2  \n",
       "230713        150k-200k    30k-60k       2.583333                0-2  \n",
       "\n",
       "[5 rows x 24 columns]"
      ]
     },
     "execution_count": 18,
     "metadata": {},
     "output_type": "execute_result"
    }
   ],
   "source": [
    "train.head()"
   ]
  },
  {
   "cell_type": "code",
   "execution_count": 22,
   "id": "618531a4",
   "metadata": {},
   "outputs": [
    {
     "data": {
      "text/plain": [
       "<Axes: xlabel='loan_term'>"
      ]
     },
     "execution_count": 22,
     "metadata": {},
     "output_type": "execute_result"
    },
    {
     "data": {
      "image/png": "[encoded data removed]",
      "text/plain": [
       "<Figure size 640x480 with 1 Axes>"
      ]
     },
     "metadata": {},
     "output_type": "display_data"
    }
   ],
   "source": [
    "sns.barplot(data = train, x = 'loan_term', hue = 'age')"
   ]
  },
  {
   "cell_type": "markdown",
   "id": "87e9219c",
   "metadata": {},
   "source": [
    "---"
   ]
  },
  {
   "cell_type": "markdown",
   "id": "fd43a0f1",
   "metadata": {},
   "source": [
    "# Pre-Process"
   ]
  },
  {
   "cell_type": "code",
   "execution_count": 12,
   "id": "e40b61e3",
   "metadata": {},
   "outputs": [
    {
     "data": {
      "text/html": [
       "<div>\n",
       "<style scoped>\n",
       "    .dataframe tbody tr th:only-of-type {\n",
       "        vertical-align: middle;\n",
       "    }\n",
       "\n",
       "    .dataframe tbody tr th {\n",
       "        vertical-align: top;\n",
       "    }\n",
       "\n",
       "    .dataframe thead th {\n",
       "        text-align: right;\n",
       "    }\n",
       "</style>\n",
       "<table border=\"1\" class=\"dataframe\">\n",
       "  <thead>\n",
       "    <tr style=\"text-align: right;\">\n",
       "      <th></th>\n",
       "      <th>age</th>\n",
       "      <th>income</th>\n",
       "      <th>loan_amount</th>\n",
       "      <th>credit_score</th>\n",
       "      <th>months_employed</th>\n",
       "      <th>num_credit_lines</th>\n",
       "      <th>interest_rate</th>\n",
       "      <th>loan_term</th>\n",
       "      <th>dti_ratio</th>\n",
       "      <th>years_employed</th>\n",
       "      <th>...</th>\n",
       "      <th>income_bin_15k-30k</th>\n",
       "      <th>income_bin_30k-60k</th>\n",
       "      <th>income_bin_60k-90k</th>\n",
       "      <th>income_bin_90k-120k</th>\n",
       "      <th>income_bin_120k-150k</th>\n",
       "      <th>years_employed_bin_0-2</th>\n",
       "      <th>years_employed_bin_3-4</th>\n",
       "      <th>years_employed_bin_5-6</th>\n",
       "      <th>years_employed_bin_7-8</th>\n",
       "      <th>years_employed_bin_9-10</th>\n",
       "    </tr>\n",
       "  </thead>\n",
       "  <tbody>\n",
       "    <tr>\n",
       "      <th>73275</th>\n",
       "      <td>0.764706</td>\n",
       "      <td>0.649968</td>\n",
       "      <td>0.482708</td>\n",
       "      <td>0.023679</td>\n",
       "      <td>0.008403</td>\n",
       "      <td>3</td>\n",
       "      <td>0.999565</td>\n",
       "      <td>24</td>\n",
       "      <td>0.9750</td>\n",
       "      <td>0.008403</td>\n",
       "      <td>...</td>\n",
       "      <td>0</td>\n",
       "      <td>0</td>\n",
       "      <td>0</td>\n",
       "      <td>1</td>\n",
       "      <td>0</td>\n",
       "      <td>1</td>\n",
       "      <td>0</td>\n",
       "      <td>0</td>\n",
       "      <td>0</td>\n",
       "      <td>0</td>\n",
       "    </tr>\n",
       "    <tr>\n",
       "      <th>214906</th>\n",
       "      <td>0.450980</td>\n",
       "      <td>0.886481</td>\n",
       "      <td>0.059210</td>\n",
       "      <td>0.981785</td>\n",
       "      <td>0.521008</td>\n",
       "      <td>1</td>\n",
       "      <td>0.920435</td>\n",
       "      <td>60</td>\n",
       "      <td>0.9625</td>\n",
       "      <td>0.521008</td>\n",
       "      <td>...</td>\n",
       "      <td>0</td>\n",
       "      <td>0</td>\n",
       "      <td>0</td>\n",
       "      <td>0</td>\n",
       "      <td>1</td>\n",
       "      <td>0</td>\n",
       "      <td>0</td>\n",
       "      <td>1</td>\n",
       "      <td>0</td>\n",
       "      <td>0</td>\n",
       "    </tr>\n",
       "    <tr>\n",
       "      <th>172067</th>\n",
       "      <td>0.078431</td>\n",
       "      <td>0.446914</td>\n",
       "      <td>0.641157</td>\n",
       "      <td>0.921676</td>\n",
       "      <td>0.663866</td>\n",
       "      <td>4</td>\n",
       "      <td>0.131739</td>\n",
       "      <td>36</td>\n",
       "      <td>0.4250</td>\n",
       "      <td>0.663866</td>\n",
       "      <td>...</td>\n",
       "      <td>0</td>\n",
       "      <td>0</td>\n",
       "      <td>1</td>\n",
       "      <td>0</td>\n",
       "      <td>0</td>\n",
       "      <td>0</td>\n",
       "      <td>0</td>\n",
       "      <td>1</td>\n",
       "      <td>0</td>\n",
       "      <td>0</td>\n",
       "    </tr>\n",
       "    <tr>\n",
       "      <th>38482</th>\n",
       "      <td>0.078431</td>\n",
       "      <td>0.040400</td>\n",
       "      <td>0.505108</td>\n",
       "      <td>0.387978</td>\n",
       "      <td>0.176471</td>\n",
       "      <td>2</td>\n",
       "      <td>0.203478</td>\n",
       "      <td>36</td>\n",
       "      <td>0.7125</td>\n",
       "      <td>0.176471</td>\n",
       "      <td>...</td>\n",
       "      <td>1</td>\n",
       "      <td>0</td>\n",
       "      <td>0</td>\n",
       "      <td>0</td>\n",
       "      <td>0</td>\n",
       "      <td>1</td>\n",
       "      <td>0</td>\n",
       "      <td>0</td>\n",
       "      <td>0</td>\n",
       "      <td>0</td>\n",
       "    </tr>\n",
       "    <tr>\n",
       "      <th>230713</th>\n",
       "      <td>0.392157</td>\n",
       "      <td>0.289587</td>\n",
       "      <td>0.667231</td>\n",
       "      <td>0.690346</td>\n",
       "      <td>0.260504</td>\n",
       "      <td>4</td>\n",
       "      <td>0.438261</td>\n",
       "      <td>60</td>\n",
       "      <td>0.8250</td>\n",
       "      <td>0.260504</td>\n",
       "      <td>...</td>\n",
       "      <td>0</td>\n",
       "      <td>1</td>\n",
       "      <td>0</td>\n",
       "      <td>0</td>\n",
       "      <td>0</td>\n",
       "      <td>1</td>\n",
       "      <td>0</td>\n",
       "      <td>0</td>\n",
       "      <td>0</td>\n",
       "      <td>0</td>\n",
       "    </tr>\n",
       "  </tbody>\n",
       "</table>\n",
       "<p>5 rows × 67 columns</p>\n",
       "</div>"
      ],
      "text/plain": [
       "             age    income  loan_amount  credit_score  months_employed  \\\n",
       "73275   0.764706  0.649968     0.482708      0.023679         0.008403   \n",
       "214906  0.450980  0.886481     0.059210      0.981785         0.521008   \n",
       "172067  0.078431  0.446914     0.641157      0.921676         0.663866   \n",
       "38482   0.078431  0.040400     0.505108      0.387978         0.176471   \n",
       "230713  0.392157  0.289587     0.667231      0.690346         0.260504   \n",
       "\n",
       "        num_credit_lines  interest_rate  loan_term  dti_ratio  years_employed  \\\n",
       "73275                  3       0.999565         24     0.9750        0.008403   \n",
       "214906                 1       0.920435         60     0.9625        0.521008   \n",
       "172067                 4       0.131739         36     0.4250        0.663866   \n",
       "38482                  2       0.203478         36     0.7125        0.176471   \n",
       "230713                 4       0.438261         60     0.8250        0.260504   \n",
       "\n",
       "        ...  income_bin_15k-30k  income_bin_30k-60k  income_bin_60k-90k  \\\n",
       "73275   ...                   0                   0                   0   \n",
       "214906  ...                   0                   0                   0   \n",
       "172067  ...                   0                   0                   1   \n",
       "38482   ...                   1                   0                   0   \n",
       "230713  ...                   0                   1                   0   \n",
       "\n",
       "        income_bin_90k-120k  income_bin_120k-150k  years_employed_bin_0-2  \\\n",
       "73275                     1                     0                       1   \n",
       "214906                    0                     1                       0   \n",
       "172067                    0                     0                       0   \n",
       "38482                     0                     0                       1   \n",
       "230713                    0                     0                       1   \n",
       "\n",
       "        years_employed_bin_3-4  years_employed_bin_5-6  \\\n",
       "73275                        0                       0   \n",
       "214906                       0                       1   \n",
       "172067                       0                       1   \n",
       "38482                        0                       0   \n",
       "230713                       0                       0   \n",
       "\n",
       "        years_employed_bin_7-8  years_employed_bin_9-10  \n",
       "73275                        0                        0  \n",
       "214906                       0                        0  \n",
       "172067                       0                        0  \n",
       "38482                        0                        0  \n",
       "230713                       0                        0  \n",
       "\n",
       "[5 rows x 67 columns]"
      ]
     },
     "execution_count": 12,
     "metadata": {},
     "output_type": "execute_result"
    }
   ],
   "source": [
    "# Split data, scale data, get dummies\n",
    "X_train, y_train = p.xy_split(train.copy)\n",
    "X_val, y_val = p.xy_split(val.copy)\n",
    "\n",
    "X_train.head()"
   ]
  },
  {
   "cell_type": "markdown",
   "id": "a45aa7f6",
   "metadata": {},
   "source": [
    "---"
   ]
  },
  {
   "cell_type": "markdown",
   "id": "46457236",
   "metadata": {},
   "source": [
    "# Modeling"
   ]
  },
  {
   "cell_type": "markdown",
   "id": "1d74bcfa",
   "metadata": {},
   "source": [
    "### - Baseline = .88\n",
    "### - Evaluation metric is accuracy\n",
    "### - I have moved forward with all features including new binned features"
   ]
  },
  {
   "cell_type": "markdown",
   "id": "2e8e1f59",
   "metadata": {},
   "source": [
    "## Random Forest"
   ]
  },
  {
   "cell_type": "code",
   "execution_count": 13,
   "id": "a290aee5",
   "metadata": {
    "scrolled": true
   },
   "outputs": [
    {
     "name": "stdout",
     "output_type": "stream",
     "text": [
      "Train Accuracy = 0.6757561177563192\n",
      "Validate Accuracy = 0.6734896350060049\n"
     ]
    }
   ],
   "source": [
    "m.r_forest(X_train, y_train, X_val, y_val)"
   ]
  },
  {
   "cell_type": "markdown",
   "id": "48a2e36c",
   "metadata": {},
   "source": [
    "## Decision Tree"
   ]
  },
  {
   "cell_type": "code",
   "execution_count": 14,
   "id": "2f9d7880",
   "metadata": {
    "scrolled": true
   },
   "outputs": [
    {
     "name": "stdout",
     "output_type": "stream",
     "text": [
      "Train Accuracy = 0.6789730449474661\n",
      "Validate Accuracy = 0.6757349485666545\n"
     ]
    }
   ],
   "source": [
    "m.d_tree(X_train, y_train, X_val, y_val)"
   ]
  },
  {
   "cell_type": "markdown",
   "id": "841cba5c",
   "metadata": {},
   "source": [
    "## KNearest Neighbor"
   ]
  },
  {
   "cell_type": "code",
   "execution_count": 15,
   "id": "dbb1922b",
   "metadata": {},
   "outputs": [
    {
     "name": "stdout",
     "output_type": "stream",
     "text": [
      "Train Accuracy = 0.8947309529937004\n",
      "Validate Accuracy = 0.8729309174455642\n"
     ]
    }
   ],
   "source": [
    "m.knn_m(X_train, y_train, X_val, y_val)"
   ]
  },
  {
   "cell_type": "markdown",
   "id": "6a294788",
   "metadata": {},
   "source": [
    "---"
   ]
  },
  {
   "cell_type": "code",
   "execution_count": 16,
   "id": "9f322d7e",
   "metadata": {
    "scrolled": false
   },
   "outputs": [
    {
     "data": {
      "image/png": "[encoded data removed]",
      "text/plain": [
       "<Figure size 640x480 with 1 Axes>"
      ]
     },
     "metadata": {},
     "output_type": "display_data"
    }
   ],
   "source": [
    "# Plot distribution of default\n",
    "e.plt_dist(train, 'default')"
   ]
  },
  {
   "cell_type": "markdown",
   "id": "44b6ec0b",
   "metadata": {},
   "source": [
    "# Conclusion"
   ]
  },
  {
   "cell_type": "markdown",
   "id": "b36295b5",
   "metadata": {},
   "source": [
    "### - Baseline = .88\n",
    "### - Decision tree and random forest models with balanced weight parameters perform worse than the baseline\n",
    "### - Distribution of default binary values heavily concentrated on one value\n",
    "### - Knearest tree is weighing one outcome significantly more than the other\n",
    "### - Decided not to test until I improve my train and validate accuracy"
   ]
  },
  {
   "cell_type": "markdown",
   "id": "3c666512",
   "metadata": {},
   "source": [
    "---"
   ]
  },
  {
   "cell_type": "markdown",
   "id": "39ceb0ea",
   "metadata": {},
   "source": [
    "# Next Steps:"
   ]
  },
  {
   "cell_type": "markdown",
   "id": "3bf0b81d",
   "metadata": {},
   "source": [
    "### - Adjust model hyperparameters \n",
    "### - Do some more feature engineering\n",
    "### - Investigate feature importance and minimize dimension by dropping features\n",
    "### - Run test\n",
    "finish\n"
   ]
  },
  {
   "cell_type": "markdown",
   "id": "adb98c6b",
   "metadata": {},
   "source": [
    "---"
   ]
  },
  {
   "cell_type": "markdown",
   "id": "e5af4a81",
   "metadata": {},
   "source": [
    "# Recommendations:"
   ]
  },
  {
   "cell_type": "markdown",
   "id": "062c31ea",
   "metadata": {},
   "source": [
    "### - Target loan amounts lower than 150k\n",
    "### - Require higher qualifications for younger population\n",
    "### - Target borrowers that qualify with low interest rates"
   ]
  },
  {
   "cell_type": "code",
   "execution_count": null,
   "id": "62182804",
   "metadata": {},
   "outputs": [],
   "source": []
  }
 ],
 "metadata": {
  "kernelspec": {
   "display_name": "Python 3 (ipykernel)",
   "language": "python",
   "name": "python3"
  },
  "language_info": {
   "codemirror_mode": {
    "name": "ipython",
    "version": 3
   },
   "file_extension": ".py",
   "mimetype": "text/x-python",
   "name": "python",
   "nbconvert_exporter": "python",
   "pygments_lexer": "ipython3",
   "version": "3.11.3"
  }
 },
 "nbformat": 4,
 "nbformat_minor": 5
}
