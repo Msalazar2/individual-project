{
 "cells": [
  {
   "cell_type": "markdown",
   "id": "d328b67c",
   "metadata": {},
   "source": [
    "# Predicting Loan Defaults"
   ]
  },
  {
   "cell_type": "markdown",
   "id": "78ba1973",
   "metadata": {},
   "source": [
    "## Goal:\n",
    "\n",
    "### - Discover features driving borrowers to default.\n",
    "### - Build a classififcation model to predict defaults."
   ]
  },
  {
   "cell_type": "markdown",
   "id": "514b007c",
   "metadata": {},
   "source": [
    "___"
   ]
  },
  {
   "cell_type": "markdown",
   "id": "134bc94d",
   "metadata": {},
   "source": [
    "# Imports"
   ]
  },
  {
   "cell_type": "code",
   "execution_count": 1,
   "id": "0dfcce25",
   "metadata": {},
   "outputs": [],
   "source": [
    "import wrangle2 as w\n",
    "import explore as e\n",
    "import preprocess as p\n",
    "import numpy as np\n",
    "import modeling as m\n",
    "\n",
    "import pandas as pd\n",
    "import seaborn as sns\n",
    "import matplotlib.pyplot as plt\n",
    "\n",
    "%load_ext autoreload\n",
    "%autoreload 2"
   ]
  },
  {
   "cell_type": "markdown",
   "id": "8c9f9e06",
   "metadata": {},
   "source": [
    "---"
   ]
  },
  {
   "cell_type": "markdown",
   "id": "29a1852c",
   "metadata": {},
   "source": [
    "# Dictionary"
   ]
  },
  {
   "cell_type": "markdown",
   "id": "00bc668f",
   "metadata": {},
   "source": [
    "| Column       | Column_type | Data_type| Description                                                                |\n",
    "|--------------|-------------|----------|----------------------------------------------------------------------------|\n",
    "|LoanID\t       |Identifier   |string    |A unique identifier for each loan.                                          |\n",
    "|Age\t       |Feature      |integer\t|Age of the borrower.                                                        |\n",
    "|Income        |Feature      |integer   |Annual income of the borrower.                                              |\n",
    "|LoanAmount    |Feature      |integer\t|Amount of money being borrowed.                                             |\n",
    "|CreditScore   |Feature      |integer\t|Credit score of the borrower, indicating their creditworthiness.            |\n",
    "|MonthsEmployed|Feature      |integer\t|Number of months the borrower has been employed.                            |\n",
    "|NumCreditLines|Feature      |integer\t|Number of credit lines the borrower has open.                               |\n",
    "|InterestRate  |Feature      |float\t    |Interest rate for the loan.                                                 |\n",
    "|LoanTerm      |Feature      |integer\t|Term length of the loan in months.                                          |\n",
    "|DTIRatio      |Feature      |float\t    |Debt-to-Income ratio, borrower's debt compared to their income.             |\n",
    "|Education     |Feature      |string\t|Highest level of education attained by the borrower.                        |\n",
    "|EmploymentType|Feature      |string\t|Type of employment status of the borrower.                                  |\n",
    "|MaritalStatus |Feature      |string\t|Marital status of the borrower (Single, Married, Divorced).                 |\n",
    "|HasMortgage   |Feature      |string\t|Whether the borrower has a mortgage (Yes or No).                            |\n",
    "|HasDependents |Feature      |string\t|Whether the borrower has dependents (Yes or No).                            |\n",
    "|LoanPurpose   |Feature      |string\t|Purpose of the loan (Home, Auto, Education, Business, Other).               |\n",
    "|HasCoSigner   |Feature      |string\t|Whether the loan has a co-signer (Yes or No).                               |\n",
    "|Default\t   |Target       |integer\t|Binary target variable indicating whether the loan defaulted (1) or not (0).|"
   ]
  },
  {
   "cell_type": "markdown",
   "id": "cd0868c8",
   "metadata": {},
   "source": [
    "---"
   ]
  },
  {
   "cell_type": "markdown",
   "id": "4abb9693",
   "metadata": {},
   "source": [
    "# Acquire & Wrangle\n",
    "\n"
   ]
  },
  {
   "cell_type": "markdown",
   "id": "da0fd143",
   "metadata": {},
   "source": [
    "### - Data acquired from Coursera into a csv file\n",
    "\n",
    "### - Renamed columns & lowercased column names\n",
    "\n",
    "### - No missing values\n",
    "\n",
    "### - Dropped LoanID column\n",
    "\n",
    "### - Split data 70%,15%,15%"
   ]
  },
  {
   "cell_type": "code",
   "execution_count": 2,
   "id": "920071b3",
   "metadata": {},
   "outputs": [
    {
     "name": "stdout",
     "output_type": "stream",
     "text": [
      "Found Data\n"
     ]
    }
   ],
   "source": [
    "train = w.train_data()"
   ]
  },
  {
   "cell_type": "code",
   "execution_count": 3,
   "id": "4b537784",
   "metadata": {},
   "outputs": [
    {
     "data": {
      "text/plain": [
       "(255347, 18)"
      ]
     },
     "execution_count": 3,
     "metadata": {},
     "output_type": "execute_result"
    }
   ],
   "source": [
    "train.shape"
   ]
  },
  {
   "cell_type": "code",
   "execution_count": 4,
   "id": "43530a95",
   "metadata": {
    "scrolled": true
   },
   "outputs": [
    {
     "data": {
      "text/html": [
       "<div>\n",
       "<style scoped>\n",
       "    .dataframe tbody tr th:only-of-type {\n",
       "        vertical-align: middle;\n",
       "    }\n",
       "\n",
       "    .dataframe tbody tr th {\n",
       "        vertical-align: top;\n",
       "    }\n",
       "\n",
       "    .dataframe thead th {\n",
       "        text-align: right;\n",
       "    }\n",
       "</style>\n",
       "<table border=\"1\" class=\"dataframe\">\n",
       "  <thead>\n",
       "    <tr style=\"text-align: right;\">\n",
       "      <th></th>\n",
       "      <th>LoanID</th>\n",
       "      <th>Age</th>\n",
       "      <th>Income</th>\n",
       "      <th>LoanAmount</th>\n",
       "      <th>CreditScore</th>\n",
       "      <th>MonthsEmployed</th>\n",
       "      <th>NumCreditLines</th>\n",
       "      <th>InterestRate</th>\n",
       "      <th>LoanTerm</th>\n",
       "      <th>DTIRatio</th>\n",
       "      <th>Education</th>\n",
       "      <th>EmploymentType</th>\n",
       "      <th>MaritalStatus</th>\n",
       "      <th>HasMortgage</th>\n",
       "      <th>HasDependents</th>\n",
       "      <th>LoanPurpose</th>\n",
       "      <th>HasCoSigner</th>\n",
       "      <th>Default</th>\n",
       "    </tr>\n",
       "  </thead>\n",
       "  <tbody>\n",
       "    <tr>\n",
       "      <th>0</th>\n",
       "      <td>I38PQUQS96</td>\n",
       "      <td>56</td>\n",
       "      <td>85994</td>\n",
       "      <td>50587</td>\n",
       "      <td>520</td>\n",
       "      <td>80</td>\n",
       "      <td>4</td>\n",
       "      <td>15.23</td>\n",
       "      <td>36</td>\n",
       "      <td>0.44</td>\n",
       "      <td>Bachelor's</td>\n",
       "      <td>Full-time</td>\n",
       "      <td>Divorced</td>\n",
       "      <td>Yes</td>\n",
       "      <td>Yes</td>\n",
       "      <td>Other</td>\n",
       "      <td>Yes</td>\n",
       "      <td>0</td>\n",
       "    </tr>\n",
       "    <tr>\n",
       "      <th>1</th>\n",
       "      <td>HPSK72WA7R</td>\n",
       "      <td>69</td>\n",
       "      <td>50432</td>\n",
       "      <td>124440</td>\n",
       "      <td>458</td>\n",
       "      <td>15</td>\n",
       "      <td>1</td>\n",
       "      <td>4.81</td>\n",
       "      <td>60</td>\n",
       "      <td>0.68</td>\n",
       "      <td>Master's</td>\n",
       "      <td>Full-time</td>\n",
       "      <td>Married</td>\n",
       "      <td>No</td>\n",
       "      <td>No</td>\n",
       "      <td>Other</td>\n",
       "      <td>Yes</td>\n",
       "      <td>0</td>\n",
       "    </tr>\n",
       "    <tr>\n",
       "      <th>2</th>\n",
       "      <td>C1OZ6DPJ8Y</td>\n",
       "      <td>46</td>\n",
       "      <td>84208</td>\n",
       "      <td>129188</td>\n",
       "      <td>451</td>\n",
       "      <td>26</td>\n",
       "      <td>3</td>\n",
       "      <td>21.17</td>\n",
       "      <td>24</td>\n",
       "      <td>0.31</td>\n",
       "      <td>Master's</td>\n",
       "      <td>Unemployed</td>\n",
       "      <td>Divorced</td>\n",
       "      <td>Yes</td>\n",
       "      <td>Yes</td>\n",
       "      <td>Auto</td>\n",
       "      <td>No</td>\n",
       "      <td>1</td>\n",
       "    </tr>\n",
       "    <tr>\n",
       "      <th>3</th>\n",
       "      <td>V2KKSFM3UN</td>\n",
       "      <td>32</td>\n",
       "      <td>31713</td>\n",
       "      <td>44799</td>\n",
       "      <td>743</td>\n",
       "      <td>0</td>\n",
       "      <td>3</td>\n",
       "      <td>7.07</td>\n",
       "      <td>24</td>\n",
       "      <td>0.23</td>\n",
       "      <td>High School</td>\n",
       "      <td>Full-time</td>\n",
       "      <td>Married</td>\n",
       "      <td>No</td>\n",
       "      <td>No</td>\n",
       "      <td>Business</td>\n",
       "      <td>No</td>\n",
       "      <td>0</td>\n",
       "    </tr>\n",
       "    <tr>\n",
       "      <th>4</th>\n",
       "      <td>EY08JDHTZP</td>\n",
       "      <td>60</td>\n",
       "      <td>20437</td>\n",
       "      <td>9139</td>\n",
       "      <td>633</td>\n",
       "      <td>8</td>\n",
       "      <td>4</td>\n",
       "      <td>6.51</td>\n",
       "      <td>48</td>\n",
       "      <td>0.73</td>\n",
       "      <td>Bachelor's</td>\n",
       "      <td>Unemployed</td>\n",
       "      <td>Divorced</td>\n",
       "      <td>No</td>\n",
       "      <td>Yes</td>\n",
       "      <td>Auto</td>\n",
       "      <td>No</td>\n",
       "      <td>0</td>\n",
       "    </tr>\n",
       "  </tbody>\n",
       "</table>\n",
       "</div>"
      ],
      "text/plain": [
       "       LoanID  Age  Income  LoanAmount  CreditScore  MonthsEmployed  \\\n",
       "0  I38PQUQS96   56   85994       50587          520              80   \n",
       "1  HPSK72WA7R   69   50432      124440          458              15   \n",
       "2  C1OZ6DPJ8Y   46   84208      129188          451              26   \n",
       "3  V2KKSFM3UN   32   31713       44799          743               0   \n",
       "4  EY08JDHTZP   60   20437        9139          633               8   \n",
       "\n",
       "   NumCreditLines  InterestRate  LoanTerm  DTIRatio    Education  \\\n",
       "0               4         15.23        36      0.44   Bachelor's   \n",
       "1               1          4.81        60      0.68     Master's   \n",
       "2               3         21.17        24      0.31     Master's   \n",
       "3               3          7.07        24      0.23  High School   \n",
       "4               4          6.51        48      0.73   Bachelor's   \n",
       "\n",
       "  EmploymentType MaritalStatus HasMortgage HasDependents LoanPurpose  \\\n",
       "0      Full-time      Divorced         Yes           Yes       Other   \n",
       "1      Full-time       Married          No            No       Other   \n",
       "2     Unemployed      Divorced         Yes           Yes        Auto   \n",
       "3      Full-time       Married          No            No    Business   \n",
       "4     Unemployed      Divorced          No           Yes        Auto   \n",
       "\n",
       "  HasCoSigner  Default  \n",
       "0         Yes        0  \n",
       "1         Yes        0  \n",
       "2          No        1  \n",
       "3          No        0  \n",
       "4          No        0  "
      ]
     },
     "execution_count": 4,
     "metadata": {},
     "output_type": "execute_result"
    }
   ],
   "source": [
    "train.head()"
   ]
  },
  {
   "cell_type": "code",
   "execution_count": 5,
   "id": "b1825636",
   "metadata": {},
   "outputs": [
    {
     "name": "stdout",
     "output_type": "stream",
     "text": [
      "<class 'pandas.core.frame.DataFrame'>\n",
      "RangeIndex: 255347 entries, 0 to 255346\n",
      "Data columns (total 18 columns):\n",
      " #   Column          Non-Null Count   Dtype  \n",
      "---  ------          --------------   -----  \n",
      " 0   LoanID          255347 non-null  object \n",
      " 1   Age             255347 non-null  int64  \n",
      " 2   Income          255347 non-null  int64  \n",
      " 3   LoanAmount      255347 non-null  int64  \n",
      " 4   CreditScore     255347 non-null  int64  \n",
      " 5   MonthsEmployed  255347 non-null  int64  \n",
      " 6   NumCreditLines  255347 non-null  int64  \n",
      " 7   InterestRate    255347 non-null  float64\n",
      " 8   LoanTerm        255347 non-null  int64  \n",
      " 9   DTIRatio        255347 non-null  float64\n",
      " 10  Education       255347 non-null  object \n",
      " 11  EmploymentType  255347 non-null  object \n",
      " 12  MaritalStatus   255347 non-null  object \n",
      " 13  HasMortgage     255347 non-null  object \n",
      " 14  HasDependents   255347 non-null  object \n",
      " 15  LoanPurpose     255347 non-null  object \n",
      " 16  HasCoSigner     255347 non-null  object \n",
      " 17  Default         255347 non-null  int64  \n",
      "dtypes: float64(2), int64(8), object(8)\n",
      "memory usage: 35.1+ MB\n"
     ]
    }
   ],
   "source": [
    "train.info()"
   ]
  },
  {
   "cell_type": "code",
   "execution_count": 6,
   "id": "92052933",
   "metadata": {
    "scrolled": true
   },
   "outputs": [
    {
     "data": {
      "text/plain": [
       "LoanID            0\n",
       "Age               0\n",
       "Income            0\n",
       "LoanAmount        0\n",
       "CreditScore       0\n",
       "MonthsEmployed    0\n",
       "NumCreditLines    0\n",
       "InterestRate      0\n",
       "LoanTerm          0\n",
       "DTIRatio          0\n",
       "Education         0\n",
       "EmploymentType    0\n",
       "MaritalStatus     0\n",
       "HasMortgage       0\n",
       "HasDependents     0\n",
       "LoanPurpose       0\n",
       "HasCoSigner       0\n",
       "Default           0\n",
       "dtype: int64"
      ]
     },
     "execution_count": 6,
     "metadata": {},
     "output_type": "execute_result"
    }
   ],
   "source": [
    "train.isnull().sum()"
   ]
  },
  {
   "cell_type": "code",
   "execution_count": 7,
   "id": "8e90126d",
   "metadata": {},
   "outputs": [
    {
     "ename": "AttributeError",
     "evalue": "'DataFrame' object has no attribute 'loan_amount_bin'",
     "output_type": "error",
     "traceback": [
      "\u001b[0;31m---------------------------------------------------------------------------\u001b[0m",
      "\u001b[0;31mAttributeError\u001b[0m                            Traceback (most recent call last)",
      "Cell \u001b[0;32mIn[7], line 1\u001b[0m\n\u001b[0;32m----> 1\u001b[0m train\u001b[38;5;241m.\u001b[39mloan_amount_bin[train\u001b[38;5;241m.\u001b[39mloan_amount_bin\u001b[38;5;241m.\u001b[39misnull() \u001b[38;5;241m==\u001b[39m \u001b[38;5;124m'\u001b[39m\u001b[38;5;124mTrue\u001b[39m\u001b[38;5;124m'\u001b[39m]\n",
      "File \u001b[0;32m/usr/local/anaconda3/lib/python3.11/site-packages/pandas/core/generic.py:5902\u001b[0m, in \u001b[0;36mNDFrame.__getattr__\u001b[0;34m(self, name)\u001b[0m\n\u001b[1;32m   5895\u001b[0m \u001b[38;5;28;01mif\u001b[39;00m (\n\u001b[1;32m   5896\u001b[0m     name \u001b[38;5;129;01mnot\u001b[39;00m \u001b[38;5;129;01min\u001b[39;00m \u001b[38;5;28mself\u001b[39m\u001b[38;5;241m.\u001b[39m_internal_names_set\n\u001b[1;32m   5897\u001b[0m     \u001b[38;5;129;01mand\u001b[39;00m name \u001b[38;5;129;01mnot\u001b[39;00m \u001b[38;5;129;01min\u001b[39;00m \u001b[38;5;28mself\u001b[39m\u001b[38;5;241m.\u001b[39m_metadata\n\u001b[1;32m   5898\u001b[0m     \u001b[38;5;129;01mand\u001b[39;00m name \u001b[38;5;129;01mnot\u001b[39;00m \u001b[38;5;129;01min\u001b[39;00m \u001b[38;5;28mself\u001b[39m\u001b[38;5;241m.\u001b[39m_accessors\n\u001b[1;32m   5899\u001b[0m     \u001b[38;5;129;01mand\u001b[39;00m \u001b[38;5;28mself\u001b[39m\u001b[38;5;241m.\u001b[39m_info_axis\u001b[38;5;241m.\u001b[39m_can_hold_identifiers_and_holds_name(name)\n\u001b[1;32m   5900\u001b[0m ):\n\u001b[1;32m   5901\u001b[0m     \u001b[38;5;28;01mreturn\u001b[39;00m \u001b[38;5;28mself\u001b[39m[name]\n\u001b[0;32m-> 5902\u001b[0m \u001b[38;5;28;01mreturn\u001b[39;00m \u001b[38;5;28mobject\u001b[39m\u001b[38;5;241m.\u001b[39m\u001b[38;5;21m__getattribute__\u001b[39m(\u001b[38;5;28mself\u001b[39m, name)\n",
      "\u001b[0;31mAttributeError\u001b[0m: 'DataFrame' object has no attribute 'loan_amount_bin'"
     ]
    }
   ],
   "source": [
    "train.loan_amount_bin[train.loan_amount_bin.isnull() == 'True']"
   ]
  },
  {
   "cell_type": "code",
   "execution_count": 8,
   "id": "df460c00",
   "metadata": {},
   "outputs": [],
   "source": [
    "test = w.test_data()"
   ]
  },
  {
   "cell_type": "code",
   "execution_count": 9,
   "id": "d1ec3f30",
   "metadata": {},
   "outputs": [],
   "source": [
    "val, test = w.val_test(test)"
   ]
  },
  {
   "cell_type": "code",
   "execution_count": 10,
   "id": "a8617de9",
   "metadata": {},
   "outputs": [
    {
     "data": {
      "text/plain": [
       "((54717, 17), (54718, 17))"
      ]
     },
     "execution_count": 10,
     "metadata": {},
     "output_type": "execute_result"
    }
   ],
   "source": [
    "val.shape, test.shape"
   ]
  },
  {
   "cell_type": "code",
   "execution_count": 11,
   "id": "2a939839",
   "metadata": {},
   "outputs": [
    {
     "data": {
      "text/html": [
       "<div>\n",
       "<style scoped>\n",
       "    .dataframe tbody tr th:only-of-type {\n",
       "        vertical-align: middle;\n",
       "    }\n",
       "\n",
       "    .dataframe tbody tr th {\n",
       "        vertical-align: top;\n",
       "    }\n",
       "\n",
       "    .dataframe thead th {\n",
       "        text-align: right;\n",
       "    }\n",
       "</style>\n",
       "<table border=\"1\" class=\"dataframe\">\n",
       "  <thead>\n",
       "    <tr style=\"text-align: right;\">\n",
       "      <th></th>\n",
       "      <th>LoanID</th>\n",
       "      <th>Age</th>\n",
       "      <th>Income</th>\n",
       "      <th>LoanAmount</th>\n",
       "      <th>CreditScore</th>\n",
       "      <th>MonthsEmployed</th>\n",
       "      <th>NumCreditLines</th>\n",
       "      <th>InterestRate</th>\n",
       "      <th>LoanTerm</th>\n",
       "      <th>DTIRatio</th>\n",
       "      <th>Education</th>\n",
       "      <th>EmploymentType</th>\n",
       "      <th>MaritalStatus</th>\n",
       "      <th>HasMortgage</th>\n",
       "      <th>HasDependents</th>\n",
       "      <th>LoanPurpose</th>\n",
       "      <th>HasCoSigner</th>\n",
       "    </tr>\n",
       "  </thead>\n",
       "  <tbody>\n",
       "    <tr>\n",
       "      <th>10383</th>\n",
       "      <td>DZSXMIETOZ</td>\n",
       "      <td>61</td>\n",
       "      <td>52577</td>\n",
       "      <td>62710</td>\n",
       "      <td>598</td>\n",
       "      <td>15</td>\n",
       "      <td>1</td>\n",
       "      <td>3.25</td>\n",
       "      <td>48</td>\n",
       "      <td>0.37</td>\n",
       "      <td>High School</td>\n",
       "      <td>Part-time</td>\n",
       "      <td>Married</td>\n",
       "      <td>Yes</td>\n",
       "      <td>No</td>\n",
       "      <td>Education</td>\n",
       "      <td>Yes</td>\n",
       "    </tr>\n",
       "    <tr>\n",
       "      <th>88280</th>\n",
       "      <td>PP17HLWGDB</td>\n",
       "      <td>22</td>\n",
       "      <td>75813</td>\n",
       "      <td>111086</td>\n",
       "      <td>388</td>\n",
       "      <td>93</td>\n",
       "      <td>1</td>\n",
       "      <td>9.60</td>\n",
       "      <td>12</td>\n",
       "      <td>0.69</td>\n",
       "      <td>PhD</td>\n",
       "      <td>Full-time</td>\n",
       "      <td>Married</td>\n",
       "      <td>Yes</td>\n",
       "      <td>Yes</td>\n",
       "      <td>Other</td>\n",
       "      <td>No</td>\n",
       "    </tr>\n",
       "    <tr>\n",
       "      <th>3248</th>\n",
       "      <td>3K794ULD90</td>\n",
       "      <td>52</td>\n",
       "      <td>49059</td>\n",
       "      <td>115361</td>\n",
       "      <td>726</td>\n",
       "      <td>81</td>\n",
       "      <td>3</td>\n",
       "      <td>14.06</td>\n",
       "      <td>48</td>\n",
       "      <td>0.39</td>\n",
       "      <td>High School</td>\n",
       "      <td>Part-time</td>\n",
       "      <td>Divorced</td>\n",
       "      <td>Yes</td>\n",
       "      <td>Yes</td>\n",
       "      <td>Education</td>\n",
       "      <td>Yes</td>\n",
       "    </tr>\n",
       "    <tr>\n",
       "      <th>35803</th>\n",
       "      <td>0DT3KKQVOS</td>\n",
       "      <td>44</td>\n",
       "      <td>65996</td>\n",
       "      <td>81665</td>\n",
       "      <td>617</td>\n",
       "      <td>25</td>\n",
       "      <td>4</td>\n",
       "      <td>22.24</td>\n",
       "      <td>60</td>\n",
       "      <td>0.53</td>\n",
       "      <td>PhD</td>\n",
       "      <td>Unemployed</td>\n",
       "      <td>Married</td>\n",
       "      <td>No</td>\n",
       "      <td>Yes</td>\n",
       "      <td>Other</td>\n",
       "      <td>Yes</td>\n",
       "    </tr>\n",
       "    <tr>\n",
       "      <th>20436</th>\n",
       "      <td>1ZVVOKN9F6</td>\n",
       "      <td>68</td>\n",
       "      <td>106215</td>\n",
       "      <td>69556</td>\n",
       "      <td>765</td>\n",
       "      <td>65</td>\n",
       "      <td>4</td>\n",
       "      <td>7.69</td>\n",
       "      <td>60</td>\n",
       "      <td>0.20</td>\n",
       "      <td>Master's</td>\n",
       "      <td>Self-employed</td>\n",
       "      <td>Married</td>\n",
       "      <td>No</td>\n",
       "      <td>No</td>\n",
       "      <td>Auto</td>\n",
       "      <td>Yes</td>\n",
       "    </tr>\n",
       "  </tbody>\n",
       "</table>\n",
       "</div>"
      ],
      "text/plain": [
       "           LoanID  Age  Income  LoanAmount  CreditScore  MonthsEmployed  \\\n",
       "10383  DZSXMIETOZ   61   52577       62710          598              15   \n",
       "88280  PP17HLWGDB   22   75813      111086          388              93   \n",
       "3248   3K794ULD90   52   49059      115361          726              81   \n",
       "35803  0DT3KKQVOS   44   65996       81665          617              25   \n",
       "20436  1ZVVOKN9F6   68  106215       69556          765              65   \n",
       "\n",
       "       NumCreditLines  InterestRate  LoanTerm  DTIRatio    Education  \\\n",
       "10383               1          3.25        48      0.37  High School   \n",
       "88280               1          9.60        12      0.69          PhD   \n",
       "3248                3         14.06        48      0.39  High School   \n",
       "35803               4         22.24        60      0.53          PhD   \n",
       "20436               4          7.69        60      0.20     Master's   \n",
       "\n",
       "      EmploymentType MaritalStatus HasMortgage HasDependents LoanPurpose  \\\n",
       "10383      Part-time       Married         Yes            No   Education   \n",
       "88280      Full-time       Married         Yes           Yes       Other   \n",
       "3248       Part-time      Divorced         Yes           Yes   Education   \n",
       "35803     Unemployed       Married          No           Yes       Other   \n",
       "20436  Self-employed       Married          No            No        Auto   \n",
       "\n",
       "      HasCoSigner  \n",
       "10383         Yes  \n",
       "88280          No  \n",
       "3248          Yes  \n",
       "35803         Yes  \n",
       "20436         Yes  "
      ]
     },
     "execution_count": 11,
     "metadata": {},
     "output_type": "execute_result"
    }
   ],
   "source": [
    "val.head()"
   ]
  },
  {
   "cell_type": "code",
   "execution_count": 12,
   "id": "b6d1dcc8",
   "metadata": {},
   "outputs": [
    {
     "data": {
      "text/html": [
       "<b>Shape:</b>"
      ],
      "text/plain": [
       "<IPython.core.display.HTML object>"
      ]
     },
     "metadata": {},
     "output_type": "display_data"
    },
    {
     "name": "stdout",
     "output_type": "stream",
     "text": [
      "(255347, 18)\n",
      "\n",
      "_________________________________________________\n",
      "\n"
     ]
    },
    {
     "data": {
      "text/html": [
       "<b>Info:</b>"
      ],
      "text/plain": [
       "<IPython.core.display.HTML object>"
      ]
     },
     "metadata": {},
     "output_type": "display_data"
    },
    {
     "name": "stdout",
     "output_type": "stream",
     "text": [
      "<class 'pandas.core.frame.DataFrame'>\n",
      "RangeIndex: 255347 entries, 0 to 255346\n",
      "Data columns (total 18 columns):\n",
      " #   Column          Non-Null Count   Dtype  \n",
      "---  ------          --------------   -----  \n",
      " 0   LoanID          255347 non-null  object \n",
      " 1   Age             255347 non-null  int64  \n",
      " 2   Income          255347 non-null  int64  \n",
      " 3   LoanAmount      255347 non-null  int64  \n",
      " 4   CreditScore     255347 non-null  int64  \n",
      " 5   MonthsEmployed  255347 non-null  int64  \n",
      " 6   NumCreditLines  255347 non-null  int64  \n",
      " 7   InterestRate    255347 non-null  float64\n",
      " 8   LoanTerm        255347 non-null  int64  \n",
      " 9   DTIRatio        255347 non-null  float64\n",
      " 10  Education       255347 non-null  object \n",
      " 11  EmploymentType  255347 non-null  object \n",
      " 12  MaritalStatus   255347 non-null  object \n",
      " 13  HasMortgage     255347 non-null  object \n",
      " 14  HasDependents   255347 non-null  object \n",
      " 15  LoanPurpose     255347 non-null  object \n",
      " 16  HasCoSigner     255347 non-null  object \n",
      " 17  Default         255347 non-null  int64  \n",
      "dtypes: float64(2), int64(8), object(8)\n",
      "memory usage: 35.1+ MB\n",
      "\n",
      "_________________________________________________\n",
      "\n"
     ]
    },
    {
     "data": {
      "text/html": [
       "<b>Null Values:</b>"
      ],
      "text/plain": [
       "<IPython.core.display.HTML object>"
      ]
     },
     "metadata": {},
     "output_type": "display_data"
    },
    {
     "name": "stdout",
     "output_type": "stream",
     "text": [
      "\n",
      "LoanID            0\n",
      "Age               0\n",
      "Income            0\n",
      "LoanAmount        0\n",
      "CreditScore       0\n",
      "MonthsEmployed    0\n",
      "NumCreditLines    0\n",
      "InterestRate      0\n",
      "LoanTerm          0\n",
      "DTIRatio          0\n",
      "Education         0\n",
      "EmploymentType    0\n",
      "MaritalStatus     0\n",
      "HasMortgage       0\n",
      "HasDependents     0\n",
      "LoanPurpose       0\n",
      "HasCoSigner       0\n",
      "Default           0\n",
      "dtype: int64\n",
      "\n",
      "_________________________________________________\n",
      "\n"
     ]
    },
    {
     "data": {
      "text/html": [
       "<b>Value Count for LoanID:</b>"
      ],
      "text/plain": [
       "<IPython.core.display.HTML object>"
      ]
     },
     "metadata": {},
     "output_type": "display_data"
    },
    {
     "name": "stdout",
     "output_type": "stream",
     "text": [
      "\n",
      "I38PQUQS96    1\n",
      "WGB0GD3150    1\n",
      "XATSFC5YHN    1\n",
      "CQXDW5VBAG    1\n",
      "6AIVUNAJG8    1\n",
      "             ..\n",
      "ZBK3GDL2LI    1\n",
      "SP7XY2LPYA    1\n",
      "Q2DO8ENMV1    1\n",
      "5EXD8N4MT4    1\n",
      "ZTH91CGL0B    1\n",
      "Name: LoanID, Length: 255347, dtype: int64\n",
      "\n",
      "_________________________________________________\n",
      "\n"
     ]
    },
    {
     "data": {
      "text/html": [
       "<b>Value Count for Age:</b>"
      ],
      "text/plain": [
       "<IPython.core.display.HTML object>"
      ]
     },
     "metadata": {},
     "output_type": "display_data"
    },
    {
     "name": "stdout",
     "output_type": "stream",
     "text": [
      "\n",
      "55    5064\n",
      "40    5056\n",
      "65    5027\n",
      "33    5022\n",
      "53    5010\n",
      "62    4999\n",
      "34    4987\n",
      "45    4985\n",
      "61    4982\n",
      "39    4973\n",
      "22    4970\n",
      "32    4969\n",
      "43    4965\n",
      "19    4963\n",
      "35    4961\n",
      "68    4958\n",
      "38    4955\n",
      "30    4954\n",
      "49    4952\n",
      "50    4949\n",
      "27    4945\n",
      "47    4931\n",
      "57    4925\n",
      "54    4921\n",
      "31    4908\n",
      "44    4906\n",
      "36    4906\n",
      "28    4906\n",
      "56    4902\n",
      "26    4891\n",
      "21    4889\n",
      "46    4887\n",
      "18    4884\n",
      "58    4883\n",
      "67    4876\n",
      "51    4876\n",
      "59    4871\n",
      "24    4869\n",
      "29    4865\n",
      "63    4862\n",
      "20    4861\n",
      "37    4856\n",
      "66    4841\n",
      "25    4840\n",
      "64    4840\n",
      "69    4817\n",
      "41    4815\n",
      "48    4810\n",
      "42    4803\n",
      "60    4772\n",
      "52    4748\n",
      "23    4740\n",
      "Name: Age, dtype: int64\n",
      "\n",
      "_________________________________________________\n",
      "\n"
     ]
    },
    {
     "data": {
      "text/html": [
       "<b>Value Count for Income:</b>"
      ],
      "text/plain": [
       "<IPython.core.display.HTML object>"
      ]
     },
     "metadata": {},
     "output_type": "display_data"
    },
    {
     "name": "stdout",
     "output_type": "stream",
     "text": [
      "\n",
      "69492     10\n",
      "117102    10\n",
      "121985    10\n",
      "85375      9\n",
      "61315      9\n",
      "          ..\n",
      "98969      1\n",
      "72350      1\n",
      "126600     1\n",
      "68356      1\n",
      "124446     1\n",
      "Name: Income, Length: 114620, dtype: int64\n",
      "\n",
      "_________________________________________________\n",
      "\n"
     ]
    },
    {
     "data": {
      "text/html": [
       "<b>Value Count for LoanAmount:</b>"
      ],
      "text/plain": [
       "<IPython.core.display.HTML object>"
      ]
     },
     "metadata": {},
     "output_type": "display_data"
    },
    {
     "name": "stdout",
     "output_type": "stream",
     "text": [
      "\n",
      "133724    8\n",
      "221949    8\n",
      "95419     8\n",
      "235258    7\n",
      "108323    7\n",
      "         ..\n",
      "121259    1\n",
      "147115    1\n",
      "166792    1\n",
      "39044     1\n",
      "208294    1\n",
      "Name: LoanAmount, Length: 158729, dtype: int64\n",
      "\n",
      "_________________________________________________\n",
      "\n"
     ]
    },
    {
     "data": {
      "text/html": [
       "<b>Value Count for CreditScore:</b>"
      ],
      "text/plain": [
       "<IPython.core.display.HTML object>"
      ]
     },
     "metadata": {},
     "output_type": "display_data"
    },
    {
     "name": "stdout",
     "output_type": "stream",
     "text": [
      "\n",
      "630    528\n",
      "445    521\n",
      "829    520\n",
      "753    519\n",
      "670    515\n",
      "      ... \n",
      "629    408\n",
      "706    406\n",
      "536    406\n",
      "720    402\n",
      "724    392\n",
      "Name: CreditScore, Length: 550, dtype: int64\n",
      "\n",
      "_________________________________________________\n",
      "\n"
     ]
    },
    {
     "data": {
      "text/html": [
       "<b>Value Count for MonthsEmployed:</b>"
      ],
      "text/plain": [
       "<IPython.core.display.HTML object>"
      ]
     },
     "metadata": {},
     "output_type": "display_data"
    },
    {
     "name": "stdout",
     "output_type": "stream",
     "text": [
      "\n",
      "56     2227\n",
      "26     2223\n",
      "45     2220\n",
      "107    2207\n",
      "17     2198\n",
      "       ... \n",
      "11     2043\n",
      "39     2041\n",
      "21     2014\n",
      "99     2008\n",
      "25     2004\n",
      "Name: MonthsEmployed, Length: 120, dtype: int64\n",
      "\n",
      "_________________________________________________\n",
      "\n"
     ]
    },
    {
     "data": {
      "text/html": [
       "<b>Value Count for NumCreditLines:</b>"
      ],
      "text/plain": [
       "<IPython.core.display.HTML object>"
      ]
     },
     "metadata": {},
     "output_type": "display_data"
    },
    {
     "name": "stdout",
     "output_type": "stream",
     "text": [
      "\n",
      "2    64130\n",
      "3    63834\n",
      "4    63829\n",
      "1    63554\n",
      "Name: NumCreditLines, dtype: int64\n",
      "\n",
      "_________________________________________________\n",
      "\n"
     ]
    },
    {
     "data": {
      "text/html": [
       "<b>Value Count for InterestRate:</b>"
      ],
      "text/plain": [
       "<IPython.core.display.HTML object>"
      ]
     },
     "metadata": {},
     "output_type": "display_data"
    },
    {
     "name": "stdout",
     "output_type": "stream",
     "text": [
      "\n",
      "14.92    147\n",
      "2.25     144\n",
      "4.78     140\n",
      "16.44    140\n",
      "7.30     139\n",
      "        ... \n",
      "15.50     83\n",
      "4.58      82\n",
      "14.34     81\n",
      "25.00     53\n",
      "2.00      44\n",
      "Name: InterestRate, Length: 2301, dtype: int64\n",
      "\n",
      "_________________________________________________\n",
      "\n"
     ]
    },
    {
     "data": {
      "text/html": [
       "<b>Value Count for LoanTerm:</b>"
      ],
      "text/plain": [
       "<IPython.core.display.HTML object>"
      ]
     },
     "metadata": {},
     "output_type": "display_data"
    },
    {
     "name": "stdout",
     "output_type": "stream",
     "text": [
      "\n",
      "48    51166\n",
      "60    51154\n",
      "36    51061\n",
      "24    51009\n",
      "12    50957\n",
      "Name: LoanTerm, dtype: int64\n",
      "\n",
      "_________________________________________________\n",
      "\n"
     ]
    },
    {
     "data": {
      "text/html": [
       "<b>Value Count for DTIRatio:</b>"
      ],
      "text/plain": [
       "<IPython.core.display.HTML object>"
      ]
     },
     "metadata": {},
     "output_type": "display_data"
    },
    {
     "name": "stdout",
     "output_type": "stream",
     "text": [
      "\n",
      "0.67    3385\n",
      "0.64    3308\n",
      "0.37    3288\n",
      "0.13    3285\n",
      "0.19    3285\n",
      "        ... \n",
      "0.68    3078\n",
      "0.35    3068\n",
      "0.11    3051\n",
      "0.10    1611\n",
      "0.90    1605\n",
      "Name: DTIRatio, Length: 81, dtype: int64\n",
      "\n",
      "_________________________________________________\n",
      "\n"
     ]
    },
    {
     "data": {
      "text/html": [
       "<b>Value Count for Education:</b>"
      ],
      "text/plain": [
       "<IPython.core.display.HTML object>"
      ]
     },
     "metadata": {},
     "output_type": "display_data"
    },
    {
     "name": "stdout",
     "output_type": "stream",
     "text": [
      "\n",
      "Bachelor's     64366\n",
      "High School    63903\n",
      "Master's       63541\n",
      "PhD            63537\n",
      "Name: Education, dtype: int64\n",
      "\n",
      "_________________________________________________\n",
      "\n"
     ]
    },
    {
     "data": {
      "text/html": [
       "<b>Value Count for EmploymentType:</b>"
      ],
      "text/plain": [
       "<IPython.core.display.HTML object>"
      ]
     },
     "metadata": {},
     "output_type": "display_data"
    },
    {
     "name": "stdout",
     "output_type": "stream",
     "text": [
      "\n",
      "Part-time        64161\n",
      "Unemployed       63824\n",
      "Self-employed    63706\n",
      "Full-time        63656\n",
      "Name: EmploymentType, dtype: int64\n",
      "\n",
      "_________________________________________________\n",
      "\n"
     ]
    },
    {
     "data": {
      "text/html": [
       "<b>Value Count for MaritalStatus:</b>"
      ],
      "text/plain": [
       "<IPython.core.display.HTML object>"
      ]
     },
     "metadata": {},
     "output_type": "display_data"
    },
    {
     "name": "stdout",
     "output_type": "stream",
     "text": [
      "\n",
      "Married     85302\n",
      "Divorced    85033\n",
      "Single      85012\n",
      "Name: MaritalStatus, dtype: int64\n",
      "\n",
      "_________________________________________________\n",
      "\n"
     ]
    },
    {
     "data": {
      "text/html": [
       "<b>Value Count for HasMortgage:</b>"
      ],
      "text/plain": [
       "<IPython.core.display.HTML object>"
      ]
     },
     "metadata": {},
     "output_type": "display_data"
    },
    {
     "name": "stdout",
     "output_type": "stream",
     "text": [
      "\n",
      "Yes    127677\n",
      "No     127670\n",
      "Name: HasMortgage, dtype: int64\n",
      "\n",
      "_________________________________________________\n",
      "\n"
     ]
    },
    {
     "data": {
      "text/html": [
       "<b>Value Count for HasDependents:</b>"
      ],
      "text/plain": [
       "<IPython.core.display.HTML object>"
      ]
     },
     "metadata": {},
     "output_type": "display_data"
    },
    {
     "name": "stdout",
     "output_type": "stream",
     "text": [
      "\n",
      "Yes    127742\n",
      "No     127605\n",
      "Name: HasDependents, dtype: int64\n",
      "\n",
      "_________________________________________________\n",
      "\n"
     ]
    },
    {
     "data": {
      "text/html": [
       "<b>Value Count for LoanPurpose:</b>"
      ],
      "text/plain": [
       "<IPython.core.display.HTML object>"
      ]
     },
     "metadata": {},
     "output_type": "display_data"
    },
    {
     "name": "stdout",
     "output_type": "stream",
     "text": [
      "\n",
      "Business     51298\n",
      "Home         51286\n",
      "Education    51005\n",
      "Other        50914\n",
      "Auto         50844\n",
      "Name: LoanPurpose, dtype: int64\n",
      "\n",
      "_________________________________________________\n",
      "\n"
     ]
    },
    {
     "data": {
      "text/html": [
       "<b>Value Count for HasCoSigner:</b>"
      ],
      "text/plain": [
       "<IPython.core.display.HTML object>"
      ]
     },
     "metadata": {},
     "output_type": "display_data"
    },
    {
     "name": "stdout",
     "output_type": "stream",
     "text": [
      "\n",
      "Yes    127701\n",
      "No     127646\n",
      "Name: HasCoSigner, dtype: int64\n",
      "\n",
      "_________________________________________________\n",
      "\n"
     ]
    },
    {
     "data": {
      "text/html": [
       "<b>Value Count for Default:</b>"
      ],
      "text/plain": [
       "<IPython.core.display.HTML object>"
      ]
     },
     "metadata": {},
     "output_type": "display_data"
    },
    {
     "name": "stdout",
     "output_type": "stream",
     "text": [
      "\n",
      "0    225694\n",
      "1     29653\n",
      "Name: Default, dtype: int64\n",
      "\n",
      "_________________________________________________\n",
      "\n"
     ]
    }
   ],
   "source": [
    "w.summarize(train)"
   ]
  },
  {
   "cell_type": "code",
   "execution_count": 13,
   "id": "687ffae9",
   "metadata": {},
   "outputs": [
    {
     "data": {
      "text/html": [
       "<b>Shape:</b>"
      ],
      "text/plain": [
       "<IPython.core.display.HTML object>"
      ]
     },
     "metadata": {},
     "output_type": "display_data"
    },
    {
     "name": "stdout",
     "output_type": "stream",
     "text": [
      "(54717, 17)\n",
      "\n",
      "_________________________________________________\n",
      "\n"
     ]
    },
    {
     "data": {
      "text/html": [
       "<b>Info:</b>"
      ],
      "text/plain": [
       "<IPython.core.display.HTML object>"
      ]
     },
     "metadata": {},
     "output_type": "display_data"
    },
    {
     "name": "stdout",
     "output_type": "stream",
     "text": [
      "<class 'pandas.core.frame.DataFrame'>\n",
      "Int64Index: 54717 entries, 10383 to 15795\n",
      "Data columns (total 17 columns):\n",
      " #   Column          Non-Null Count  Dtype  \n",
      "---  ------          --------------  -----  \n",
      " 0   LoanID          54717 non-null  object \n",
      " 1   Age             54717 non-null  int64  \n",
      " 2   Income          54717 non-null  int64  \n",
      " 3   LoanAmount      54717 non-null  int64  \n",
      " 4   CreditScore     54717 non-null  int64  \n",
      " 5   MonthsEmployed  54717 non-null  int64  \n",
      " 6   NumCreditLines  54717 non-null  int64  \n",
      " 7   InterestRate    54717 non-null  float64\n",
      " 8   LoanTerm        54717 non-null  int64  \n",
      " 9   DTIRatio        54717 non-null  float64\n",
      " 10  Education       54717 non-null  object \n",
      " 11  EmploymentType  54717 non-null  object \n",
      " 12  MaritalStatus   54717 non-null  object \n",
      " 13  HasMortgage     54717 non-null  object \n",
      " 14  HasDependents   54717 non-null  object \n",
      " 15  LoanPurpose     54717 non-null  object \n",
      " 16  HasCoSigner     54717 non-null  object \n",
      "dtypes: float64(2), int64(7), object(8)\n",
      "memory usage: 7.5+ MB\n",
      "\n",
      "_________________________________________________\n",
      "\n"
     ]
    },
    {
     "data": {
      "text/html": [
       "<b>Null Values:</b>"
      ],
      "text/plain": [
       "<IPython.core.display.HTML object>"
      ]
     },
     "metadata": {},
     "output_type": "display_data"
    },
    {
     "name": "stdout",
     "output_type": "stream",
     "text": [
      "\n",
      "LoanID            0\n",
      "Age               0\n",
      "Income            0\n",
      "LoanAmount        0\n",
      "CreditScore       0\n",
      "MonthsEmployed    0\n",
      "NumCreditLines    0\n",
      "InterestRate      0\n",
      "LoanTerm          0\n",
      "DTIRatio          0\n",
      "Education         0\n",
      "EmploymentType    0\n",
      "MaritalStatus     0\n",
      "HasMortgage       0\n",
      "HasDependents     0\n",
      "LoanPurpose       0\n",
      "HasCoSigner       0\n",
      "dtype: int64\n",
      "\n",
      "_________________________________________________\n",
      "\n"
     ]
    },
    {
     "data": {
      "text/html": [
       "<b>Value Count for LoanID:</b>"
      ],
      "text/plain": [
       "<IPython.core.display.HTML object>"
      ]
     },
     "metadata": {},
     "output_type": "display_data"
    },
    {
     "name": "stdout",
     "output_type": "stream",
     "text": [
      "\n",
      "DZSXMIETOZ    1\n",
      "S4XL5VAP9P    1\n",
      "A05RJ8L64G    1\n",
      "BRR56MJNJT    1\n",
      "6R7D92AKD1    1\n",
      "             ..\n",
      "OUSR9WZZ5T    1\n",
      "3ENOXVHGWL    1\n",
      "OH2NMQNRT6    1\n",
      "F5RWAWT97K    1\n",
      "23PV3MCO33    1\n",
      "Name: LoanID, Length: 54717, dtype: int64\n",
      "\n",
      "_________________________________________________\n",
      "\n"
     ]
    },
    {
     "data": {
      "text/html": [
       "<b>Value Count for Age:</b>"
      ],
      "text/plain": [
       "<IPython.core.display.HTML object>"
      ]
     },
     "metadata": {},
     "output_type": "display_data"
    },
    {
     "name": "stdout",
     "output_type": "stream",
     "text": [
      "\n",
      "53    1110\n",
      "42    1110\n",
      "22    1108\n",
      "36    1099\n",
      "20    1095\n",
      "33    1092\n",
      "57    1090\n",
      "61    1089\n",
      "39    1086\n",
      "64    1086\n",
      "56    1083\n",
      "45    1082\n",
      "51    1082\n",
      "62    1081\n",
      "69    1080\n",
      "59    1078\n",
      "67    1077\n",
      "46    1069\n",
      "65    1067\n",
      "40    1063\n",
      "26    1059\n",
      "30    1054\n",
      "34    1054\n",
      "52    1053\n",
      "54    1051\n",
      "38    1051\n",
      "18    1050\n",
      "58    1047\n",
      "49    1046\n",
      "28    1045\n",
      "25    1043\n",
      "44    1043\n",
      "55    1042\n",
      "50    1037\n",
      "27    1036\n",
      "60    1036\n",
      "43    1036\n",
      "63    1033\n",
      "24    1032\n",
      "32    1031\n",
      "31    1030\n",
      "29    1026\n",
      "19    1019\n",
      "68    1019\n",
      "66    1019\n",
      "23    1017\n",
      "35    1014\n",
      "47    1007\n",
      "21     997\n",
      "48     992\n",
      "37     990\n",
      "41     981\n",
      "Name: Age, dtype: int64\n",
      "\n",
      "_________________________________________________\n",
      "\n"
     ]
    },
    {
     "data": {
      "text/html": [
       "<b>Value Count for Income:</b>"
      ],
      "text/plain": [
       "<IPython.core.display.HTML object>"
      ]
     },
     "metadata": {},
     "output_type": "display_data"
    },
    {
     "name": "stdout",
     "output_type": "stream",
     "text": [
      "\n",
      "78103     6\n",
      "123873    5\n",
      "135628    5\n",
      "45635     5\n",
      "73738     5\n",
      "         ..\n",
      "20788     1\n",
      "25144     1\n",
      "106543    1\n",
      "109581    1\n",
      "52531     1\n",
      "Name: Income, Length: 44965, dtype: int64\n",
      "\n",
      "_________________________________________________\n",
      "\n"
     ]
    },
    {
     "data": {
      "text/html": [
       "<b>Value Count for LoanAmount:</b>"
      ],
      "text/plain": [
       "<IPython.core.display.HTML object>"
      ]
     },
     "metadata": {},
     "output_type": "display_data"
    },
    {
     "name": "stdout",
     "output_type": "stream",
     "text": [
      "\n",
      "73974     5\n",
      "35403     4\n",
      "98772     4\n",
      "196321    4\n",
      "114907    4\n",
      "         ..\n",
      "119412    1\n",
      "34680     1\n",
      "239512    1\n",
      "115140    1\n",
      "143962    1\n",
      "Name: LoanAmount, Length: 49029, dtype: int64\n",
      "\n",
      "_________________________________________________\n",
      "\n"
     ]
    },
    {
     "data": {
      "text/html": [
       "<b>Value Count for CreditScore:</b>"
      ],
      "text/plain": [
       "<IPython.core.display.HTML object>"
      ]
     },
     "metadata": {},
     "output_type": "display_data"
    },
    {
     "name": "stdout",
     "output_type": "stream",
     "text": [
      "\n",
      "626    134\n",
      "485    125\n",
      "319    125\n",
      "529    124\n",
      "468    124\n",
      "      ... \n",
      "534     78\n",
      "366     77\n",
      "774     77\n",
      "713     77\n",
      "328     76\n",
      "Name: CreditScore, Length: 550, dtype: int64\n",
      "\n",
      "_________________________________________________\n",
      "\n"
     ]
    },
    {
     "data": {
      "text/html": [
       "<b>Value Count for MonthsEmployed:</b>"
      ],
      "text/plain": [
       "<IPython.core.display.HTML object>"
      ]
     },
     "metadata": {},
     "output_type": "display_data"
    },
    {
     "name": "stdout",
     "output_type": "stream",
     "text": [
      "\n",
      "64     503\n",
      "42     502\n",
      "115    495\n",
      "79     493\n",
      "80     490\n",
      "      ... \n",
      "81     414\n",
      "56     412\n",
      "111    412\n",
      "6      406\n",
      "117    397\n",
      "Name: MonthsEmployed, Length: 120, dtype: int64\n",
      "\n",
      "_________________________________________________\n",
      "\n"
     ]
    },
    {
     "data": {
      "text/html": [
       "<b>Value Count for NumCreditLines:</b>"
      ],
      "text/plain": [
       "<IPython.core.display.HTML object>"
      ]
     },
     "metadata": {},
     "output_type": "display_data"
    },
    {
     "name": "stdout",
     "output_type": "stream",
     "text": [
      "\n",
      "2    13829\n",
      "1    13785\n",
      "4    13640\n",
      "3    13463\n",
      "Name: NumCreditLines, dtype: int64\n",
      "\n",
      "_________________________________________________\n",
      "\n"
     ]
    },
    {
     "data": {
      "text/html": [
       "<b>Value Count for InterestRate:</b>"
      ],
      "text/plain": [
       "<IPython.core.display.HTML object>"
      ]
     },
     "metadata": {},
     "output_type": "display_data"
    },
    {
     "name": "stdout",
     "output_type": "stream",
     "text": [
      "\n",
      "3.55     43\n",
      "12.16    43\n",
      "19.82    40\n",
      "20.80    39\n",
      "23.40    39\n",
      "         ..\n",
      "3.41     11\n",
      "10.89     9\n",
      "17.92     9\n",
      "16.31     8\n",
      "2.00      7\n",
      "Name: InterestRate, Length: 2301, dtype: int64\n",
      "\n",
      "_________________________________________________\n",
      "\n"
     ]
    },
    {
     "data": {
      "text/html": [
       "<b>Value Count for LoanTerm:</b>"
      ],
      "text/plain": [
       "<IPython.core.display.HTML object>"
      ]
     },
     "metadata": {},
     "output_type": "display_data"
    },
    {
     "name": "stdout",
     "output_type": "stream",
     "text": [
      "\n",
      "48    11106\n",
      "36    11095\n",
      "60    10873\n",
      "24    10873\n",
      "12    10770\n",
      "Name: LoanTerm, dtype: int64\n",
      "\n",
      "_________________________________________________\n",
      "\n"
     ]
    },
    {
     "data": {
      "text/html": [
       "<b>Value Count for DTIRatio:</b>"
      ],
      "text/plain": [
       "<IPython.core.display.HTML object>"
      ]
     },
     "metadata": {},
     "output_type": "display_data"
    },
    {
     "name": "stdout",
     "output_type": "stream",
     "text": [
      "\n",
      "0.45    761\n",
      "0.67    749\n",
      "0.32    737\n",
      "0.18    720\n",
      "0.16    717\n",
      "       ... \n",
      "0.30    638\n",
      "0.48    632\n",
      "0.34    608\n",
      "0.90    364\n",
      "0.10    330\n",
      "Name: DTIRatio, Length: 81, dtype: int64\n",
      "\n",
      "_________________________________________________\n",
      "\n"
     ]
    },
    {
     "data": {
      "text/html": [
       "<b>Value Count for Education:</b>"
      ],
      "text/plain": [
       "<IPython.core.display.HTML object>"
      ]
     },
     "metadata": {},
     "output_type": "display_data"
    },
    {
     "name": "stdout",
     "output_type": "stream",
     "text": [
      "\n",
      "Bachelor's     13873\n",
      "High School    13735\n",
      "Master's       13603\n",
      "PhD            13506\n",
      "Name: Education, dtype: int64\n",
      "\n",
      "_________________________________________________\n",
      "\n"
     ]
    },
    {
     "data": {
      "text/html": [
       "<b>Value Count for EmploymentType:</b>"
      ],
      "text/plain": [
       "<IPython.core.display.HTML object>"
      ]
     },
     "metadata": {},
     "output_type": "display_data"
    },
    {
     "name": "stdout",
     "output_type": "stream",
     "text": [
      "\n",
      "Self-employed    13942\n",
      "Full-time        13722\n",
      "Unemployed       13627\n",
      "Part-time        13426\n",
      "Name: EmploymentType, dtype: int64\n",
      "\n",
      "_________________________________________________\n",
      "\n"
     ]
    },
    {
     "data": {
      "text/html": [
       "<b>Value Count for MaritalStatus:</b>"
      ],
      "text/plain": [
       "<IPython.core.display.HTML object>"
      ]
     },
     "metadata": {},
     "output_type": "display_data"
    },
    {
     "name": "stdout",
     "output_type": "stream",
     "text": [
      "\n",
      "Divorced    18300\n",
      "Married     18239\n",
      "Single      18178\n",
      "Name: MaritalStatus, dtype: int64\n",
      "\n",
      "_________________________________________________\n",
      "\n"
     ]
    },
    {
     "data": {
      "text/html": [
       "<b>Value Count for HasMortgage:</b>"
      ],
      "text/plain": [
       "<IPython.core.display.HTML object>"
      ]
     },
     "metadata": {},
     "output_type": "display_data"
    },
    {
     "name": "stdout",
     "output_type": "stream",
     "text": [
      "\n",
      "No     27433\n",
      "Yes    27284\n",
      "Name: HasMortgage, dtype: int64\n",
      "\n",
      "_________________________________________________\n",
      "\n"
     ]
    },
    {
     "data": {
      "text/html": [
       "<b>Value Count for HasDependents:</b>"
      ],
      "text/plain": [
       "<IPython.core.display.HTML object>"
      ]
     },
     "metadata": {},
     "output_type": "display_data"
    },
    {
     "name": "stdout",
     "output_type": "stream",
     "text": [
      "\n",
      "Yes    27398\n",
      "No     27319\n",
      "Name: HasDependents, dtype: int64\n",
      "\n",
      "_________________________________________________\n",
      "\n"
     ]
    },
    {
     "data": {
      "text/html": [
       "<b>Value Count for LoanPurpose:</b>"
      ],
      "text/plain": [
       "<IPython.core.display.HTML object>"
      ]
     },
     "metadata": {},
     "output_type": "display_data"
    },
    {
     "name": "stdout",
     "output_type": "stream",
     "text": [
      "\n",
      "Auto         11015\n",
      "Business     10986\n",
      "Other        10980\n",
      "Education    10938\n",
      "Home         10798\n",
      "Name: LoanPurpose, dtype: int64\n",
      "\n",
      "_________________________________________________\n",
      "\n"
     ]
    },
    {
     "data": {
      "text/html": [
       "<b>Value Count for HasCoSigner:</b>"
      ],
      "text/plain": [
       "<IPython.core.display.HTML object>"
      ]
     },
     "metadata": {},
     "output_type": "display_data"
    },
    {
     "name": "stdout",
     "output_type": "stream",
     "text": [
      "\n",
      "No     27388\n",
      "Yes    27329\n",
      "Name: HasCoSigner, dtype: int64\n",
      "\n",
      "_________________________________________________\n",
      "\n"
     ]
    }
   ],
   "source": [
    "w.summarize(val)"
   ]
  },
  {
   "cell_type": "code",
   "execution_count": 14,
   "id": "4c927d97",
   "metadata": {
    "scrolled": true
   },
   "outputs": [
    {
     "name": "stdout",
     "output_type": "stream",
     "text": [
      "Found Data\n"
     ]
    }
   ],
   "source": [
    "train, val, test = w.wrangle_data()"
   ]
  },
  {
   "cell_type": "code",
   "execution_count": 15,
   "id": "da3b4f49",
   "metadata": {},
   "outputs": [
    {
     "data": {
      "text/html": [
       "<div>\n",
       "<style scoped>\n",
       "    .dataframe tbody tr th:only-of-type {\n",
       "        vertical-align: middle;\n",
       "    }\n",
       "\n",
       "    .dataframe tbody tr th {\n",
       "        vertical-align: top;\n",
       "    }\n",
       "\n",
       "    .dataframe thead th {\n",
       "        text-align: right;\n",
       "    }\n",
       "</style>\n",
       "<table border=\"1\" class=\"dataframe\">\n",
       "  <thead>\n",
       "    <tr style=\"text-align: right;\">\n",
       "      <th></th>\n",
       "      <th>age</th>\n",
       "      <th>income</th>\n",
       "      <th>loan_amount</th>\n",
       "      <th>credit_score</th>\n",
       "      <th>months_employed</th>\n",
       "      <th>num_credit_lines</th>\n",
       "      <th>interest_rate</th>\n",
       "      <th>loan_term</th>\n",
       "      <th>dti_ratio</th>\n",
       "      <th>education</th>\n",
       "      <th>employment_type</th>\n",
       "      <th>marital_status</th>\n",
       "      <th>mortgage</th>\n",
       "      <th>dependents</th>\n",
       "      <th>loan_purpose</th>\n",
       "      <th>cosigned</th>\n",
       "    </tr>\n",
       "  </thead>\n",
       "  <tbody>\n",
       "    <tr>\n",
       "      <th>53700</th>\n",
       "      <td>53</td>\n",
       "      <td>75625</td>\n",
       "      <td>28099</td>\n",
       "      <td>529</td>\n",
       "      <td>99</td>\n",
       "      <td>4</td>\n",
       "      <td>23.17</td>\n",
       "      <td>48</td>\n",
       "      <td>0.17</td>\n",
       "      <td>High School</td>\n",
       "      <td>Full-time</td>\n",
       "      <td>Married</td>\n",
       "      <td>No</td>\n",
       "      <td>Yes</td>\n",
       "      <td>Education</td>\n",
       "      <td>Yes</td>\n",
       "    </tr>\n",
       "    <tr>\n",
       "      <th>13087</th>\n",
       "      <td>36</td>\n",
       "      <td>131764</td>\n",
       "      <td>130797</td>\n",
       "      <td>376</td>\n",
       "      <td>1</td>\n",
       "      <td>1</td>\n",
       "      <td>18.57</td>\n",
       "      <td>24</td>\n",
       "      <td>0.65</td>\n",
       "      <td>Master's</td>\n",
       "      <td>Unemployed</td>\n",
       "      <td>Married</td>\n",
       "      <td>No</td>\n",
       "      <td>Yes</td>\n",
       "      <td>Other</td>\n",
       "      <td>Yes</td>\n",
       "    </tr>\n",
       "    <tr>\n",
       "      <th>4195</th>\n",
       "      <td>65</td>\n",
       "      <td>135066</td>\n",
       "      <td>104102</td>\n",
       "      <td>844</td>\n",
       "      <td>13</td>\n",
       "      <td>2</td>\n",
       "      <td>21.84</td>\n",
       "      <td>48</td>\n",
       "      <td>0.42</td>\n",
       "      <td>High School</td>\n",
       "      <td>Self-employed</td>\n",
       "      <td>Married</td>\n",
       "      <td>No</td>\n",
       "      <td>No</td>\n",
       "      <td>Education</td>\n",
       "      <td>Yes</td>\n",
       "    </tr>\n",
       "    <tr>\n",
       "      <th>36325</th>\n",
       "      <td>36</td>\n",
       "      <td>118147</td>\n",
       "      <td>158258</td>\n",
       "      <td>467</td>\n",
       "      <td>61</td>\n",
       "      <td>4</td>\n",
       "      <td>7.88</td>\n",
       "      <td>12</td>\n",
       "      <td>0.22</td>\n",
       "      <td>High School</td>\n",
       "      <td>Full-time</td>\n",
       "      <td>Married</td>\n",
       "      <td>No</td>\n",
       "      <td>Yes</td>\n",
       "      <td>Home</td>\n",
       "      <td>No</td>\n",
       "    </tr>\n",
       "    <tr>\n",
       "      <th>86584</th>\n",
       "      <td>37</td>\n",
       "      <td>91629</td>\n",
       "      <td>143221</td>\n",
       "      <td>653</td>\n",
       "      <td>66</td>\n",
       "      <td>2</td>\n",
       "      <td>22.14</td>\n",
       "      <td>48</td>\n",
       "      <td>0.10</td>\n",
       "      <td>Bachelor's</td>\n",
       "      <td>Full-time</td>\n",
       "      <td>Divorced</td>\n",
       "      <td>No</td>\n",
       "      <td>Yes</td>\n",
       "      <td>Home</td>\n",
       "      <td>No</td>\n",
       "    </tr>\n",
       "  </tbody>\n",
       "</table>\n",
       "</div>"
      ],
      "text/plain": [
       "       age  income  loan_amount  credit_score  months_employed  \\\n",
       "53700   53   75625        28099           529               99   \n",
       "13087   36  131764       130797           376                1   \n",
       "4195    65  135066       104102           844               13   \n",
       "36325   36  118147       158258           467               61   \n",
       "86584   37   91629       143221           653               66   \n",
       "\n",
       "       num_credit_lines  interest_rate  loan_term  dti_ratio    education  \\\n",
       "53700                 4          23.17         48       0.17  High School   \n",
       "13087                 1          18.57         24       0.65     Master's   \n",
       "4195                  2          21.84         48       0.42  High School   \n",
       "36325                 4           7.88         12       0.22  High School   \n",
       "86584                 2          22.14         48       0.10   Bachelor's   \n",
       "\n",
       "      employment_type marital_status mortgage dependents loan_purpose cosigned  \n",
       "53700       Full-time        Married       No        Yes    Education      Yes  \n",
       "13087      Unemployed        Married       No        Yes        Other      Yes  \n",
       "4195    Self-employed        Married       No         No    Education      Yes  \n",
       "36325       Full-time        Married       No        Yes         Home       No  \n",
       "86584       Full-time       Divorced       No        Yes         Home       No  "
      ]
     },
     "execution_count": 15,
     "metadata": {},
     "output_type": "execute_result"
    }
   ],
   "source": [
    "test.head()"
   ]
  },
  {
   "cell_type": "code",
   "execution_count": 16,
   "id": "8fbcafa3",
   "metadata": {
    "scrolled": true
   },
   "outputs": [
    {
     "data": {
      "text/plain": [
       "((255347, 17), (54717, 16), (54718, 16))"
      ]
     },
     "execution_count": 16,
     "metadata": {},
     "output_type": "execute_result"
    }
   ],
   "source": [
    "train.shape, val.shape, test.shape"
   ]
  },
  {
   "cell_type": "code",
   "execution_count": 17,
   "id": "48903fe2",
   "metadata": {
    "scrolled": true
   },
   "outputs": [
    {
     "data": {
      "text/html": [
       "<b>Shape:</b>"
      ],
      "text/plain": [
       "<IPython.core.display.HTML object>"
      ]
     },
     "metadata": {},
     "output_type": "display_data"
    },
    {
     "name": "stdout",
     "output_type": "stream",
     "text": [
      "(255347, 17)\n",
      "\n",
      "_________________________________________________\n",
      "\n"
     ]
    },
    {
     "data": {
      "text/html": [
       "<b>Info:</b>"
      ],
      "text/plain": [
       "<IPython.core.display.HTML object>"
      ]
     },
     "metadata": {},
     "output_type": "display_data"
    },
    {
     "name": "stdout",
     "output_type": "stream",
     "text": [
      "<class 'pandas.core.frame.DataFrame'>\n",
      "RangeIndex: 255347 entries, 0 to 255346\n",
      "Data columns (total 17 columns):\n",
      " #   Column            Non-Null Count   Dtype  \n",
      "---  ------            --------------   -----  \n",
      " 0   age               255347 non-null  int64  \n",
      " 1   income            255347 non-null  int64  \n",
      " 2   loan_amount       255347 non-null  int64  \n",
      " 3   credit_score      255347 non-null  int64  \n",
      " 4   months_employed   255347 non-null  int64  \n",
      " 5   num_credit_lines  255347 non-null  int64  \n",
      " 6   interest_rate     255347 non-null  float64\n",
      " 7   loan_term         255347 non-null  int64  \n",
      " 8   dti_ratio         255347 non-null  float64\n",
      " 9   education         255347 non-null  object \n",
      " 10  employment_type   255347 non-null  object \n",
      " 11  marital_status    255347 non-null  object \n",
      " 12  mortgage          255347 non-null  object \n",
      " 13  dependents        255347 non-null  object \n",
      " 14  loan_purpose      255347 non-null  object \n",
      " 15  cosigned          255347 non-null  object \n",
      " 16  default           255347 non-null  int64  \n",
      "dtypes: float64(2), int64(8), object(7)\n",
      "memory usage: 33.1+ MB\n",
      "\n",
      "_________________________________________________\n",
      "\n"
     ]
    },
    {
     "data": {
      "text/html": [
       "<b>Null Values:</b>"
      ],
      "text/plain": [
       "<IPython.core.display.HTML object>"
      ]
     },
     "metadata": {},
     "output_type": "display_data"
    },
    {
     "name": "stdout",
     "output_type": "stream",
     "text": [
      "\n",
      "age                 0\n",
      "income              0\n",
      "loan_amount         0\n",
      "credit_score        0\n",
      "months_employed     0\n",
      "num_credit_lines    0\n",
      "interest_rate       0\n",
      "loan_term           0\n",
      "dti_ratio           0\n",
      "education           0\n",
      "employment_type     0\n",
      "marital_status      0\n",
      "mortgage            0\n",
      "dependents          0\n",
      "loan_purpose        0\n",
      "cosigned            0\n",
      "default             0\n",
      "dtype: int64\n",
      "\n",
      "_________________________________________________\n",
      "\n"
     ]
    },
    {
     "data": {
      "text/html": [
       "<b>Value Count for age:</b>"
      ],
      "text/plain": [
       "<IPython.core.display.HTML object>"
      ]
     },
     "metadata": {},
     "output_type": "display_data"
    },
    {
     "name": "stdout",
     "output_type": "stream",
     "text": [
      "\n",
      "55    5064\n",
      "40    5056\n",
      "65    5027\n",
      "33    5022\n",
      "53    5010\n",
      "62    4999\n",
      "34    4987\n",
      "45    4985\n",
      "61    4982\n",
      "39    4973\n",
      "22    4970\n",
      "32    4969\n",
      "43    4965\n",
      "19    4963\n",
      "35    4961\n",
      "68    4958\n",
      "38    4955\n",
      "30    4954\n",
      "49    4952\n",
      "50    4949\n",
      "27    4945\n",
      "47    4931\n",
      "57    4925\n",
      "54    4921\n",
      "31    4908\n",
      "44    4906\n",
      "36    4906\n",
      "28    4906\n",
      "56    4902\n",
      "26    4891\n",
      "21    4889\n",
      "46    4887\n",
      "18    4884\n",
      "58    4883\n",
      "67    4876\n",
      "51    4876\n",
      "59    4871\n",
      "24    4869\n",
      "29    4865\n",
      "63    4862\n",
      "20    4861\n",
      "37    4856\n",
      "66    4841\n",
      "25    4840\n",
      "64    4840\n",
      "69    4817\n",
      "41    4815\n",
      "48    4810\n",
      "42    4803\n",
      "60    4772\n",
      "52    4748\n",
      "23    4740\n",
      "Name: age, dtype: int64\n",
      "\n",
      "_________________________________________________\n",
      "\n"
     ]
    },
    {
     "data": {
      "text/html": [
       "<b>Value Count for income:</b>"
      ],
      "text/plain": [
       "<IPython.core.display.HTML object>"
      ]
     },
     "metadata": {},
     "output_type": "display_data"
    },
    {
     "name": "stdout",
     "output_type": "stream",
     "text": [
      "\n",
      "69492     10\n",
      "117102    10\n",
      "121985    10\n",
      "85375      9\n",
      "61315      9\n",
      "          ..\n",
      "98969      1\n",
      "72350      1\n",
      "126600     1\n",
      "68356      1\n",
      "124446     1\n",
      "Name: income, Length: 114620, dtype: int64\n",
      "\n",
      "_________________________________________________\n",
      "\n"
     ]
    },
    {
     "data": {
      "text/html": [
       "<b>Value Count for loan_amount:</b>"
      ],
      "text/plain": [
       "<IPython.core.display.HTML object>"
      ]
     },
     "metadata": {},
     "output_type": "display_data"
    },
    {
     "name": "stdout",
     "output_type": "stream",
     "text": [
      "\n",
      "133724    8\n",
      "221949    8\n",
      "95419     8\n",
      "235258    7\n",
      "108323    7\n",
      "         ..\n",
      "121259    1\n",
      "147115    1\n",
      "166792    1\n",
      "39044     1\n",
      "208294    1\n",
      "Name: loan_amount, Length: 158729, dtype: int64\n",
      "\n",
      "_________________________________________________\n",
      "\n"
     ]
    },
    {
     "data": {
      "text/html": [
       "<b>Value Count for credit_score:</b>"
      ],
      "text/plain": [
       "<IPython.core.display.HTML object>"
      ]
     },
     "metadata": {},
     "output_type": "display_data"
    },
    {
     "name": "stdout",
     "output_type": "stream",
     "text": [
      "\n",
      "630    528\n",
      "445    521\n",
      "829    520\n",
      "753    519\n",
      "670    515\n",
      "      ... \n",
      "629    408\n",
      "706    406\n",
      "536    406\n",
      "720    402\n",
      "724    392\n",
      "Name: credit_score, Length: 550, dtype: int64\n",
      "\n",
      "_________________________________________________\n",
      "\n"
     ]
    },
    {
     "data": {
      "text/html": [
       "<b>Value Count for months_employed:</b>"
      ],
      "text/plain": [
       "<IPython.core.display.HTML object>"
      ]
     },
     "metadata": {},
     "output_type": "display_data"
    },
    {
     "name": "stdout",
     "output_type": "stream",
     "text": [
      "\n",
      "56     2227\n",
      "26     2223\n",
      "45     2220\n",
      "107    2207\n",
      "17     2198\n",
      "       ... \n",
      "11     2043\n",
      "39     2041\n",
      "21     2014\n",
      "99     2008\n",
      "25     2004\n",
      "Name: months_employed, Length: 120, dtype: int64\n",
      "\n",
      "_________________________________________________\n",
      "\n"
     ]
    },
    {
     "data": {
      "text/html": [
       "<b>Value Count for num_credit_lines:</b>"
      ],
      "text/plain": [
       "<IPython.core.display.HTML object>"
      ]
     },
     "metadata": {},
     "output_type": "display_data"
    },
    {
     "name": "stdout",
     "output_type": "stream",
     "text": [
      "\n",
      "2    64130\n",
      "3    63834\n",
      "4    63829\n",
      "1    63554\n",
      "Name: num_credit_lines, dtype: int64\n",
      "\n",
      "_________________________________________________\n",
      "\n"
     ]
    },
    {
     "data": {
      "text/html": [
       "<b>Value Count for interest_rate:</b>"
      ],
      "text/plain": [
       "<IPython.core.display.HTML object>"
      ]
     },
     "metadata": {},
     "output_type": "display_data"
    },
    {
     "name": "stdout",
     "output_type": "stream",
     "text": [
      "\n",
      "14.92    147\n",
      "2.25     144\n",
      "4.78     140\n",
      "16.44    140\n",
      "7.30     139\n",
      "        ... \n",
      "15.50     83\n",
      "4.58      82\n",
      "14.34     81\n",
      "25.00     53\n",
      "2.00      44\n",
      "Name: interest_rate, Length: 2301, dtype: int64\n",
      "\n",
      "_________________________________________________\n",
      "\n"
     ]
    },
    {
     "data": {
      "text/html": [
       "<b>Value Count for loan_term:</b>"
      ],
      "text/plain": [
       "<IPython.core.display.HTML object>"
      ]
     },
     "metadata": {},
     "output_type": "display_data"
    },
    {
     "name": "stdout",
     "output_type": "stream",
     "text": [
      "\n",
      "48    51166\n",
      "60    51154\n",
      "36    51061\n",
      "24    51009\n",
      "12    50957\n",
      "Name: loan_term, dtype: int64\n",
      "\n",
      "_________________________________________________\n",
      "\n"
     ]
    },
    {
     "data": {
      "text/html": [
       "<b>Value Count for dti_ratio:</b>"
      ],
      "text/plain": [
       "<IPython.core.display.HTML object>"
      ]
     },
     "metadata": {},
     "output_type": "display_data"
    },
    {
     "name": "stdout",
     "output_type": "stream",
     "text": [
      "\n",
      "0.67    3385\n",
      "0.64    3308\n",
      "0.37    3288\n",
      "0.13    3285\n",
      "0.19    3285\n",
      "        ... \n",
      "0.68    3078\n",
      "0.35    3068\n",
      "0.11    3051\n",
      "0.10    1611\n",
      "0.90    1605\n",
      "Name: dti_ratio, Length: 81, dtype: int64\n",
      "\n",
      "_________________________________________________\n",
      "\n"
     ]
    },
    {
     "data": {
      "text/html": [
       "<b>Value Count for education:</b>"
      ],
      "text/plain": [
       "<IPython.core.display.HTML object>"
      ]
     },
     "metadata": {},
     "output_type": "display_data"
    },
    {
     "name": "stdout",
     "output_type": "stream",
     "text": [
      "\n",
      "Bachelor's     64366\n",
      "High School    63903\n",
      "Master's       63541\n",
      "PhD            63537\n",
      "Name: education, dtype: int64\n",
      "\n",
      "_________________________________________________\n",
      "\n"
     ]
    },
    {
     "data": {
      "text/html": [
       "<b>Value Count for employment_type:</b>"
      ],
      "text/plain": [
       "<IPython.core.display.HTML object>"
      ]
     },
     "metadata": {},
     "output_type": "display_data"
    },
    {
     "name": "stdout",
     "output_type": "stream",
     "text": [
      "\n",
      "Part-time        64161\n",
      "Unemployed       63824\n",
      "Self-employed    63706\n",
      "Full-time        63656\n",
      "Name: employment_type, dtype: int64\n",
      "\n",
      "_________________________________________________\n",
      "\n"
     ]
    },
    {
     "data": {
      "text/html": [
       "<b>Value Count for marital_status:</b>"
      ],
      "text/plain": [
       "<IPython.core.display.HTML object>"
      ]
     },
     "metadata": {},
     "output_type": "display_data"
    },
    {
     "name": "stdout",
     "output_type": "stream",
     "text": [
      "\n",
      "Married     85302\n",
      "Divorced    85033\n",
      "Single      85012\n",
      "Name: marital_status, dtype: int64\n",
      "\n",
      "_________________________________________________\n",
      "\n"
     ]
    },
    {
     "data": {
      "text/html": [
       "<b>Value Count for mortgage:</b>"
      ],
      "text/plain": [
       "<IPython.core.display.HTML object>"
      ]
     },
     "metadata": {},
     "output_type": "display_data"
    },
    {
     "name": "stdout",
     "output_type": "stream",
     "text": [
      "\n",
      "Yes    127677\n",
      "No     127670\n",
      "Name: mortgage, dtype: int64\n",
      "\n",
      "_________________________________________________\n",
      "\n"
     ]
    },
    {
     "data": {
      "text/html": [
       "<b>Value Count for dependents:</b>"
      ],
      "text/plain": [
       "<IPython.core.display.HTML object>"
      ]
     },
     "metadata": {},
     "output_type": "display_data"
    },
    {
     "name": "stdout",
     "output_type": "stream",
     "text": [
      "\n",
      "Yes    127742\n",
      "No     127605\n",
      "Name: dependents, dtype: int64\n",
      "\n",
      "_________________________________________________\n",
      "\n"
     ]
    },
    {
     "data": {
      "text/html": [
       "<b>Value Count for loan_purpose:</b>"
      ],
      "text/plain": [
       "<IPython.core.display.HTML object>"
      ]
     },
     "metadata": {},
     "output_type": "display_data"
    },
    {
     "name": "stdout",
     "output_type": "stream",
     "text": [
      "\n",
      "Business     51298\n",
      "Home         51286\n",
      "Education    51005\n",
      "Other        50914\n",
      "Auto         50844\n",
      "Name: loan_purpose, dtype: int64\n",
      "\n",
      "_________________________________________________\n",
      "\n"
     ]
    },
    {
     "data": {
      "text/html": [
       "<b>Value Count for cosigned:</b>"
      ],
      "text/plain": [
       "<IPython.core.display.HTML object>"
      ]
     },
     "metadata": {},
     "output_type": "display_data"
    },
    {
     "name": "stdout",
     "output_type": "stream",
     "text": [
      "\n",
      "Yes    127701\n",
      "No     127646\n",
      "Name: cosigned, dtype: int64\n",
      "\n",
      "_________________________________________________\n",
      "\n"
     ]
    },
    {
     "data": {
      "text/html": [
       "<b>Value Count for default:</b>"
      ],
      "text/plain": [
       "<IPython.core.display.HTML object>"
      ]
     },
     "metadata": {},
     "output_type": "display_data"
    },
    {
     "name": "stdout",
     "output_type": "stream",
     "text": [
      "\n",
      "0    225694\n",
      "1     29653\n",
      "Name: default, dtype: int64\n",
      "\n",
      "_________________________________________________\n",
      "\n"
     ]
    }
   ],
   "source": [
    "w.summarize(train)"
   ]
  },
  {
   "cell_type": "code",
   "execution_count": 18,
   "id": "d3aa7980",
   "metadata": {},
   "outputs": [
    {
     "data": {
      "text/html": [
       "<b>Shape:</b>"
      ],
      "text/plain": [
       "<IPython.core.display.HTML object>"
      ]
     },
     "metadata": {},
     "output_type": "display_data"
    },
    {
     "name": "stdout",
     "output_type": "stream",
     "text": [
      "(54718, 16)\n",
      "\n",
      "_________________________________________________\n",
      "\n"
     ]
    },
    {
     "data": {
      "text/html": [
       "<b>Info:</b>"
      ],
      "text/plain": [
       "<IPython.core.display.HTML object>"
      ]
     },
     "metadata": {},
     "output_type": "display_data"
    },
    {
     "name": "stdout",
     "output_type": "stream",
     "text": [
      "<class 'pandas.core.frame.DataFrame'>\n",
      "Int64Index: 54718 entries, 53700 to 108083\n",
      "Data columns (total 16 columns):\n",
      " #   Column            Non-Null Count  Dtype  \n",
      "---  ------            --------------  -----  \n",
      " 0   age               54718 non-null  int64  \n",
      " 1   income            54718 non-null  int64  \n",
      " 2   loan_amount       54718 non-null  int64  \n",
      " 3   credit_score      54718 non-null  int64  \n",
      " 4   months_employed   54718 non-null  int64  \n",
      " 5   num_credit_lines  54718 non-null  int64  \n",
      " 6   interest_rate     54718 non-null  float64\n",
      " 7   loan_term         54718 non-null  int64  \n",
      " 8   dti_ratio         54718 non-null  float64\n",
      " 9   education         54718 non-null  object \n",
      " 10  employment_type   54718 non-null  object \n",
      " 11  marital_status    54718 non-null  object \n",
      " 12  mortgage          54718 non-null  object \n",
      " 13  dependents        54718 non-null  object \n",
      " 14  loan_purpose      54718 non-null  object \n",
      " 15  cosigned          54718 non-null  object \n",
      "dtypes: float64(2), int64(7), object(7)\n",
      "memory usage: 7.1+ MB\n",
      "\n",
      "_________________________________________________\n",
      "\n"
     ]
    },
    {
     "data": {
      "text/html": [
       "<b>Null Values:</b>"
      ],
      "text/plain": [
       "<IPython.core.display.HTML object>"
      ]
     },
     "metadata": {},
     "output_type": "display_data"
    },
    {
     "name": "stdout",
     "output_type": "stream",
     "text": [
      "\n",
      "age                 0\n",
      "income              0\n",
      "loan_amount         0\n",
      "credit_score        0\n",
      "months_employed     0\n",
      "num_credit_lines    0\n",
      "interest_rate       0\n",
      "loan_term           0\n",
      "dti_ratio           0\n",
      "education           0\n",
      "employment_type     0\n",
      "marital_status      0\n",
      "mortgage            0\n",
      "dependents          0\n",
      "loan_purpose        0\n",
      "cosigned            0\n",
      "dtype: int64\n",
      "\n",
      "_________________________________________________\n",
      "\n"
     ]
    },
    {
     "data": {
      "text/html": [
       "<b>Value Count for age:</b>"
      ],
      "text/plain": [
       "<IPython.core.display.HTML object>"
      ]
     },
     "metadata": {},
     "output_type": "display_data"
    },
    {
     "name": "stdout",
     "output_type": "stream",
     "text": [
      "\n",
      "34    1129\n",
      "49    1116\n",
      "19    1105\n",
      "64    1105\n",
      "32    1099\n",
      "25    1095\n",
      "54    1092\n",
      "18    1092\n",
      "42    1086\n",
      "60    1080\n",
      "52    1076\n",
      "59    1073\n",
      "58    1073\n",
      "56    1072\n",
      "46    1071\n",
      "51    1063\n",
      "55    1061\n",
      "37    1061\n",
      "33    1060\n",
      "26    1055\n",
      "47    1055\n",
      "24    1054\n",
      "35    1053\n",
      "38    1052\n",
      "29    1051\n",
      "20    1050\n",
      "67    1050\n",
      "69    1050\n",
      "61    1048\n",
      "22    1046\n",
      "36    1046\n",
      "57    1043\n",
      "28    1042\n",
      "48    1039\n",
      "65    1035\n",
      "41    1035\n",
      "68    1034\n",
      "62    1032\n",
      "44    1032\n",
      "31    1031\n",
      "23    1030\n",
      "66    1028\n",
      "21    1026\n",
      "40    1023\n",
      "39    1023\n",
      "53    1020\n",
      "63    1017\n",
      "50    1006\n",
      "45    1005\n",
      "43    1002\n",
      "27    1001\n",
      "30     995\n",
      "Name: age, dtype: int64\n",
      "\n",
      "_________________________________________________\n",
      "\n"
     ]
    },
    {
     "data": {
      "text/html": [
       "<b>Value Count for income:</b>"
      ],
      "text/plain": [
       "<IPython.core.display.HTML object>"
      ]
     },
     "metadata": {},
     "output_type": "display_data"
    },
    {
     "name": "stdout",
     "output_type": "stream",
     "text": [
      "\n",
      "79168     5\n",
      "34046     5\n",
      "57904     5\n",
      "121300    5\n",
      "54897     5\n",
      "         ..\n",
      "111784    1\n",
      "52534     1\n",
      "15401     1\n",
      "42854     1\n",
      "20208     1\n",
      "Name: income, Length: 44970, dtype: int64\n",
      "\n",
      "_________________________________________________\n",
      "\n"
     ]
    },
    {
     "data": {
      "text/html": [
       "<b>Value Count for loan_amount:</b>"
      ],
      "text/plain": [
       "<IPython.core.display.HTML object>"
      ]
     },
     "metadata": {},
     "output_type": "display_data"
    },
    {
     "name": "stdout",
     "output_type": "stream",
     "text": [
      "\n",
      "154307    5\n",
      "198411    4\n",
      "85739     4\n",
      "154810    4\n",
      "235733    4\n",
      "         ..\n",
      "156778    1\n",
      "185474    1\n",
      "50529     1\n",
      "103110    1\n",
      "140080    1\n",
      "Name: loan_amount, Length: 49007, dtype: int64\n",
      "\n",
      "_________________________________________________\n",
      "\n"
     ]
    },
    {
     "data": {
      "text/html": [
       "<b>Value Count for credit_score:</b>"
      ],
      "text/plain": [
       "<IPython.core.display.HTML object>"
      ]
     },
     "metadata": {},
     "output_type": "display_data"
    },
    {
     "name": "stdout",
     "output_type": "stream",
     "text": [
      "\n",
      "338    140\n",
      "329    137\n",
      "514    127\n",
      "663    127\n",
      "411    125\n",
      "      ... \n",
      "387     76\n",
      "360     76\n",
      "690     75\n",
      "834     72\n",
      "705     70\n",
      "Name: credit_score, Length: 550, dtype: int64\n",
      "\n",
      "_________________________________________________\n",
      "\n"
     ]
    },
    {
     "data": {
      "text/html": [
       "<b>Value Count for months_employed:</b>"
      ],
      "text/plain": [
       "<IPython.core.display.HTML object>"
      ]
     },
     "metadata": {},
     "output_type": "display_data"
    },
    {
     "name": "stdout",
     "output_type": "stream",
     "text": [
      "\n",
      "88     509\n",
      "29     504\n",
      "14     498\n",
      "57     498\n",
      "26     497\n",
      "      ... \n",
      "109    416\n",
      "114    415\n",
      "23     415\n",
      "13     413\n",
      "119    410\n",
      "Name: months_employed, Length: 120, dtype: int64\n",
      "\n",
      "_________________________________________________\n",
      "\n"
     ]
    },
    {
     "data": {
      "text/html": [
       "<b>Value Count for num_credit_lines:</b>"
      ],
      "text/plain": [
       "<IPython.core.display.HTML object>"
      ]
     },
     "metadata": {},
     "output_type": "display_data"
    },
    {
     "name": "stdout",
     "output_type": "stream",
     "text": [
      "\n",
      "3    13866\n",
      "4    13771\n",
      "2    13546\n",
      "1    13535\n",
      "Name: num_credit_lines, dtype: int64\n",
      "\n",
      "_________________________________________________\n",
      "\n"
     ]
    },
    {
     "data": {
      "text/html": [
       "<b>Value Count for interest_rate:</b>"
      ],
      "text/plain": [
       "<IPython.core.display.HTML object>"
      ]
     },
     "metadata": {},
     "output_type": "display_data"
    },
    {
     "name": "stdout",
     "output_type": "stream",
     "text": [
      "\n",
      "10.70    43\n",
      "14.66    38\n",
      "2.93     38\n",
      "21.94    38\n",
      "12.91    38\n",
      "         ..\n",
      "19.19    11\n",
      "22.76    10\n",
      "12.71    10\n",
      "11.70     9\n",
      "25.00     7\n",
      "Name: interest_rate, Length: 2301, dtype: int64\n",
      "\n",
      "_________________________________________________\n",
      "\n"
     ]
    },
    {
     "data": {
      "text/html": [
       "<b>Value Count for loan_term:</b>"
      ],
      "text/plain": [
       "<IPython.core.display.HTML object>"
      ]
     },
     "metadata": {},
     "output_type": "display_data"
    },
    {
     "name": "stdout",
     "output_type": "stream",
     "text": [
      "\n",
      "60    11010\n",
      "24    11000\n",
      "48    10950\n",
      "36    10947\n",
      "12    10811\n",
      "Name: loan_term, dtype: int64\n",
      "\n",
      "_________________________________________________\n",
      "\n"
     ]
    },
    {
     "data": {
      "text/html": [
       "<b>Value Count for dti_ratio:</b>"
      ],
      "text/plain": [
       "<IPython.core.display.HTML object>"
      ]
     },
     "metadata": {},
     "output_type": "display_data"
    },
    {
     "name": "stdout",
     "output_type": "stream",
     "text": [
      "\n",
      "0.82    755\n",
      "0.86    740\n",
      "0.30    739\n",
      "0.12    737\n",
      "0.53    733\n",
      "       ... \n",
      "0.61    637\n",
      "0.62    630\n",
      "0.51    628\n",
      "0.90    361\n",
      "0.10    349\n",
      "Name: dti_ratio, Length: 81, dtype: int64\n",
      "\n",
      "_________________________________________________\n",
      "\n"
     ]
    },
    {
     "data": {
      "text/html": [
       "<b>Value Count for education:</b>"
      ],
      "text/plain": [
       "<IPython.core.display.HTML object>"
      ]
     },
     "metadata": {},
     "output_type": "display_data"
    },
    {
     "name": "stdout",
     "output_type": "stream",
     "text": [
      "\n",
      "Bachelor's     13895\n",
      "Master's       13690\n",
      "High School    13674\n",
      "PhD            13459\n",
      "Name: education, dtype: int64\n",
      "\n",
      "_________________________________________________\n",
      "\n"
     ]
    },
    {
     "data": {
      "text/html": [
       "<b>Value Count for employment_type:</b>"
      ],
      "text/plain": [
       "<IPython.core.display.HTML object>"
      ]
     },
     "metadata": {},
     "output_type": "display_data"
    },
    {
     "name": "stdout",
     "output_type": "stream",
     "text": [
      "\n",
      "Unemployed       13751\n",
      "Self-employed    13735\n",
      "Full-time        13718\n",
      "Part-time        13514\n",
      "Name: employment_type, dtype: int64\n",
      "\n",
      "_________________________________________________\n",
      "\n"
     ]
    },
    {
     "data": {
      "text/html": [
       "<b>Value Count for marital_status:</b>"
      ],
      "text/plain": [
       "<IPython.core.display.HTML object>"
      ]
     },
     "metadata": {},
     "output_type": "display_data"
    },
    {
     "name": "stdout",
     "output_type": "stream",
     "text": [
      "\n",
      "Divorced    18342\n",
      "Single      18267\n",
      "Married     18109\n",
      "Name: marital_status, dtype: int64\n",
      "\n",
      "_________________________________________________\n",
      "\n"
     ]
    },
    {
     "data": {
      "text/html": [
       "<b>Value Count for mortgage:</b>"
      ],
      "text/plain": [
       "<IPython.core.display.HTML object>"
      ]
     },
     "metadata": {},
     "output_type": "display_data"
    },
    {
     "name": "stdout",
     "output_type": "stream",
     "text": [
      "\n",
      "No     27420\n",
      "Yes    27298\n",
      "Name: mortgage, dtype: int64\n",
      "\n",
      "_________________________________________________\n",
      "\n"
     ]
    },
    {
     "data": {
      "text/html": [
       "<b>Value Count for dependents:</b>"
      ],
      "text/plain": [
       "<IPython.core.display.HTML object>"
      ]
     },
     "metadata": {},
     "output_type": "display_data"
    },
    {
     "name": "stdout",
     "output_type": "stream",
     "text": [
      "\n",
      "No     27540\n",
      "Yes    27178\n",
      "Name: dependents, dtype: int64\n",
      "\n",
      "_________________________________________________\n",
      "\n"
     ]
    },
    {
     "data": {
      "text/html": [
       "<b>Value Count for loan_purpose:</b>"
      ],
      "text/plain": [
       "<IPython.core.display.HTML object>"
      ]
     },
     "metadata": {},
     "output_type": "display_data"
    },
    {
     "name": "stdout",
     "output_type": "stream",
     "text": [
      "\n",
      "Business     11176\n",
      "Home         10950\n",
      "Other        10938\n",
      "Education    10927\n",
      "Auto         10727\n",
      "Name: loan_purpose, dtype: int64\n",
      "\n",
      "_________________________________________________\n",
      "\n"
     ]
    },
    {
     "data": {
      "text/html": [
       "<b>Value Count for cosigned:</b>"
      ],
      "text/plain": [
       "<IPython.core.display.HTML object>"
      ]
     },
     "metadata": {},
     "output_type": "display_data"
    },
    {
     "name": "stdout",
     "output_type": "stream",
     "text": [
      "\n",
      "Yes    27485\n",
      "No     27233\n",
      "Name: cosigned, dtype: int64\n",
      "\n",
      "_________________________________________________\n",
      "\n"
     ]
    }
   ],
   "source": [
    "w.summarize(test)"
   ]
  },
  {
   "cell_type": "markdown",
   "id": "99078eec",
   "metadata": {},
   "source": [
    "---"
   ]
  },
  {
   "cell_type": "markdown",
   "id": "bb52014f",
   "metadata": {},
   "source": [
    "# Exploration\n",
    "\n",
    "### - Binned data for better visuals"
   ]
  },
  {
   "cell_type": "code",
   "execution_count": 20,
   "id": "582f0430",
   "metadata": {},
   "outputs": [
    {
     "data": {
      "text/plain": [
       "<Axes: xlabel='cosigned', ylabel='default'>"
      ]
     },
     "execution_count": 20,
     "metadata": {},
     "output_type": "execute_result"
    },
    {
     "data": {
      "image/png": "[encoded data removed]",
      "text/plain": [
       "<Figure size 640x480 with 1 Axes>"
      ]
     },
     "metadata": {},
     "output_type": "display_data"
    }
   ],
   "source": [
    "sns.barplot(data = train, x = 'cosigned', y = 'default')"
   ]
  },
  {
   "cell_type": "code",
   "execution_count": null,
   "id": "1d50652c",
   "metadata": {
    "scrolled": false
   },
   "outputs": [],
   "source": [
    "# Plot distribution of default\n",
    "e.plt_dist(train, 'default')"
   ]
  },
  {
   "cell_type": "markdown",
   "id": "c904d00b",
   "metadata": {},
   "source": [
    "There is an uneven distribution of default values. I need to balance this before modeling"
   ]
  },
  {
   "cell_type": "code",
   "execution_count": null,
   "id": "29d72443",
   "metadata": {},
   "outputs": [],
   "source": [
    "train.head()"
   ]
  },
  {
   "cell_type": "code",
   "execution_count": null,
   "id": "3b962ba8",
   "metadata": {},
   "outputs": [],
   "source": [
    "# Make copy of train and add new binned features.\n",
    "train.copy = e.bin_data(train)\n",
    "val.copy = e.bin_data(val)"
   ]
  },
  {
   "cell_type": "markdown",
   "id": "8c2a222c",
   "metadata": {},
   "source": [
    "## 1. Is there a difference in interest rates for borrowers that default and those that did not ?\n",
    "\n",
    "### H0: Mean of interest rates of defaults = Mean of interest rates of all borrowers\n",
    "\n",
    "### Ha: Mean of interest rates of defaults != Mean of interest rates of all borrowers"
   ]
  },
  {
   "cell_type": "code",
   "execution_count": null,
   "id": "28f50542",
   "metadata": {
    "scrolled": true
   },
   "outputs": [],
   "source": [
    "# Call function to visualize barplot.\n",
    "e.plt_1(train.copy)"
   ]
  },
  {
   "cell_type": "code",
   "execution_count": null,
   "id": "fbd62fbf",
   "metadata": {
    "scrolled": true
   },
   "outputs": [],
   "source": [
    "# 1 sample, 2 tailed t-test\n",
    "e.t_test(train.copy, 'interest_rate')"
   ]
  },
  {
   "cell_type": "markdown",
   "id": "93b100fa",
   "metadata": {},
   "source": [
    "### Conclusion: \n",
    "### - Mean of interest rates of defaults != Mean of interest rates of all borrowers\n",
    "### - As interest rates increase, the mean of default increases"
   ]
  },
  {
   "cell_type": "markdown",
   "id": "085d8dcf",
   "metadata": {},
   "source": [
    "---"
   ]
  },
  {
   "cell_type": "markdown",
   "id": "eec0574a",
   "metadata": {},
   "source": [
    "## 2. Is there a difference in loan amounts for borrowers that default and those that did not ?\n",
    "\n",
    "### H0: Mean of loan amounts of defaults = Mean of loan amount of all borrowers\n",
    "\n",
    "### Ha: Mean of loan amounts of defaults != Mean of loan amount of all borrowers"
   ]
  },
  {
   "cell_type": "code",
   "execution_count": null,
   "id": "78b15261",
   "metadata": {
    "scrolled": false
   },
   "outputs": [],
   "source": [
    "# Call function to visualize barplot.\n",
    "e.plt_3(train.copy)"
   ]
  },
  {
   "cell_type": "code",
   "execution_count": null,
   "id": "2ef35286",
   "metadata": {},
   "outputs": [],
   "source": [
    "# 1 sample, 2 tailed t-test\n",
    "e.t_test(train.copy, 'loan_amount')"
   ]
  },
  {
   "cell_type": "markdown",
   "id": "ae193683",
   "metadata": {},
   "source": [
    "### Conclusion: \n",
    "\n",
    "### - Mean of loan amounts of defaults != Mean of loan amount of all borrowers\n",
    "### - As loan amount increase, the mean of default increases"
   ]
  },
  {
   "cell_type": "markdown",
   "id": "9f363be4",
   "metadata": {},
   "source": [
    "---"
   ]
  },
  {
   "cell_type": "markdown",
   "id": "40737db0",
   "metadata": {},
   "source": [
    "## 3. Is there a difference in age for borrowers that default and those that did not ?\n",
    "\n",
    "### H0:  Mean of age of defaults = Mean of age of all borrowers\n",
    "\n",
    "### Ha: Mean of age of defaults != Mean of age of all borrowers"
   ]
  },
  {
   "cell_type": "code",
   "execution_count": null,
   "id": "6fd788f9",
   "metadata": {
    "scrolled": false
   },
   "outputs": [],
   "source": [
    "# Call function to visualize barplot.\n",
    "e.plt_2(train.copy)"
   ]
  },
  {
   "cell_type": "code",
   "execution_count": null,
   "id": "cad9727a",
   "metadata": {
    "scrolled": true
   },
   "outputs": [],
   "source": [
    "# 1 sample, 2 tailed t-test\n",
    "e.t_test(train.copy, 'age')"
   ]
  },
  {
   "cell_type": "markdown",
   "id": "e5bc4d95",
   "metadata": {},
   "source": [
    "### Conclusion: \n",
    "### - Mean of age of defaults != Mean of age of all borrowers\n",
    "### - As age increases, mean of default decreases"
   ]
  },
  {
   "cell_type": "markdown",
   "id": "f3fa8583",
   "metadata": {},
   "source": [
    "## EDA Summary:\n",
    "### - Distribution of defaults significantly concentrated on non defaults (0)\n",
    "### - Interest rates, loan amount, and age seem to drive borrrowers to default on loans"
   ]
  },
  {
   "cell_type": "markdown",
   "id": "87e9219c",
   "metadata": {},
   "source": [
    "---"
   ]
  },
  {
   "cell_type": "markdown",
   "id": "fd43a0f1",
   "metadata": {},
   "source": [
    "# Pre-Process"
   ]
  },
  {
   "cell_type": "markdown",
   "id": "3660928b",
   "metadata": {},
   "source": [
    "function is not working. Val subset does not have a 'default' column. How can I measure accuracy?"
   ]
  },
  {
   "cell_type": "code",
   "execution_count": null,
   "id": "e40b61e3",
   "metadata": {},
   "outputs": [],
   "source": [
    "# Split data, scale data, get dummies\n",
    "X_train, y_train = p.xy_split(train.copy)\n",
    "X_val, y_val = p.xy_split2(val.copy)\n",
    "\n",
    "X_train.head()"
   ]
  },
  {
   "cell_type": "markdown",
   "id": "a45aa7f6",
   "metadata": {},
   "source": [
    "---"
   ]
  },
  {
   "cell_type": "markdown",
   "id": "46457236",
   "metadata": {},
   "source": [
    "# Modeling"
   ]
  },
  {
   "cell_type": "markdown",
   "id": "1d74bcfa",
   "metadata": {},
   "source": [
    "### - Baseline = .88\n",
    "### - Evaluation metric is accuracy\n",
    "### - I have moved forward with all features including new binned features"
   ]
  },
  {
   "cell_type": "markdown",
   "id": "2e8e1f59",
   "metadata": {},
   "source": [
    "## Random Forest"
   ]
  },
  {
   "cell_type": "code",
   "execution_count": null,
   "id": "a290aee5",
   "metadata": {
    "scrolled": true
   },
   "outputs": [],
   "source": [
    "m.r_forest(X_train, y_train, X_val, y_val)"
   ]
  },
  {
   "cell_type": "markdown",
   "id": "48a2e36c",
   "metadata": {},
   "source": [
    "## Decision Tree"
   ]
  },
  {
   "cell_type": "code",
   "execution_count": null,
   "id": "2f9d7880",
   "metadata": {
    "scrolled": true
   },
   "outputs": [],
   "source": [
    "m.d_tree(X_train, y_train, X_val, y_val)"
   ]
  },
  {
   "cell_type": "markdown",
   "id": "841cba5c",
   "metadata": {},
   "source": [
    "## KNearest Neighbor"
   ]
  },
  {
   "cell_type": "code",
   "execution_count": null,
   "id": "dbb1922b",
   "metadata": {},
   "outputs": [],
   "source": [
    "m.knn_m(X_train, y_train, X_val, y_val)"
   ]
  },
  {
   "cell_type": "markdown",
   "id": "6a294788",
   "metadata": {},
   "source": [
    "---"
   ]
  },
  {
   "cell_type": "code",
   "execution_count": null,
   "id": "9f322d7e",
   "metadata": {
    "scrolled": false
   },
   "outputs": [],
   "source": [
    "# Plot distribution of default\n",
    "e.plt_dist(train, 'default')"
   ]
  },
  {
   "cell_type": "markdown",
   "id": "44b6ec0b",
   "metadata": {},
   "source": [
    "# Conclusion"
   ]
  },
  {
   "cell_type": "markdown",
   "id": "b36295b5",
   "metadata": {},
   "source": [
    "### - Baseline = .88\n",
    "### - Decision tree and random forest models with balanced weight parameters perform worse than the baseline\n",
    "### - Distribution of default binary values heavily concentrated on one value\n",
    "### - Knearest tree is weighing one outcome significantly more than the other\n",
    "### - Decided not to test until I improve my train and validate accuracy"
   ]
  },
  {
   "cell_type": "markdown",
   "id": "3c666512",
   "metadata": {},
   "source": [
    "---"
   ]
  },
  {
   "cell_type": "markdown",
   "id": "39ceb0ea",
   "metadata": {},
   "source": [
    "# Next Steps:"
   ]
  },
  {
   "cell_type": "markdown",
   "id": "3bf0b81d",
   "metadata": {},
   "source": [
    "### - Adjust model hyperparameters \n",
    "### - Do some more feature engineering\n",
    "### - Investigate feature importance and minimize dimension by dropping features\n",
    "### - Run test\n",
    "finish\n"
   ]
  },
  {
   "cell_type": "markdown",
   "id": "adb98c6b",
   "metadata": {},
   "source": [
    "---"
   ]
  },
  {
   "cell_type": "markdown",
   "id": "e5af4a81",
   "metadata": {},
   "source": [
    "# Recommendations:"
   ]
  },
  {
   "cell_type": "markdown",
   "id": "062c31ea",
   "metadata": {},
   "source": [
    "### - Target loan amounts lower than 150k\n",
    "### - Require higher qualifications for younger population\n",
    "### - Target borrowers that qualify with low interest rates"
   ]
  },
  {
   "cell_type": "code",
   "execution_count": null,
   "id": "62182804",
   "metadata": {},
   "outputs": [],
   "source": []
  }
 ],
 "metadata": {
  "kernelspec": {
   "display_name": "Python 3 (ipykernel)",
   "language": "python",
   "name": "python3"
  },
  "language_info": {
   "codemirror_mode": {
    "name": "ipython",
    "version": 3
   },
   "file_extension": ".py",
   "mimetype": "text/x-python",
   "name": "python",
   "nbconvert_exporter": "python",
   "pygments_lexer": "ipython3",
   "version": "3.11.3"
  }
 },
 "nbformat": 4,
 "nbformat_minor": 5
}
