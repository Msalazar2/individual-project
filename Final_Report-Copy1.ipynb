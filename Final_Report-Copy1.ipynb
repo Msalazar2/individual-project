{
 "cells": [
  {
   "cell_type": "markdown",
   "id": "d328b67c",
   "metadata": {},
   "source": [
    "# Predicting Loan Defaults"
   ]
  },
  {
   "cell_type": "markdown",
   "id": "78ba1973",
   "metadata": {},
   "source": [
    "## Goal:\n",
    "\n",
    "### - Discover features driving borrowers to default.\n",
    "### - Build a classififcation model to predict defaults."
   ]
  },
  {
   "cell_type": "markdown",
   "id": "514b007c",
   "metadata": {},
   "source": [
    "___"
   ]
  },
  {
   "cell_type": "markdown",
   "id": "134bc94d",
   "metadata": {},
   "source": [
    "# Imports"
   ]
  },
  {
   "cell_type": "code",
   "execution_count": 1,
   "id": "0dfcce25",
   "metadata": {},
   "outputs": [],
   "source": [
    "import wrangle2 as w\n",
    "import explore as e\n",
    "import preprocess as p\n",
    "import numpy as np\n",
    "import modeling as m\n",
    "\n",
    "import pandas as pd\n",
    "import seaborn as sns\n",
    "import matplotlib.pyplot as plt\n",
    "\n",
    "%load_ext autoreload\n",
    "%autoreload 2"
   ]
  },
  {
   "cell_type": "markdown",
   "id": "8c9f9e06",
   "metadata": {},
   "source": [
    "---"
   ]
  },
  {
   "cell_type": "markdown",
   "id": "29a1852c",
   "metadata": {},
   "source": [
    "# Dictionary"
   ]
  },
  {
   "cell_type": "markdown",
   "id": "00bc668f",
   "metadata": {},
   "source": [
    "| Column       | Column_type | Data_type| Description                                                                |\n",
    "|--------------|-------------|----------|----------------------------------------------------------------------------|\n",
    "|LoanID\t       |Identifier   |string    |A unique identifier for each loan.                                          |\n",
    "|Age\t       |Feature      |integer\t|Age of the borrower.                                                        |\n",
    "|Income        |Feature      |integer   |Annual income of the borrower.                                              |\n",
    "|LoanAmount    |Feature      |integer\t|Amount of money being borrowed.                                             |\n",
    "|CreditScore   |Feature      |integer\t|Credit score of the borrower, indicating their creditworthiness.            |\n",
    "|MonthsEmployed|Feature      |integer\t|Number of months the borrower has been employed.                            |\n",
    "|NumCreditLines|Feature      |integer\t|Number of credit lines the borrower has open.                               |\n",
    "|InterestRate  |Feature      |float\t    |Interest rate for the loan.                                                 |\n",
    "|LoanTerm      |Feature      |integer\t|Term length of the loan in months.                                          |\n",
    "|DTIRatio      |Feature      |float\t    |Debt-to-Income ratio, borrower's debt compared to their income.             |\n",
    "|Education     |Feature      |string\t|Highest level of education attained by the borrower.                        |\n",
    "|EmploymentType|Feature      |string\t|Type of employment status of the borrower.                                  |\n",
    "|MaritalStatus |Feature      |string\t|Marital status of the borrower (Single, Married, Divorced).                 |\n",
    "|HasMortgage   |Feature      |string\t|Whether the borrower has a mortgage (Yes or No).                            |\n",
    "|HasDependents |Feature      |string\t|Whether the borrower has dependents (Yes or No).                            |\n",
    "|LoanPurpose   |Feature      |string\t|Purpose of the loan (Home, Auto, Education, Business, Other).               |\n",
    "|HasCoSigner   |Feature      |string\t|Whether the loan has a co-signer (Yes or No).                               |\n",
    "|Default\t   |Target       |integer\t|Binary target variable indicating whether the loan defaulted (1) or not (0).|"
   ]
  },
  {
   "cell_type": "markdown",
   "id": "cd0868c8",
   "metadata": {},
   "source": [
    "---"
   ]
  },
  {
   "cell_type": "markdown",
   "id": "4abb9693",
   "metadata": {},
   "source": [
    "# Acquire & Wrangle\n",
    "\n"
   ]
  },
  {
   "cell_type": "markdown",
   "id": "da0fd143",
   "metadata": {},
   "source": [
    "### - Data acquired from Coursera into a csv file\n",
    "\n",
    "### - Renamed columns & lowercased column names\n",
    "\n",
    "### - No missing values\n",
    "\n",
    "### - Dropped LoanID column\n",
    "\n",
    "### - Split data 70%,15%,15%"
   ]
  },
  {
   "cell_type": "code",
   "execution_count": 2,
   "id": "920071b3",
   "metadata": {},
   "outputs": [
    {
     "name": "stdout",
     "output_type": "stream",
     "text": [
      "Found Data\n"
     ]
    }
   ],
   "source": [
    "train = w.train_data()"
   ]
  },
  {
   "cell_type": "code",
   "execution_count": 3,
   "id": "4b537784",
   "metadata": {},
   "outputs": [
    {
     "data": {
      "text/plain": [
       "(255347, 18)"
      ]
     },
     "execution_count": 3,
     "metadata": {},
     "output_type": "execute_result"
    }
   ],
   "source": [
    "train.shape"
   ]
  },
  {
   "cell_type": "code",
   "execution_count": 4,
   "id": "43530a95",
   "metadata": {
    "scrolled": true
   },
   "outputs": [
    {
     "data": {
      "text/html": [
       "<div>\n",
       "<style scoped>\n",
       "    .dataframe tbody tr th:only-of-type {\n",
       "        vertical-align: middle;\n",
       "    }\n",
       "\n",
       "    .dataframe tbody tr th {\n",
       "        vertical-align: top;\n",
       "    }\n",
       "\n",
       "    .dataframe thead th {\n",
       "        text-align: right;\n",
       "    }\n",
       "</style>\n",
       "<table border=\"1\" class=\"dataframe\">\n",
       "  <thead>\n",
       "    <tr style=\"text-align: right;\">\n",
       "      <th></th>\n",
       "      <th>LoanID</th>\n",
       "      <th>Age</th>\n",
       "      <th>Income</th>\n",
       "      <th>LoanAmount</th>\n",
       "      <th>CreditScore</th>\n",
       "      <th>MonthsEmployed</th>\n",
       "      <th>NumCreditLines</th>\n",
       "      <th>InterestRate</th>\n",
       "      <th>LoanTerm</th>\n",
       "      <th>DTIRatio</th>\n",
       "      <th>Education</th>\n",
       "      <th>EmploymentType</th>\n",
       "      <th>MaritalStatus</th>\n",
       "      <th>HasMortgage</th>\n",
       "      <th>HasDependents</th>\n",
       "      <th>LoanPurpose</th>\n",
       "      <th>HasCoSigner</th>\n",
       "      <th>Default</th>\n",
       "    </tr>\n",
       "  </thead>\n",
       "  <tbody>\n",
       "    <tr>\n",
       "      <th>0</th>\n",
       "      <td>I38PQUQS96</td>\n",
       "      <td>56</td>\n",
       "      <td>85994</td>\n",
       "      <td>50587</td>\n",
       "      <td>520</td>\n",
       "      <td>80</td>\n",
       "      <td>4</td>\n",
       "      <td>15.23</td>\n",
       "      <td>36</td>\n",
       "      <td>0.44</td>\n",
       "      <td>Bachelor's</td>\n",
       "      <td>Full-time</td>\n",
       "      <td>Divorced</td>\n",
       "      <td>Yes</td>\n",
       "      <td>Yes</td>\n",
       "      <td>Other</td>\n",
       "      <td>Yes</td>\n",
       "      <td>0</td>\n",
       "    </tr>\n",
       "    <tr>\n",
       "      <th>1</th>\n",
       "      <td>HPSK72WA7R</td>\n",
       "      <td>69</td>\n",
       "      <td>50432</td>\n",
       "      <td>124440</td>\n",
       "      <td>458</td>\n",
       "      <td>15</td>\n",
       "      <td>1</td>\n",
       "      <td>4.81</td>\n",
       "      <td>60</td>\n",
       "      <td>0.68</td>\n",
       "      <td>Master's</td>\n",
       "      <td>Full-time</td>\n",
       "      <td>Married</td>\n",
       "      <td>No</td>\n",
       "      <td>No</td>\n",
       "      <td>Other</td>\n",
       "      <td>Yes</td>\n",
       "      <td>0</td>\n",
       "    </tr>\n",
       "    <tr>\n",
       "      <th>2</th>\n",
       "      <td>C1OZ6DPJ8Y</td>\n",
       "      <td>46</td>\n",
       "      <td>84208</td>\n",
       "      <td>129188</td>\n",
       "      <td>451</td>\n",
       "      <td>26</td>\n",
       "      <td>3</td>\n",
       "      <td>21.17</td>\n",
       "      <td>24</td>\n",
       "      <td>0.31</td>\n",
       "      <td>Master's</td>\n",
       "      <td>Unemployed</td>\n",
       "      <td>Divorced</td>\n",
       "      <td>Yes</td>\n",
       "      <td>Yes</td>\n",
       "      <td>Auto</td>\n",
       "      <td>No</td>\n",
       "      <td>1</td>\n",
       "    </tr>\n",
       "    <tr>\n",
       "      <th>3</th>\n",
       "      <td>V2KKSFM3UN</td>\n",
       "      <td>32</td>\n",
       "      <td>31713</td>\n",
       "      <td>44799</td>\n",
       "      <td>743</td>\n",
       "      <td>0</td>\n",
       "      <td>3</td>\n",
       "      <td>7.07</td>\n",
       "      <td>24</td>\n",
       "      <td>0.23</td>\n",
       "      <td>High School</td>\n",
       "      <td>Full-time</td>\n",
       "      <td>Married</td>\n",
       "      <td>No</td>\n",
       "      <td>No</td>\n",
       "      <td>Business</td>\n",
       "      <td>No</td>\n",
       "      <td>0</td>\n",
       "    </tr>\n",
       "    <tr>\n",
       "      <th>4</th>\n",
       "      <td>EY08JDHTZP</td>\n",
       "      <td>60</td>\n",
       "      <td>20437</td>\n",
       "      <td>9139</td>\n",
       "      <td>633</td>\n",
       "      <td>8</td>\n",
       "      <td>4</td>\n",
       "      <td>6.51</td>\n",
       "      <td>48</td>\n",
       "      <td>0.73</td>\n",
       "      <td>Bachelor's</td>\n",
       "      <td>Unemployed</td>\n",
       "      <td>Divorced</td>\n",
       "      <td>No</td>\n",
       "      <td>Yes</td>\n",
       "      <td>Auto</td>\n",
       "      <td>No</td>\n",
       "      <td>0</td>\n",
       "    </tr>\n",
       "  </tbody>\n",
       "</table>\n",
       "</div>"
      ],
      "text/plain": [
       "       LoanID  Age  Income  LoanAmount  CreditScore  MonthsEmployed  \\\n",
       "0  I38PQUQS96   56   85994       50587          520              80   \n",
       "1  HPSK72WA7R   69   50432      124440          458              15   \n",
       "2  C1OZ6DPJ8Y   46   84208      129188          451              26   \n",
       "3  V2KKSFM3UN   32   31713       44799          743               0   \n",
       "4  EY08JDHTZP   60   20437        9139          633               8   \n",
       "\n",
       "   NumCreditLines  InterestRate  LoanTerm  DTIRatio    Education  \\\n",
       "0               4         15.23        36      0.44   Bachelor's   \n",
       "1               1          4.81        60      0.68     Master's   \n",
       "2               3         21.17        24      0.31     Master's   \n",
       "3               3          7.07        24      0.23  High School   \n",
       "4               4          6.51        48      0.73   Bachelor's   \n",
       "\n",
       "  EmploymentType MaritalStatus HasMortgage HasDependents LoanPurpose  \\\n",
       "0      Full-time      Divorced         Yes           Yes       Other   \n",
       "1      Full-time       Married          No            No       Other   \n",
       "2     Unemployed      Divorced         Yes           Yes        Auto   \n",
       "3      Full-time       Married          No            No    Business   \n",
       "4     Unemployed      Divorced          No           Yes        Auto   \n",
       "\n",
       "  HasCoSigner  Default  \n",
       "0         Yes        0  \n",
       "1         Yes        0  \n",
       "2          No        1  \n",
       "3          No        0  \n",
       "4          No        0  "
      ]
     },
     "execution_count": 4,
     "metadata": {},
     "output_type": "execute_result"
    }
   ],
   "source": [
    "train.head()"
   ]
  },
  {
   "cell_type": "code",
   "execution_count": 5,
   "id": "b1825636",
   "metadata": {},
   "outputs": [
    {
     "name": "stdout",
     "output_type": "stream",
     "text": [
      "<class 'pandas.core.frame.DataFrame'>\n",
      "RangeIndex: 255347 entries, 0 to 255346\n",
      "Data columns (total 18 columns):\n",
      " #   Column          Non-Null Count   Dtype  \n",
      "---  ------          --------------   -----  \n",
      " 0   LoanID          255347 non-null  object \n",
      " 1   Age             255347 non-null  int64  \n",
      " 2   Income          255347 non-null  int64  \n",
      " 3   LoanAmount      255347 non-null  int64  \n",
      " 4   CreditScore     255347 non-null  int64  \n",
      " 5   MonthsEmployed  255347 non-null  int64  \n",
      " 6   NumCreditLines  255347 non-null  int64  \n",
      " 7   InterestRate    255347 non-null  float64\n",
      " 8   LoanTerm        255347 non-null  int64  \n",
      " 9   DTIRatio        255347 non-null  float64\n",
      " 10  Education       255347 non-null  object \n",
      " 11  EmploymentType  255347 non-null  object \n",
      " 12  MaritalStatus   255347 non-null  object \n",
      " 13  HasMortgage     255347 non-null  object \n",
      " 14  HasDependents   255347 non-null  object \n",
      " 15  LoanPurpose     255347 non-null  object \n",
      " 16  HasCoSigner     255347 non-null  object \n",
      " 17  Default         255347 non-null  int64  \n",
      "dtypes: float64(2), int64(8), object(8)\n",
      "memory usage: 35.1+ MB\n"
     ]
    }
   ],
   "source": [
    "train.info()"
   ]
  },
  {
   "cell_type": "code",
   "execution_count": 6,
   "id": "13035c81",
   "metadata": {},
   "outputs": [
    {
     "data": {
      "text/plain": [
       "Index(['LoanID', 'Age', 'Income', 'LoanAmount', 'CreditScore',\n",
       "       'MonthsEmployed', 'NumCreditLines', 'InterestRate', 'LoanTerm',\n",
       "       'DTIRatio', 'Education', 'EmploymentType', 'MaritalStatus',\n",
       "       'HasMortgage', 'HasDependents', 'LoanPurpose', 'HasCoSigner',\n",
       "       'Default'],\n",
       "      dtype='object')"
      ]
     },
     "execution_count": 6,
     "metadata": {},
     "output_type": "execute_result"
    }
   ],
   "source": [
    "train.columns"
   ]
  },
  {
   "cell_type": "code",
   "execution_count": 7,
   "id": "92052933",
   "metadata": {
    "scrolled": false
   },
   "outputs": [
    {
     "data": {
      "text/plain": [
       "LoanID            0\n",
       "Age               0\n",
       "Income            0\n",
       "LoanAmount        0\n",
       "CreditScore       0\n",
       "MonthsEmployed    0\n",
       "NumCreditLines    0\n",
       "InterestRate      0\n",
       "LoanTerm          0\n",
       "DTIRatio          0\n",
       "Education         0\n",
       "EmploymentType    0\n",
       "MaritalStatus     0\n",
       "HasMortgage       0\n",
       "HasDependents     0\n",
       "LoanPurpose       0\n",
       "HasCoSigner       0\n",
       "Default           0\n",
       "dtype: int64"
      ]
     },
     "execution_count": 7,
     "metadata": {},
     "output_type": "execute_result"
    }
   ],
   "source": [
    "train.isnull().sum()"
   ]
  },
  {
   "cell_type": "code",
   "execution_count": 8,
   "id": "8e90126d",
   "metadata": {},
   "outputs": [
    {
     "ename": "AttributeError",
     "evalue": "'DataFrame' object has no attribute 'loan_amount_bin'",
     "output_type": "error",
     "traceback": [
      "\u001b[0;31m---------------------------------------------------------------------------\u001b[0m",
      "\u001b[0;31mAttributeError\u001b[0m                            Traceback (most recent call last)",
      "Cell \u001b[0;32mIn[8], line 1\u001b[0m\n\u001b[0;32m----> 1\u001b[0m train\u001b[38;5;241m.\u001b[39mloan_amount_bin[train\u001b[38;5;241m.\u001b[39mloan_amount_bin\u001b[38;5;241m.\u001b[39misnull() \u001b[38;5;241m==\u001b[39m \u001b[38;5;124m'\u001b[39m\u001b[38;5;124mTrue\u001b[39m\u001b[38;5;124m'\u001b[39m]\n",
      "File \u001b[0;32m/usr/local/anaconda3/lib/python3.11/site-packages/pandas/core/generic.py:5902\u001b[0m, in \u001b[0;36mNDFrame.__getattr__\u001b[0;34m(self, name)\u001b[0m\n\u001b[1;32m   5895\u001b[0m \u001b[38;5;28;01mif\u001b[39;00m (\n\u001b[1;32m   5896\u001b[0m     name \u001b[38;5;129;01mnot\u001b[39;00m \u001b[38;5;129;01min\u001b[39;00m \u001b[38;5;28mself\u001b[39m\u001b[38;5;241m.\u001b[39m_internal_names_set\n\u001b[1;32m   5897\u001b[0m     \u001b[38;5;129;01mand\u001b[39;00m name \u001b[38;5;129;01mnot\u001b[39;00m \u001b[38;5;129;01min\u001b[39;00m \u001b[38;5;28mself\u001b[39m\u001b[38;5;241m.\u001b[39m_metadata\n\u001b[1;32m   5898\u001b[0m     \u001b[38;5;129;01mand\u001b[39;00m name \u001b[38;5;129;01mnot\u001b[39;00m \u001b[38;5;129;01min\u001b[39;00m \u001b[38;5;28mself\u001b[39m\u001b[38;5;241m.\u001b[39m_accessors\n\u001b[1;32m   5899\u001b[0m     \u001b[38;5;129;01mand\u001b[39;00m \u001b[38;5;28mself\u001b[39m\u001b[38;5;241m.\u001b[39m_info_axis\u001b[38;5;241m.\u001b[39m_can_hold_identifiers_and_holds_name(name)\n\u001b[1;32m   5900\u001b[0m ):\n\u001b[1;32m   5901\u001b[0m     \u001b[38;5;28;01mreturn\u001b[39;00m \u001b[38;5;28mself\u001b[39m[name]\n\u001b[0;32m-> 5902\u001b[0m \u001b[38;5;28;01mreturn\u001b[39;00m \u001b[38;5;28mobject\u001b[39m\u001b[38;5;241m.\u001b[39m\u001b[38;5;21m__getattribute__\u001b[39m(\u001b[38;5;28mself\u001b[39m, name)\n",
      "\u001b[0;31mAttributeError\u001b[0m: 'DataFrame' object has no attribute 'loan_amount_bin'"
     ]
    }
   ],
   "source": [
    "train.loan_amount_bin[train.loan_amount_bin.isnull() == 'True']"
   ]
  },
  {
   "cell_type": "code",
   "execution_count": null,
   "id": "df460c00",
   "metadata": {},
   "outputs": [],
   "source": [
    "test = w.test_data()"
   ]
  },
  {
   "cell_type": "code",
   "execution_count": null,
   "id": "d1ec3f30",
   "metadata": {},
   "outputs": [],
   "source": [
    "val, test = w.val_test(test)"
   ]
  },
  {
   "cell_type": "code",
   "execution_count": null,
   "id": "a8617de9",
   "metadata": {},
   "outputs": [],
   "source": [
    "val.shape, test.shape"
   ]
  },
  {
   "cell_type": "code",
   "execution_count": null,
   "id": "2a939839",
   "metadata": {},
   "outputs": [],
   "source": [
    "val.head()"
   ]
  },
  {
   "cell_type": "code",
   "execution_count": null,
   "id": "b6d1dcc8",
   "metadata": {},
   "outputs": [],
   "source": [
    "w.summarize(train)"
   ]
  },
  {
   "cell_type": "code",
   "execution_count": null,
   "id": "687ffae9",
   "metadata": {},
   "outputs": [],
   "source": [
    "w.summarize(val)"
   ]
  },
  {
   "cell_type": "code",
   "execution_count": null,
   "id": "4c927d97",
   "metadata": {
    "scrolled": true
   },
   "outputs": [],
   "source": [
    "train, val, test = w.wrangle_data()"
   ]
  },
  {
   "cell_type": "code",
   "execution_count": null,
   "id": "da3b4f49",
   "metadata": {},
   "outputs": [],
   "source": [
    "test.head()"
   ]
  },
  {
   "cell_type": "code",
   "execution_count": null,
   "id": "8fbcafa3",
   "metadata": {
    "scrolled": true
   },
   "outputs": [],
   "source": [
    "train.shape, val.shape, test.shape"
   ]
  },
  {
   "cell_type": "code",
   "execution_count": null,
   "id": "48903fe2",
   "metadata": {
    "scrolled": true
   },
   "outputs": [],
   "source": [
    "w.summarize(train)"
   ]
  },
  {
   "cell_type": "code",
   "execution_count": null,
   "id": "d3aa7980",
   "metadata": {},
   "outputs": [],
   "source": [
    "w.summarize(test)"
   ]
  },
  {
   "cell_type": "markdown",
   "id": "99078eec",
   "metadata": {},
   "source": [
    "---"
   ]
  },
  {
   "cell_type": "markdown",
   "id": "bb52014f",
   "metadata": {},
   "source": [
    "# Exploration\n",
    "\n",
    "### - Binned data for better visuals"
   ]
  },
  {
   "cell_type": "code",
   "execution_count": null,
   "id": "582f0430",
   "metadata": {},
   "outputs": [],
   "source": [
    "sns.barplot(data = train, x = 'cosigned', y = 'default')"
   ]
  },
  {
   "cell_type": "code",
   "execution_count": null,
   "id": "1d50652c",
   "metadata": {
    "scrolled": false
   },
   "outputs": [],
   "source": [
    "# Plot distribution of default\n",
    "e.plt_dist(train, 'default')"
   ]
  },
  {
   "cell_type": "markdown",
   "id": "c904d00b",
   "metadata": {},
   "source": [
    "There is an uneven distribution of default values. I need to balance this before modeling"
   ]
  },
  {
   "cell_type": "code",
   "execution_count": null,
   "id": "29d72443",
   "metadata": {},
   "outputs": [],
   "source": [
    "train.head()"
   ]
  },
  {
   "cell_type": "code",
   "execution_count": null,
   "id": "3b962ba8",
   "metadata": {},
   "outputs": [],
   "source": [
    "# Make copy of train and add new binned features.\n",
    "train.copy = e.bin_data(train)\n",
    "val.copy = e.bin_data(val)"
   ]
  },
  {
   "cell_type": "markdown",
   "id": "8c2a222c",
   "metadata": {},
   "source": [
    "## 1. Is there a difference in interest rates for borrowers that default and those that did not ?\n",
    "\n",
    "### H0: Mean of interest rates of defaults = Mean of interest rates of all borrowers\n",
    "\n",
    "### Ha: Mean of interest rates of defaults != Mean of interest rates of all borrowers"
   ]
  },
  {
   "cell_type": "code",
   "execution_count": null,
   "id": "28f50542",
   "metadata": {
    "scrolled": true
   },
   "outputs": [],
   "source": [
    "# Call function to visualize barplot.\n",
    "e.plt_1(train.copy)"
   ]
  },
  {
   "cell_type": "code",
   "execution_count": null,
   "id": "fbd62fbf",
   "metadata": {
    "scrolled": true
   },
   "outputs": [],
   "source": [
    "# 1 sample, 2 tailed t-test\n",
    "e.t_test(train.copy, 'interest_rate')"
   ]
  },
  {
   "cell_type": "markdown",
   "id": "93b100fa",
   "metadata": {},
   "source": [
    "### Conclusion: \n",
    "### - Mean of interest rates of defaults != Mean of interest rates of all borrowers\n",
    "### - As interest rates increase, the mean of default increases"
   ]
  },
  {
   "cell_type": "markdown",
   "id": "085d8dcf",
   "metadata": {},
   "source": [
    "---"
   ]
  },
  {
   "cell_type": "markdown",
   "id": "eec0574a",
   "metadata": {},
   "source": [
    "## 2. Is there a difference in loan amounts for borrowers that default and those that did not ?\n",
    "\n",
    "### H0: Mean of loan amounts of defaults = Mean of loan amount of all borrowers\n",
    "\n",
    "### Ha: Mean of loan amounts of defaults != Mean of loan amount of all borrowers"
   ]
  },
  {
   "cell_type": "code",
   "execution_count": null,
   "id": "78b15261",
   "metadata": {
    "scrolled": false
   },
   "outputs": [],
   "source": [
    "# Call function to visualize barplot.\n",
    "e.plt_3(train.copy)"
   ]
  },
  {
   "cell_type": "code",
   "execution_count": null,
   "id": "2ef35286",
   "metadata": {},
   "outputs": [],
   "source": [
    "# 1 sample, 2 tailed t-test\n",
    "e.t_test(train.copy, 'loan_amount')"
   ]
  },
  {
   "cell_type": "markdown",
   "id": "ae193683",
   "metadata": {},
   "source": [
    "### Conclusion: \n",
    "\n",
    "### - Mean of loan amounts of defaults != Mean of loan amount of all borrowers\n",
    "### - As loan amount increase, the mean of default increases"
   ]
  },
  {
   "cell_type": "markdown",
   "id": "9f363be4",
   "metadata": {},
   "source": [
    "---"
   ]
  },
  {
   "cell_type": "markdown",
   "id": "40737db0",
   "metadata": {},
   "source": [
    "## 3. Is there a difference in age for borrowers that default and those that did not ?\n",
    "\n",
    "### H0:  Mean of age of defaults = Mean of age of all borrowers\n",
    "\n",
    "### Ha: Mean of age of defaults != Mean of age of all borrowers"
   ]
  },
  {
   "cell_type": "code",
   "execution_count": null,
   "id": "6fd788f9",
   "metadata": {
    "scrolled": false
   },
   "outputs": [],
   "source": [
    "# Call function to visualize barplot.\n",
    "e.plt_2(train.copy)"
   ]
  },
  {
   "cell_type": "code",
   "execution_count": null,
   "id": "cad9727a",
   "metadata": {
    "scrolled": true
   },
   "outputs": [],
   "source": [
    "# 1 sample, 2 tailed t-test\n",
    "e.t_test(train.copy, 'age')"
   ]
  },
  {
   "cell_type": "markdown",
   "id": "e5bc4d95",
   "metadata": {},
   "source": [
    "### Conclusion: \n",
    "### - Mean of age of defaults != Mean of age of all borrowers\n",
    "### - As age increases, mean of default decreases"
   ]
  },
  {
   "cell_type": "markdown",
   "id": "f3fa8583",
   "metadata": {},
   "source": [
    "## EDA Summary:\n",
    "### - Distribution of defaults significantly concentrated on non defaults (0)\n",
    "### - Interest rates, loan amount, and age seem to drive borrrowers to default on loans"
   ]
  },
  {
   "cell_type": "markdown",
   "id": "87e9219c",
   "metadata": {},
   "source": [
    "---"
   ]
  },
  {
   "cell_type": "markdown",
   "id": "fd43a0f1",
   "metadata": {},
   "source": [
    "# Pre-Process"
   ]
  },
  {
   "cell_type": "markdown",
   "id": "3660928b",
   "metadata": {},
   "source": [
    "function is not working. Val subset does not have a 'default' column. How can I measure accuracy?"
   ]
  },
  {
   "cell_type": "code",
   "execution_count": null,
   "id": "e40b61e3",
   "metadata": {},
   "outputs": [],
   "source": [
    "# Split data, scale data, get dummies\n",
    "X_train, y_train = p.xy_split(train.copy)\n",
    "X_val, y_val = p.xy_split2(val.copy)\n",
    "\n",
    "X_train.head()"
   ]
  },
  {
   "cell_type": "markdown",
   "id": "a45aa7f6",
   "metadata": {},
   "source": [
    "---"
   ]
  },
  {
   "cell_type": "markdown",
   "id": "46457236",
   "metadata": {},
   "source": [
    "# Modeling"
   ]
  },
  {
   "cell_type": "markdown",
   "id": "1d74bcfa",
   "metadata": {},
   "source": [
    "### - Baseline = .88\n",
    "### - Evaluation metric is accuracy\n",
    "### - I have moved forward with all features including new binned features"
   ]
  },
  {
   "cell_type": "markdown",
   "id": "2e8e1f59",
   "metadata": {},
   "source": [
    "## Random Forest"
   ]
  },
  {
   "cell_type": "code",
   "execution_count": null,
   "id": "a290aee5",
   "metadata": {
    "scrolled": true
   },
   "outputs": [],
   "source": [
    "m.r_forest(X_train, y_train, X_val, y_val)"
   ]
  },
  {
   "cell_type": "markdown",
   "id": "48a2e36c",
   "metadata": {},
   "source": [
    "## Decision Tree"
   ]
  },
  {
   "cell_type": "code",
   "execution_count": null,
   "id": "2f9d7880",
   "metadata": {
    "scrolled": true
   },
   "outputs": [],
   "source": [
    "m.d_tree(X_train, y_train, X_val, y_val)"
   ]
  },
  {
   "cell_type": "markdown",
   "id": "841cba5c",
   "metadata": {},
   "source": [
    "## KNearest Neighbor"
   ]
  },
  {
   "cell_type": "code",
   "execution_count": null,
   "id": "dbb1922b",
   "metadata": {},
   "outputs": [],
   "source": [
    "m.knn_m(X_train, y_train, X_val, y_val)"
   ]
  },
  {
   "cell_type": "markdown",
   "id": "6a294788",
   "metadata": {},
   "source": [
    "---"
   ]
  },
  {
   "cell_type": "code",
   "execution_count": null,
   "id": "9f322d7e",
   "metadata": {
    "scrolled": false
   },
   "outputs": [],
   "source": [
    "# Plot distribution of default\n",
    "e.plt_dist(train, 'default')"
   ]
  },
  {
   "cell_type": "markdown",
   "id": "44b6ec0b",
   "metadata": {},
   "source": [
    "# Conclusion"
   ]
  },
  {
   "cell_type": "markdown",
   "id": "b36295b5",
   "metadata": {},
   "source": [
    "### - Baseline = .88\n",
    "### - Decision tree and random forest models with balanced weight parameters perform worse than the baseline\n",
    "### - Distribution of default binary values heavily concentrated on one value\n",
    "### - Knearest tree is weighing one outcome significantly more than the other\n",
    "### - Decided not to test until I improve my train and validate accuracy"
   ]
  },
  {
   "cell_type": "markdown",
   "id": "3c666512",
   "metadata": {},
   "source": [
    "---"
   ]
  },
  {
   "cell_type": "markdown",
   "id": "39ceb0ea",
   "metadata": {},
   "source": [
    "# Next Steps:"
   ]
  },
  {
   "cell_type": "markdown",
   "id": "3bf0b81d",
   "metadata": {},
   "source": [
    "### - Adjust model hyperparameters \n",
    "### - Do some more feature engineering\n",
    "### - Investigate feature importance and minimize dimension by dropping features\n",
    "### - Run test\n",
    "finish\n"
   ]
  },
  {
   "cell_type": "markdown",
   "id": "adb98c6b",
   "metadata": {},
   "source": [
    "---"
   ]
  },
  {
   "cell_type": "markdown",
   "id": "e5af4a81",
   "metadata": {},
   "source": [
    "# Recommendations:"
   ]
  },
  {
   "cell_type": "markdown",
   "id": "062c31ea",
   "metadata": {},
   "source": [
    "### - Target loan amounts lower than 150k\n",
    "### - Require higher qualifications for younger population\n",
    "### - Target borrowers that qualify with low interest rates"
   ]
  },
  {
   "cell_type": "code",
   "execution_count": null,
   "id": "62182804",
   "metadata": {},
   "outputs": [],
   "source": []
  }
 ],
 "metadata": {
  "kernelspec": {
   "display_name": "Python 3 (ipykernel)",
   "language": "python",
   "name": "python3"
  },
  "language_info": {
   "codemirror_mode": {
    "name": "ipython",
    "version": 3
   },
   "file_extension": ".py",
   "mimetype": "text/x-python",
   "name": "python",
   "nbconvert_exporter": "python",
   "pygments_lexer": "ipython3",
   "version": "3.11.3"
  }
 },
 "nbformat": 4,
 "nbformat_minor": 5
}
