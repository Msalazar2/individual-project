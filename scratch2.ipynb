{
 "cells": [
  {
   "cell_type": "code",
   "execution_count": 173,
   "id": "2631ebb7",
   "metadata": {},
   "outputs": [],
   "source": [
    "import wrangle as w\n",
    "import explore as e\n",
    "import pandas as pd\n",
    "import seaborn as sns\n",
    "import matplotlib.pyplot as plt\n",
    "from scipy import stats"
   ]
  },
  {
   "cell_type": "code",
   "execution_count": 2,
   "id": "dda93b38",
   "metadata": {},
   "outputs": [
    {
     "name": "stdout",
     "output_type": "stream",
     "text": [
      "Found Data\n"
     ]
    },
    {
     "data": {
      "text/html": [
       "<div>\n",
       "<style scoped>\n",
       "    .dataframe tbody tr th:only-of-type {\n",
       "        vertical-align: middle;\n",
       "    }\n",
       "\n",
       "    .dataframe tbody tr th {\n",
       "        vertical-align: top;\n",
       "    }\n",
       "\n",
       "    .dataframe thead th {\n",
       "        text-align: right;\n",
       "    }\n",
       "</style>\n",
       "<table border=\"1\" class=\"dataframe\">\n",
       "  <thead>\n",
       "    <tr style=\"text-align: right;\">\n",
       "      <th></th>\n",
       "      <th>age</th>\n",
       "      <th>income</th>\n",
       "      <th>loan_amount</th>\n",
       "      <th>credit_score</th>\n",
       "      <th>months_employed</th>\n",
       "      <th>num_credit_lines</th>\n",
       "      <th>interest_rate</th>\n",
       "      <th>loan_term</th>\n",
       "      <th>dti_ratio</th>\n",
       "      <th>education</th>\n",
       "      <th>employment_type</th>\n",
       "      <th>marital_status</th>\n",
       "      <th>mortgage</th>\n",
       "      <th>dependents</th>\n",
       "      <th>loan_purpose</th>\n",
       "      <th>cosigned</th>\n",
       "      <th>default</th>\n",
       "    </tr>\n",
       "  </thead>\n",
       "  <tbody>\n",
       "    <tr>\n",
       "      <th>0</th>\n",
       "      <td>56</td>\n",
       "      <td>85994</td>\n",
       "      <td>50587</td>\n",
       "      <td>520</td>\n",
       "      <td>80</td>\n",
       "      <td>4</td>\n",
       "      <td>15.23</td>\n",
       "      <td>36</td>\n",
       "      <td>0.44</td>\n",
       "      <td>Bachelor's</td>\n",
       "      <td>Full-time</td>\n",
       "      <td>Divorced</td>\n",
       "      <td>Yes</td>\n",
       "      <td>Yes</td>\n",
       "      <td>Other</td>\n",
       "      <td>Yes</td>\n",
       "      <td>0</td>\n",
       "    </tr>\n",
       "    <tr>\n",
       "      <th>1</th>\n",
       "      <td>69</td>\n",
       "      <td>50432</td>\n",
       "      <td>124440</td>\n",
       "      <td>458</td>\n",
       "      <td>15</td>\n",
       "      <td>1</td>\n",
       "      <td>4.81</td>\n",
       "      <td>60</td>\n",
       "      <td>0.68</td>\n",
       "      <td>Master's</td>\n",
       "      <td>Full-time</td>\n",
       "      <td>Married</td>\n",
       "      <td>No</td>\n",
       "      <td>No</td>\n",
       "      <td>Other</td>\n",
       "      <td>Yes</td>\n",
       "      <td>0</td>\n",
       "    </tr>\n",
       "    <tr>\n",
       "      <th>2</th>\n",
       "      <td>46</td>\n",
       "      <td>84208</td>\n",
       "      <td>129188</td>\n",
       "      <td>451</td>\n",
       "      <td>26</td>\n",
       "      <td>3</td>\n",
       "      <td>21.17</td>\n",
       "      <td>24</td>\n",
       "      <td>0.31</td>\n",
       "      <td>Master's</td>\n",
       "      <td>Unemployed</td>\n",
       "      <td>Divorced</td>\n",
       "      <td>Yes</td>\n",
       "      <td>Yes</td>\n",
       "      <td>Auto</td>\n",
       "      <td>No</td>\n",
       "      <td>1</td>\n",
       "    </tr>\n",
       "    <tr>\n",
       "      <th>3</th>\n",
       "      <td>32</td>\n",
       "      <td>31713</td>\n",
       "      <td>44799</td>\n",
       "      <td>743</td>\n",
       "      <td>0</td>\n",
       "      <td>3</td>\n",
       "      <td>7.07</td>\n",
       "      <td>24</td>\n",
       "      <td>0.23</td>\n",
       "      <td>High School</td>\n",
       "      <td>Full-time</td>\n",
       "      <td>Married</td>\n",
       "      <td>No</td>\n",
       "      <td>No</td>\n",
       "      <td>Business</td>\n",
       "      <td>No</td>\n",
       "      <td>0</td>\n",
       "    </tr>\n",
       "    <tr>\n",
       "      <th>4</th>\n",
       "      <td>60</td>\n",
       "      <td>20437</td>\n",
       "      <td>9139</td>\n",
       "      <td>633</td>\n",
       "      <td>8</td>\n",
       "      <td>4</td>\n",
       "      <td>6.51</td>\n",
       "      <td>48</td>\n",
       "      <td>0.73</td>\n",
       "      <td>Bachelor's</td>\n",
       "      <td>Unemployed</td>\n",
       "      <td>Divorced</td>\n",
       "      <td>No</td>\n",
       "      <td>Yes</td>\n",
       "      <td>Auto</td>\n",
       "      <td>No</td>\n",
       "      <td>0</td>\n",
       "    </tr>\n",
       "  </tbody>\n",
       "</table>\n",
       "</div>"
      ],
      "text/plain": [
       "   age  income  loan_amount  credit_score  months_employed  num_credit_lines  \\\n",
       "0   56   85994        50587           520               80                 4   \n",
       "1   69   50432       124440           458               15                 1   \n",
       "2   46   84208       129188           451               26                 3   \n",
       "3   32   31713        44799           743                0                 3   \n",
       "4   60   20437         9139           633                8                 4   \n",
       "\n",
       "   interest_rate  loan_term  dti_ratio    education employment_type  \\\n",
       "0          15.23         36       0.44   Bachelor's       Full-time   \n",
       "1           4.81         60       0.68     Master's       Full-time   \n",
       "2          21.17         24       0.31     Master's      Unemployed   \n",
       "3           7.07         24       0.23  High School       Full-time   \n",
       "4           6.51         48       0.73   Bachelor's      Unemployed   \n",
       "\n",
       "  marital_status mortgage dependents loan_purpose cosigned  default  \n",
       "0       Divorced      Yes        Yes        Other      Yes        0  \n",
       "1        Married       No         No        Other      Yes        0  \n",
       "2       Divorced      Yes        Yes         Auto       No        1  \n",
       "3        Married       No         No     Business       No        0  \n",
       "4       Divorced       No        Yes         Auto       No        0  "
      ]
     },
     "execution_count": 2,
     "metadata": {},
     "output_type": "execute_result"
    }
   ],
   "source": [
    "df = w.wrangle_data()\n",
    "df.head()"
   ]
  },
  {
   "cell_type": "code",
   "execution_count": 3,
   "id": "c68d8f90",
   "metadata": {},
   "outputs": [
    {
     "data": {
      "text/html": [
       "<b>Shape:</b>"
      ],
      "text/plain": [
       "<IPython.core.display.HTML object>"
      ]
     },
     "metadata": {},
     "output_type": "display_data"
    },
    {
     "name": "stdout",
     "output_type": "stream",
     "text": [
      "(255347, 17)\n",
      "\n",
      "_________________________________________________\n",
      "\n"
     ]
    },
    {
     "data": {
      "text/html": [
       "<b>Info:</b>"
      ],
      "text/plain": [
       "<IPython.core.display.HTML object>"
      ]
     },
     "metadata": {},
     "output_type": "display_data"
    },
    {
     "name": "stdout",
     "output_type": "stream",
     "text": [
      "<class 'pandas.core.frame.DataFrame'>\n",
      "RangeIndex: 255347 entries, 0 to 255346\n",
      "Data columns (total 17 columns):\n",
      " #   Column            Non-Null Count   Dtype  \n",
      "---  ------            --------------   -----  \n",
      " 0   age               255347 non-null  int64  \n",
      " 1   income            255347 non-null  int64  \n",
      " 2   loan_amount       255347 non-null  int64  \n",
      " 3   credit_score      255347 non-null  int64  \n",
      " 4   months_employed   255347 non-null  int64  \n",
      " 5   num_credit_lines  255347 non-null  int64  \n",
      " 6   interest_rate     255347 non-null  float64\n",
      " 7   loan_term         255347 non-null  int64  \n",
      " 8   dti_ratio         255347 non-null  float64\n",
      " 9   education         255347 non-null  object \n",
      " 10  employment_type   255347 non-null  object \n",
      " 11  marital_status    255347 non-null  object \n",
      " 12  mortgage          255347 non-null  object \n",
      " 13  dependents        255347 non-null  object \n",
      " 14  loan_purpose      255347 non-null  object \n",
      " 15  cosigned          255347 non-null  object \n",
      " 16  default           255347 non-null  int64  \n",
      "dtypes: float64(2), int64(8), object(7)\n",
      "memory usage: 33.1+ MB\n",
      "\n",
      "_________________________________________________\n",
      "\n"
     ]
    },
    {
     "data": {
      "text/html": [
       "<b>Null Values:</b>"
      ],
      "text/plain": [
       "<IPython.core.display.HTML object>"
      ]
     },
     "metadata": {},
     "output_type": "display_data"
    },
    {
     "name": "stdout",
     "output_type": "stream",
     "text": [
      "\n",
      "age                 0\n",
      "income              0\n",
      "loan_amount         0\n",
      "credit_score        0\n",
      "months_employed     0\n",
      "num_credit_lines    0\n",
      "interest_rate       0\n",
      "loan_term           0\n",
      "dti_ratio           0\n",
      "education           0\n",
      "employment_type     0\n",
      "marital_status      0\n",
      "mortgage            0\n",
      "dependents          0\n",
      "loan_purpose        0\n",
      "cosigned            0\n",
      "default             0\n",
      "dtype: int64\n",
      "\n",
      "_________________________________________________\n",
      "\n"
     ]
    },
    {
     "data": {
      "text/html": [
       "<b>Value Count for age:</b>"
      ],
      "text/plain": [
       "<IPython.core.display.HTML object>"
      ]
     },
     "metadata": {},
     "output_type": "display_data"
    },
    {
     "name": "stdout",
     "output_type": "stream",
     "text": [
      "\n",
      "55    5064\n",
      "40    5056\n",
      "65    5027\n",
      "33    5022\n",
      "53    5010\n",
      "62    4999\n",
      "34    4987\n",
      "45    4985\n",
      "61    4982\n",
      "39    4973\n",
      "22    4970\n",
      "32    4969\n",
      "43    4965\n",
      "19    4963\n",
      "35    4961\n",
      "68    4958\n",
      "38    4955\n",
      "30    4954\n",
      "49    4952\n",
      "50    4949\n",
      "27    4945\n",
      "47    4931\n",
      "57    4925\n",
      "54    4921\n",
      "31    4908\n",
      "44    4906\n",
      "36    4906\n",
      "28    4906\n",
      "56    4902\n",
      "26    4891\n",
      "21    4889\n",
      "46    4887\n",
      "18    4884\n",
      "58    4883\n",
      "67    4876\n",
      "51    4876\n",
      "59    4871\n",
      "24    4869\n",
      "29    4865\n",
      "63    4862\n",
      "20    4861\n",
      "37    4856\n",
      "66    4841\n",
      "25    4840\n",
      "64    4840\n",
      "69    4817\n",
      "41    4815\n",
      "48    4810\n",
      "42    4803\n",
      "60    4772\n",
      "52    4748\n",
      "23    4740\n",
      "Name: age, dtype: int64\n",
      "\n",
      "_________________________________________________\n",
      "\n"
     ]
    },
    {
     "data": {
      "text/html": [
       "<b>Value Count for income:</b>"
      ],
      "text/plain": [
       "<IPython.core.display.HTML object>"
      ]
     },
     "metadata": {},
     "output_type": "display_data"
    },
    {
     "name": "stdout",
     "output_type": "stream",
     "text": [
      "\n",
      "69492     10\n",
      "117102    10\n",
      "121985    10\n",
      "85375      9\n",
      "61315      9\n",
      "          ..\n",
      "98969      1\n",
      "72350      1\n",
      "126600     1\n",
      "68356      1\n",
      "124446     1\n",
      "Name: income, Length: 114620, dtype: int64\n",
      "\n",
      "_________________________________________________\n",
      "\n"
     ]
    },
    {
     "data": {
      "text/html": [
       "<b>Value Count for loan_amount:</b>"
      ],
      "text/plain": [
       "<IPython.core.display.HTML object>"
      ]
     },
     "metadata": {},
     "output_type": "display_data"
    },
    {
     "name": "stdout",
     "output_type": "stream",
     "text": [
      "\n",
      "133724    8\n",
      "221949    8\n",
      "95419     8\n",
      "235258    7\n",
      "108323    7\n",
      "         ..\n",
      "121259    1\n",
      "147115    1\n",
      "166792    1\n",
      "39044     1\n",
      "208294    1\n",
      "Name: loan_amount, Length: 158729, dtype: int64\n",
      "\n",
      "_________________________________________________\n",
      "\n"
     ]
    },
    {
     "data": {
      "text/html": [
       "<b>Value Count for credit_score:</b>"
      ],
      "text/plain": [
       "<IPython.core.display.HTML object>"
      ]
     },
     "metadata": {},
     "output_type": "display_data"
    },
    {
     "name": "stdout",
     "output_type": "stream",
     "text": [
      "\n",
      "630    528\n",
      "445    521\n",
      "829    520\n",
      "753    519\n",
      "670    515\n",
      "      ... \n",
      "629    408\n",
      "706    406\n",
      "536    406\n",
      "720    402\n",
      "724    392\n",
      "Name: credit_score, Length: 550, dtype: int64\n",
      "\n",
      "_________________________________________________\n",
      "\n"
     ]
    },
    {
     "data": {
      "text/html": [
       "<b>Value Count for months_employed:</b>"
      ],
      "text/plain": [
       "<IPython.core.display.HTML object>"
      ]
     },
     "metadata": {},
     "output_type": "display_data"
    },
    {
     "name": "stdout",
     "output_type": "stream",
     "text": [
      "\n",
      "56     2227\n",
      "26     2223\n",
      "45     2220\n",
      "107    2207\n",
      "17     2198\n",
      "       ... \n",
      "11     2043\n",
      "39     2041\n",
      "21     2014\n",
      "99     2008\n",
      "25     2004\n",
      "Name: months_employed, Length: 120, dtype: int64\n",
      "\n",
      "_________________________________________________\n",
      "\n"
     ]
    },
    {
     "data": {
      "text/html": [
       "<b>Value Count for num_credit_lines:</b>"
      ],
      "text/plain": [
       "<IPython.core.display.HTML object>"
      ]
     },
     "metadata": {},
     "output_type": "display_data"
    },
    {
     "name": "stdout",
     "output_type": "stream",
     "text": [
      "\n",
      "2    64130\n",
      "3    63834\n",
      "4    63829\n",
      "1    63554\n",
      "Name: num_credit_lines, dtype: int64\n",
      "\n",
      "_________________________________________________\n",
      "\n"
     ]
    },
    {
     "data": {
      "text/html": [
       "<b>Value Count for interest_rate:</b>"
      ],
      "text/plain": [
       "<IPython.core.display.HTML object>"
      ]
     },
     "metadata": {},
     "output_type": "display_data"
    },
    {
     "name": "stdout",
     "output_type": "stream",
     "text": [
      "\n",
      "14.92    147\n",
      "2.25     144\n",
      "4.78     140\n",
      "16.44    140\n",
      "7.30     139\n",
      "        ... \n",
      "15.50     83\n",
      "4.58      82\n",
      "14.34     81\n",
      "25.00     53\n",
      "2.00      44\n",
      "Name: interest_rate, Length: 2301, dtype: int64\n",
      "\n",
      "_________________________________________________\n",
      "\n"
     ]
    },
    {
     "data": {
      "text/html": [
       "<b>Value Count for loan_term:</b>"
      ],
      "text/plain": [
       "<IPython.core.display.HTML object>"
      ]
     },
     "metadata": {},
     "output_type": "display_data"
    },
    {
     "name": "stdout",
     "output_type": "stream",
     "text": [
      "\n",
      "48    51166\n",
      "60    51154\n",
      "36    51061\n",
      "24    51009\n",
      "12    50957\n",
      "Name: loan_term, dtype: int64\n",
      "\n",
      "_________________________________________________\n",
      "\n"
     ]
    },
    {
     "data": {
      "text/html": [
       "<b>Value Count for dti_ratio:</b>"
      ],
      "text/plain": [
       "<IPython.core.display.HTML object>"
      ]
     },
     "metadata": {},
     "output_type": "display_data"
    },
    {
     "name": "stdout",
     "output_type": "stream",
     "text": [
      "\n",
      "0.67    3385\n",
      "0.64    3308\n",
      "0.37    3288\n",
      "0.13    3285\n",
      "0.19    3285\n",
      "        ... \n",
      "0.68    3078\n",
      "0.35    3068\n",
      "0.11    3051\n",
      "0.10    1611\n",
      "0.90    1605\n",
      "Name: dti_ratio, Length: 81, dtype: int64\n",
      "\n",
      "_________________________________________________\n",
      "\n"
     ]
    },
    {
     "data": {
      "text/html": [
       "<b>Value Count for education:</b>"
      ],
      "text/plain": [
       "<IPython.core.display.HTML object>"
      ]
     },
     "metadata": {},
     "output_type": "display_data"
    },
    {
     "name": "stdout",
     "output_type": "stream",
     "text": [
      "\n",
      "Bachelor's     64366\n",
      "High School    63903\n",
      "Master's       63541\n",
      "PhD            63537\n",
      "Name: education, dtype: int64\n",
      "\n",
      "_________________________________________________\n",
      "\n"
     ]
    },
    {
     "data": {
      "text/html": [
       "<b>Value Count for employment_type:</b>"
      ],
      "text/plain": [
       "<IPython.core.display.HTML object>"
      ]
     },
     "metadata": {},
     "output_type": "display_data"
    },
    {
     "name": "stdout",
     "output_type": "stream",
     "text": [
      "\n",
      "Part-time        64161\n",
      "Unemployed       63824\n",
      "Self-employed    63706\n",
      "Full-time        63656\n",
      "Name: employment_type, dtype: int64\n",
      "\n",
      "_________________________________________________\n",
      "\n"
     ]
    },
    {
     "data": {
      "text/html": [
       "<b>Value Count for marital_status:</b>"
      ],
      "text/plain": [
       "<IPython.core.display.HTML object>"
      ]
     },
     "metadata": {},
     "output_type": "display_data"
    },
    {
     "name": "stdout",
     "output_type": "stream",
     "text": [
      "\n",
      "Married     85302\n",
      "Divorced    85033\n",
      "Single      85012\n",
      "Name: marital_status, dtype: int64\n",
      "\n",
      "_________________________________________________\n",
      "\n"
     ]
    },
    {
     "data": {
      "text/html": [
       "<b>Value Count for mortgage:</b>"
      ],
      "text/plain": [
       "<IPython.core.display.HTML object>"
      ]
     },
     "metadata": {},
     "output_type": "display_data"
    },
    {
     "name": "stdout",
     "output_type": "stream",
     "text": [
      "\n",
      "Yes    127677\n",
      "No     127670\n",
      "Name: mortgage, dtype: int64\n",
      "\n",
      "_________________________________________________\n",
      "\n"
     ]
    },
    {
     "data": {
      "text/html": [
       "<b>Value Count for dependents:</b>"
      ],
      "text/plain": [
       "<IPython.core.display.HTML object>"
      ]
     },
     "metadata": {},
     "output_type": "display_data"
    },
    {
     "name": "stdout",
     "output_type": "stream",
     "text": [
      "\n",
      "Yes    127742\n",
      "No     127605\n",
      "Name: dependents, dtype: int64\n",
      "\n",
      "_________________________________________________\n",
      "\n"
     ]
    },
    {
     "data": {
      "text/html": [
       "<b>Value Count for loan_purpose:</b>"
      ],
      "text/plain": [
       "<IPython.core.display.HTML object>"
      ]
     },
     "metadata": {},
     "output_type": "display_data"
    },
    {
     "name": "stdout",
     "output_type": "stream",
     "text": [
      "\n",
      "Business     51298\n",
      "Home         51286\n",
      "Education    51005\n",
      "Other        50914\n",
      "Auto         50844\n",
      "Name: loan_purpose, dtype: int64\n",
      "\n",
      "_________________________________________________\n",
      "\n"
     ]
    },
    {
     "data": {
      "text/html": [
       "<b>Value Count for cosigned:</b>"
      ],
      "text/plain": [
       "<IPython.core.display.HTML object>"
      ]
     },
     "metadata": {},
     "output_type": "display_data"
    },
    {
     "name": "stdout",
     "output_type": "stream",
     "text": [
      "\n",
      "Yes    127701\n",
      "No     127646\n",
      "Name: cosigned, dtype: int64\n",
      "\n",
      "_________________________________________________\n",
      "\n"
     ]
    },
    {
     "data": {
      "text/html": [
       "<b>Value Count for default:</b>"
      ],
      "text/plain": [
       "<IPython.core.display.HTML object>"
      ]
     },
     "metadata": {},
     "output_type": "display_data"
    },
    {
     "name": "stdout",
     "output_type": "stream",
     "text": [
      "\n",
      "0    225694\n",
      "1     29653\n",
      "Name: default, dtype: int64\n",
      "\n",
      "_________________________________________________\n",
      "\n"
     ]
    }
   ],
   "source": [
    "w.summarize(df)"
   ]
  },
  {
   "cell_type": "code",
   "execution_count": 4,
   "id": "cc686ae8",
   "metadata": {},
   "outputs": [],
   "source": [
    "df.copy = e.bin_data(df)\n"
   ]
  },
  {
   "cell_type": "code",
   "execution_count": 5,
   "id": "f9bf1bea",
   "metadata": {},
   "outputs": [
    {
     "data": {
      "text/html": [
       "<div>\n",
       "<style scoped>\n",
       "    .dataframe tbody tr th:only-of-type {\n",
       "        vertical-align: middle;\n",
       "    }\n",
       "\n",
       "    .dataframe tbody tr th {\n",
       "        vertical-align: top;\n",
       "    }\n",
       "\n",
       "    .dataframe thead th {\n",
       "        text-align: right;\n",
       "    }\n",
       "</style>\n",
       "<table border=\"1\" class=\"dataframe\">\n",
       "  <thead>\n",
       "    <tr style=\"text-align: right;\">\n",
       "      <th></th>\n",
       "      <th>age</th>\n",
       "      <th>income</th>\n",
       "      <th>loan_amount</th>\n",
       "      <th>credit_score</th>\n",
       "      <th>months_employed</th>\n",
       "      <th>num_credit_lines</th>\n",
       "      <th>interest_rate</th>\n",
       "      <th>loan_term</th>\n",
       "      <th>dti_ratio</th>\n",
       "      <th>education</th>\n",
       "      <th>...</th>\n",
       "      <th>loan_purpose</th>\n",
       "      <th>cosigned</th>\n",
       "      <th>default</th>\n",
       "      <th>credit_bin</th>\n",
       "      <th>age_bin</th>\n",
       "      <th>interest_bin</th>\n",
       "      <th>loan_amount_bin</th>\n",
       "      <th>income_bin</th>\n",
       "      <th>years_employed</th>\n",
       "      <th>years_employed_bin</th>\n",
       "    </tr>\n",
       "  </thead>\n",
       "  <tbody>\n",
       "    <tr>\n",
       "      <th>0</th>\n",
       "      <td>56</td>\n",
       "      <td>85994</td>\n",
       "      <td>50587</td>\n",
       "      <td>520</td>\n",
       "      <td>80</td>\n",
       "      <td>4</td>\n",
       "      <td>15.23</td>\n",
       "      <td>36</td>\n",
       "      <td>0.44</td>\n",
       "      <td>Bachelor's</td>\n",
       "      <td>...</td>\n",
       "      <td>Other</td>\n",
       "      <td>Yes</td>\n",
       "      <td>0</td>\n",
       "      <td>500s</td>\n",
       "      <td>56-59</td>\n",
       "      <td>11-15</td>\n",
       "      <td>50k-100k</td>\n",
       "      <td>60k-90k</td>\n",
       "      <td>6.666667</td>\n",
       "      <td>5-6</td>\n",
       "    </tr>\n",
       "    <tr>\n",
       "      <th>1</th>\n",
       "      <td>69</td>\n",
       "      <td>50432</td>\n",
       "      <td>124440</td>\n",
       "      <td>458</td>\n",
       "      <td>15</td>\n",
       "      <td>1</td>\n",
       "      <td>4.81</td>\n",
       "      <td>60</td>\n",
       "      <td>0.68</td>\n",
       "      <td>Master's</td>\n",
       "      <td>...</td>\n",
       "      <td>Other</td>\n",
       "      <td>Yes</td>\n",
       "      <td>0</td>\n",
       "      <td>400s</td>\n",
       "      <td>66-69</td>\n",
       "      <td>2-6</td>\n",
       "      <td>100k-150k</td>\n",
       "      <td>30k-60k</td>\n",
       "      <td>1.250000</td>\n",
       "      <td>0-2</td>\n",
       "    </tr>\n",
       "    <tr>\n",
       "      <th>2</th>\n",
       "      <td>46</td>\n",
       "      <td>84208</td>\n",
       "      <td>129188</td>\n",
       "      <td>451</td>\n",
       "      <td>26</td>\n",
       "      <td>3</td>\n",
       "      <td>21.17</td>\n",
       "      <td>24</td>\n",
       "      <td>0.31</td>\n",
       "      <td>Master's</td>\n",
       "      <td>...</td>\n",
       "      <td>Auto</td>\n",
       "      <td>No</td>\n",
       "      <td>1</td>\n",
       "      <td>400s</td>\n",
       "      <td>46-49</td>\n",
       "      <td>20-25</td>\n",
       "      <td>100k-150k</td>\n",
       "      <td>60k-90k</td>\n",
       "      <td>2.166667</td>\n",
       "      <td>0-2</td>\n",
       "    </tr>\n",
       "    <tr>\n",
       "      <th>3</th>\n",
       "      <td>32</td>\n",
       "      <td>31713</td>\n",
       "      <td>44799</td>\n",
       "      <td>743</td>\n",
       "      <td>0</td>\n",
       "      <td>3</td>\n",
       "      <td>7.07</td>\n",
       "      <td>24</td>\n",
       "      <td>0.23</td>\n",
       "      <td>High School</td>\n",
       "      <td>...</td>\n",
       "      <td>Business</td>\n",
       "      <td>No</td>\n",
       "      <td>0</td>\n",
       "      <td>700s</td>\n",
       "      <td>30-35</td>\n",
       "      <td>7-10</td>\n",
       "      <td>5k-50k</td>\n",
       "      <td>30k-60k</td>\n",
       "      <td>0.000000</td>\n",
       "      <td>0-2</td>\n",
       "    </tr>\n",
       "    <tr>\n",
       "      <th>4</th>\n",
       "      <td>60</td>\n",
       "      <td>20437</td>\n",
       "      <td>9139</td>\n",
       "      <td>633</td>\n",
       "      <td>8</td>\n",
       "      <td>4</td>\n",
       "      <td>6.51</td>\n",
       "      <td>48</td>\n",
       "      <td>0.73</td>\n",
       "      <td>Bachelor's</td>\n",
       "      <td>...</td>\n",
       "      <td>Auto</td>\n",
       "      <td>No</td>\n",
       "      <td>0</td>\n",
       "      <td>600s</td>\n",
       "      <td>60-65</td>\n",
       "      <td>2-6</td>\n",
       "      <td>5k-50k</td>\n",
       "      <td>15k-30k</td>\n",
       "      <td>0.666667</td>\n",
       "      <td>0-2</td>\n",
       "    </tr>\n",
       "  </tbody>\n",
       "</table>\n",
       "<p>5 rows × 24 columns</p>\n",
       "</div>"
      ],
      "text/plain": [
       "   age  income  loan_amount  credit_score  months_employed  num_credit_lines  \\\n",
       "0   56   85994        50587           520               80                 4   \n",
       "1   69   50432       124440           458               15                 1   \n",
       "2   46   84208       129188           451               26                 3   \n",
       "3   32   31713        44799           743                0                 3   \n",
       "4   60   20437         9139           633                8                 4   \n",
       "\n",
       "   interest_rate  loan_term  dti_ratio    education  ... loan_purpose  \\\n",
       "0          15.23         36       0.44   Bachelor's  ...        Other   \n",
       "1           4.81         60       0.68     Master's  ...        Other   \n",
       "2          21.17         24       0.31     Master's  ...         Auto   \n",
       "3           7.07         24       0.23  High School  ...     Business   \n",
       "4           6.51         48       0.73   Bachelor's  ...         Auto   \n",
       "\n",
       "  cosigned default credit_bin age_bin interest_bin  loan_amount_bin  \\\n",
       "0      Yes       0       500s   56-59        11-15         50k-100k   \n",
       "1      Yes       0       400s   66-69          2-6        100k-150k   \n",
       "2       No       1       400s   46-49        20-25        100k-150k   \n",
       "3       No       0       700s   30-35         7-10           5k-50k   \n",
       "4       No       0       600s   60-65          2-6           5k-50k   \n",
       "\n",
       "  income_bin years_employed years_employed_bin  \n",
       "0    60k-90k       6.666667                5-6  \n",
       "1    30k-60k       1.250000                0-2  \n",
       "2    60k-90k       2.166667                0-2  \n",
       "3    30k-60k       0.000000                0-2  \n",
       "4    15k-30k       0.666667                0-2  \n",
       "\n",
       "[5 rows x 24 columns]"
      ]
     },
     "execution_count": 5,
     "metadata": {},
     "output_type": "execute_result"
    }
   ],
   "source": [
    "df.copy.head()"
   ]
  },
  {
   "cell_type": "markdown",
   "id": "9c6be71a",
   "metadata": {},
   "source": [
    "# Question : Does interest rate drive default?"
   ]
  },
  {
   "cell_type": "markdown",
   "id": "98a27c96",
   "metadata": {},
   "source": [
    "### Ho: Interest rate does not have a relationship with defaults.\n",
    "\n",
    "### Ha: Interest rate does have a relationship with defaults."
   ]
  },
  {
   "cell_type": "code",
   "execution_count": 83,
   "id": "91af5811",
   "metadata": {
    "scrolled": false
   },
   "outputs": [
    {
     "data": {
      "image/png": "[encoded data removed]",
      "text/plain": [
       "<Figure size 640x480 with 1 Axes>"
      ]
     },
     "metadata": {},
     "output_type": "display_data"
    }
   ],
   "source": [
    "custom_colors = [\"lightgrey\",'lightgrey', 'lightgrey', 'lightgrey',\"lightseagreen\"]  # Replace with your desired colors\n",
    "\n",
    "ax = sns.barplot(data = df.copy, x = 'interest_bin', y = 'default', errorbar = None, palette = custom_colors)\n",
    "ax = plt.gca()\n",
    "\n",
    "for p in ax.patches:\n",
    "    value = float(round(p.get_height(), 2)) * 100  # Get the height (value) of each bar\n",
    "    \n",
    "    label = f\"{int(round(value))}%\" \n",
    "    \n",
    "    if value == 0.18:  # Customize the label for the highest value\n",
    "        ax.text(p.get_x() + p.get_width() / 2, p.get_height(), label, ha=\"center\", va=\"bottom\", fontweight=\"bold\")\n",
    "    else:\n",
    "        ax.text(p.get_x() + p.get_width() / 2, p.get_height(), label, ha=\"center\", va=\"bottom\")\n",
    "\n",
    "\n",
    "sns.despine(bottom = True, left = True)\n",
    "plt.tick_params(axis='x', which='both', bottom=False, top=False)\n",
    "plt.yticks([])\n",
    "plt.ylabel('')\n",
    "plt.xlabel('Interest Rates (%)')\n",
    "plt.title(' Average Defaults')\n",
    "plt.show()"
   ]
  },
  {
   "cell_type": "code",
   "execution_count": 82,
   "id": "8229e87c",
   "metadata": {},
   "outputs": [
    {
     "data": {
      "text/plain": [
       "0.17818024855668063"
      ]
     },
     "execution_count": 82,
     "metadata": {},
     "output_type": "execute_result"
    }
   ],
   "source": [
    "df[df.interest_bin == '20-25'].default.mean()"
   ]
  },
  {
   "cell_type": "code",
   "execution_count": 130,
   "id": "8ff47bbc",
   "metadata": {},
   "outputs": [
    {
     "data": {
      "text/plain": [
       "['56-59', '66-69', '46-49', '30-35', '60-65', '18-25', '36-39', '40-45', '26-29', '50-55']\n",
       "Categories (10, object): ['18-25' < '26-29' < '30-35' < '36-39' ... '50-55' < '56-59' < '60-65' < '66-69']"
      ]
     },
     "execution_count": 130,
     "metadata": {},
     "output_type": "execute_result"
    }
   ],
   "source": [
    "df.age_bin.unique()"
   ]
  },
  {
   "cell_type": "code",
   "execution_count": 157,
   "id": "18e66e09",
   "metadata": {},
   "outputs": [
    {
     "data": {
      "text/plain": [
       "0.20760713553413984"
      ]
     },
     "execution_count": 157,
     "metadata": {},
     "output_type": "execute_result"
    }
   ],
   "source": [
    "values = []\n",
    "\n",
    "for i in df.age_bin.unique():    \n",
    "    \n",
    "    values.append(df[df.age_bin == i].default.mean())\n",
    "    \n",
    "max(values)"
   ]
  },
  {
   "cell_type": "code",
   "execution_count": 160,
   "id": "c5c5553c",
   "metadata": {
    "scrolled": true
   },
   "outputs": [
    {
     "ename": "TypeError",
     "evalue": "'float' object is not iterable",
     "output_type": "error",
     "traceback": [
      "\u001b[0;31m---------------------------------------------------------------------------\u001b[0m",
      "\u001b[0;31mTypeError\u001b[0m                                 Traceback (most recent call last)",
      "Cell \u001b[0;32mIn[160], line 18\u001b[0m\n\u001b[1;32m     14\u001b[0m value \u001b[38;5;241m=\u001b[39m \u001b[38;5;28mfloat\u001b[39m(\u001b[38;5;28mround\u001b[39m(p\u001b[38;5;241m.\u001b[39mget_height(), \u001b[38;5;241m2\u001b[39m)) \u001b[38;5;241m*\u001b[39m \u001b[38;5;241m100\u001b[39m  \u001b[38;5;66;03m# Get the height (value) of each bar\u001b[39;00m\n\u001b[1;32m     16\u001b[0m label \u001b[38;5;241m=\u001b[39m \u001b[38;5;124mf\u001b[39m\u001b[38;5;124m\"\u001b[39m\u001b[38;5;132;01m{\u001b[39;00m\u001b[38;5;28mint\u001b[39m(\u001b[38;5;28mround\u001b[39m(value))\u001b[38;5;132;01m}\u001b[39;00m\u001b[38;5;124m%\u001b[39m\u001b[38;5;124m\"\u001b[39m \n\u001b[0;32m---> 18\u001b[0m \u001b[38;5;28;01mif\u001b[39;00m value \u001b[38;5;241m==\u001b[39m \u001b[38;5;28mmax\u001b[39m(value):  \u001b[38;5;66;03m# Customize the label for the highest value\u001b[39;00m\n\u001b[1;32m     19\u001b[0m     ax\u001b[38;5;241m.\u001b[39mtext(p\u001b[38;5;241m.\u001b[39mget_x() \u001b[38;5;241m+\u001b[39m p\u001b[38;5;241m.\u001b[39mget_width() \u001b[38;5;241m/\u001b[39m \u001b[38;5;241m2\u001b[39m, p\u001b[38;5;241m.\u001b[39mget_height(), label, ha\u001b[38;5;241m=\u001b[39m\u001b[38;5;124m\"\u001b[39m\u001b[38;5;124mcenter\u001b[39m\u001b[38;5;124m\"\u001b[39m, va\u001b[38;5;241m=\u001b[39m\u001b[38;5;124m\"\u001b[39m\u001b[38;5;124mbottom\u001b[39m\u001b[38;5;124m\"\u001b[39m, fontweight\u001b[38;5;241m=\u001b[39m\u001b[38;5;124m\"\u001b[39m\u001b[38;5;124mbold\u001b[39m\u001b[38;5;124m\"\u001b[39m)\n\u001b[1;32m     20\u001b[0m \u001b[38;5;28;01melse\u001b[39;00m:\n",
      "\u001b[0;31mTypeError\u001b[0m: 'float' object is not iterable"
     ]
    },
    {
     "data": {
      "image/png": "[encoded data removed]",
      "text/plain": [
       "<Figure size 640x480 with 1 Axes>"
      ]
     },
     "metadata": {},
     "output_type": "display_data"
    }
   ],
   "source": [
    "# I was trying to create a for loop to customize the bar colors according the value of the bar\n",
    "\n",
    "values = []\n",
    "\n",
    "for i in df.age_bin.unique():    \n",
    "    \n",
    "    values.append(df[df.age_bin == i].default.mean())\n",
    "\n",
    "    custom_colors = ['lightseagreen' if max(values) else 'lightgrey']  # Replace with your desired colors\n",
    "\n",
    "ax = sns.barplot(data = df.copy, x = 'age_bin', y = 'default', errorbar = None, palette = custom_colors)\n",
    "ax = plt.gca()\n",
    "\n",
    "for p in ax.patches:\n",
    "    \n",
    "    value = float(round(p.get_height(), 2)) * 100  # Get the height (value) of each bar\n",
    "    \n",
    "    label = f\"{int(round(value))}%\" \n",
    "    \n",
    "    if value == max(value):  # Customize the label for the highest value\n",
    "        ax.text(p.get_x() + p.get_width() / 2, p.get_height(), label, ha=\"center\", va=\"bottom\", fontweight=\"bold\")\n",
    "    else:\n",
    "        ax.text(p.get_x() + p.get_width() / 2, p.get_height(), label, ha=\"center\", va=\"bottom\")\n",
    "\n",
    "\n",
    "sns.despine(bottom = True, left = True)\n",
    "plt.tick_params(axis='x', which='both', bottom=False, top=False)\n",
    "plt.yticks([])\n",
    "plt.ylabel('')\n",
    "plt.xlabel('Ages')\n",
    "plt.title(' Average Defaults')\n",
    "plt.show()"
   ]
  },
  {
   "cell_type": "code",
   "execution_count": 85,
   "id": "23690050",
   "metadata": {
    "scrolled": true
   },
   "outputs": [
    {
     "data": {
      "text/plain": [
       "0.20760713553413984"
      ]
     },
     "execution_count": 85,
     "metadata": {},
     "output_type": "execute_result"
    }
   ],
   "source": [
    "df[df.age_bin == '18-25'].default.mean()"
   ]
  },
  {
   "cell_type": "code",
   "execution_count": 93,
   "id": "bc3dbd83",
   "metadata": {},
   "outputs": [
    {
     "data": {
      "text/plain": [
       "3"
      ]
     },
     "execution_count": 93,
     "metadata": {},
     "output_type": "execute_result"
    }
   ],
   "source": [
    "value = [1,2,3]\n",
    "max(value)"
   ]
  },
  {
   "cell_type": "markdown",
   "id": "aa3e4f87",
   "metadata": {},
   "source": [
    "# Question : Does age drive default?"
   ]
  },
  {
   "cell_type": "markdown",
   "id": "e23fb913",
   "metadata": {},
   "source": [
    "### Ho: Age does not have a relationship with defaults.\n",
    "\n",
    "### Ha: Age does have a relationship with defaults."
   ]
  },
  {
   "cell_type": "code",
   "execution_count": 163,
   "id": "7db9efdf",
   "metadata": {
    "scrolled": false
   },
   "outputs": [
    {
     "data": {
      "image/png": "[encoded data removed]",
      "text/plain": [
       "<Figure size 640x480 with 1 Axes>"
      ]
     },
     "metadata": {},
     "output_type": "display_data"
    }
   ],
   "source": [
    "custom_colors = ['lightseagreen', 'lightgrey', 'lightgrey', 'lightgrey', 'lightgrey', 'lightgrey', 'lightgrey', 'lightgrey', 'lightgrey', 'lightgrey']  # Replace with your desired colors\n",
    "\n",
    "ax = sns.barplot(data = df.copy, x = 'age_bin', y = 'default', errorbar = None, palette = custom_colors)\n",
    "ax = plt.gca()\n",
    "\n",
    "for p in ax.patches:\n",
    "    value = float(round(p.get_height(), 2)) * 100  # Get the height (value) of each bar\n",
    "    \n",
    "    label = f\"{int(round(value))}%\" \n",
    "    \n",
    "    if value == 21:  # Customize the label for the highest value\n",
    "        ax.text(p.get_x() + p.get_width() / 2, p.get_height(), label, ha=\"center\", va=\"bottom\", fontweight=\"bold\")\n",
    "    else:\n",
    "        ax.text(p.get_x() + p.get_width() / 2, p.get_height(), label, ha=\"center\", va=\"bottom\")\n",
    "\n",
    "\n",
    "sns.despine(bottom = True, left = True)\n",
    "plt.tick_params(axis='x', which='both', bottom=False, top=False)\n",
    "plt.yticks([])\n",
    "plt.ylabel('')\n",
    "plt.xlabel('Ages')\n",
    "plt.title(' Average Defaults')\n",
    "plt.show()"
   ]
  },
  {
   "cell_type": "markdown",
   "id": "0f7fb2d5",
   "metadata": {},
   "source": [
    "# Question : Does loan amount drive default?"
   ]
  },
  {
   "cell_type": "markdown",
   "id": "7f4f619a",
   "metadata": {},
   "source": [
    "### Ho: Loan amount does not have a relationship with defaults.\n",
    "\n",
    "### Ha: Loan amount does have a relationship with defaults."
   ]
  },
  {
   "cell_type": "code",
   "execution_count": 166,
   "id": "d2083a6b",
   "metadata": {},
   "outputs": [
    {
     "data": {
      "image/png": "[encoded data removed]",
      "text/plain": [
       "<Figure size 640x480 with 1 Axes>"
      ]
     },
     "metadata": {},
     "output_type": "display_data"
    }
   ],
   "source": [
    "custom_colors = ['lightgrey', 'lightgrey', 'lightgrey', 'lightgrey', 'lightseagreen']  # Replace with your desired colors\n",
    "\n",
    "ax = sns.barplot(data = df.copy, x = 'loan_amount_bin', y = 'default', errorbar = None, palette = custom_colors)\n",
    "ax = plt.gca()\n",
    "\n",
    "for p in ax.patches:\n",
    "    value = float(round(p.get_height(), 2)) * 100  # Get the height (value) of each bar\n",
    "    \n",
    "    label = f\"{int(round(value))}%\" \n",
    "    \n",
    "    if value == 16:  # Customize the label for the highest value\n",
    "        ax.text(p.get_x() + p.get_width() / 2, p.get_height(), label, ha=\"center\", va=\"bottom\", fontweight=\"bold\")\n",
    "    else:\n",
    "        ax.text(p.get_x() + p.get_width() / 2, p.get_height(), label, ha=\"center\", va=\"bottom\")\n",
    "\n",
    "sns.despine(bottom = True, left = True)\n",
    "plt.tick_params(axis='x', which='both', bottom=False, top=False)\n",
    "plt.yticks([])\n",
    "plt.ylabel('')\n",
    "plt.xlabel('Loan Amounts')\n",
    "plt.title(' Average Defaults')# Question : Does interest rate drive default?\n",
    "plt.show()"
   ]
  },
  {
   "cell_type": "code",
   "execution_count": 170,
   "id": "f70cac8a",
   "metadata": {},
   "outputs": [],
   "source": [
    "#function to run the pearsonr function.\n",
    "def corr(x, y):\n",
    "\n",
    "    corr, p = stats.pearsonr(x, y)\n",
    "    \n",
    "    return corr, p"
   ]
  },
  {
   "cell_type": "code",
   "execution_count": 175,
   "id": "c04d1f0f",
   "metadata": {},
   "outputs": [
    {
     "data": {
      "text/plain": [
       "(-0.1677831648713427, 0.0)"
      ]
     },
     "execution_count": 175,
     "metadata": {},
     "output_type": "execute_result"
    }
   ],
   "source": [
    "corr(df.age, df.default)"
   ]
  },
  {
   "cell_type": "code",
   "execution_count": 174,
   "id": "0bcb85be",
   "metadata": {},
   "outputs": [
    {
     "name": "stdout",
     "output_type": "stream",
     "text": [
      "-85.97673872931917 0.0\n",
      "We fail to reject null hypothesis.\n"
     ]
    }
   ],
   "source": [
    "a = .05\n",
    "\n",
    "churn_sample = df[df.default == 1 ].age\n",
    "\n",
    "overall_mean = (df.age).mean()\n",
    "\n",
    "t, p = stats.ttest_1samp(churn_sample, overall_mean)\n",
    "\n",
    "print(t, p/2)\n",
    "\n",
    "a =.05\n",
    "\n",
    "if p/2 > a:\n",
    "    \n",
    "    print(\"We fail to reject the null hypothesis.\")\n",
    "\n",
    "elif t < 0:\n",
    "    \n",
    "    print(\"We fail to reject null hypothesis.\")\n",
    "\n",
    "else:\n",
    "    \n",
    "    print(\"We reject the null hypothesis.\")\n"
   ]
  },
  {
   "cell_type": "code",
   "execution_count": null,
   "id": "a0e6f5ed",
   "metadata": {},
   "outputs": [],
   "source": []
  }
 ],
 "metadata": {
  "kernelspec": {
   "display_name": "Python 3 (ipykernel)",
   "language": "python",
   "name": "python3"
  },
  "language_info": {
   "codemirror_mode": {
    "name": "ipython",
    "version": 3
   },
   "file_extension": ".py",
   "mimetype": "text/x-python",
   "name": "python",
   "nbconvert_exporter": "python",
   "pygments_lexer": "ipython3",
   "version": "3.11.3"
  }
 },
 "nbformat": 4,
 "nbformat_minor": 5
}
